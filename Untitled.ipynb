{
 "cells": [
  {
   "cell_type": "code",
   "execution_count": 1,
   "metadata": {
    "collapsed": true
   },
   "outputs": [],
   "source": [
    "import pandas as pd"
   ]
  },
  {
   "cell_type": "code",
   "execution_count": 9,
   "metadata": {},
   "outputs": [],
   "source": [
    "df = pd.read_csv('C:/Users/tomek/zipline/meta.csv', usecols=['root_symbol', 'name', 'exchange', 'multiplier',\n",
    "                                         'tick_size', 'sector', 'sub_sector',])"
   ]
  },
  {
   "cell_type": "code",
   "execution_count": 10,
   "metadata": {},
   "outputs": [
    {
     "name": "stdout",
     "output_type": "stream",
     "text": [
      "<class 'pandas.core.frame.DataFrame'>\n",
      "RangeIndex: 308 entries, 0 to 307\n",
      "Data columns (total 7 columns):\n",
      "root_symbol    308 non-null object\n",
      "exchange       308 non-null object\n",
      "name           308 non-null object\n",
      "multiplier     308 non-null float64\n",
      "tick_size      308 non-null float64\n",
      "sector         308 non-null object\n",
      "sub_sector     308 non-null object\n",
      "dtypes: float64(2), object(5)\n",
      "memory usage: 16.9+ KB\n"
     ]
    }
   ],
   "source": [
    "df.info()"
   ]
  },
  {
   "cell_type": "code",
   "execution_count": 24,
   "metadata": {},
   "outputs": [],
   "source": [
    "expiration = pd.read_csv('C:/Users/tomek/zipline/expiration_dates.csv', usecols=['symbol', 'expiration_date'])\n",
    "expiration.index = expiration['symbol']\n",
    "del expiration['symbol']"
   ]
  },
  {
   "cell_type": "code",
   "execution_count": 25,
   "metadata": {},
   "outputs": [
    {
     "data": {
      "text/html": [
       "<div>\n",
       "<table border=\"1\" class=\"dataframe\">\n",
       "  <thead>\n",
       "    <tr style=\"text-align: right;\">\n",
       "      <th></th>\n",
       "      <th>expiration_date</th>\n",
       "    </tr>\n",
       "    <tr>\n",
       "      <th>symbol</th>\n",
       "      <th></th>\n",
       "    </tr>\n",
       "  </thead>\n",
       "  <tbody>\n",
       "    <tr>\n",
       "      <th>0DF2019</th>\n",
       "      <td>31/01/2019</td>\n",
       "    </tr>\n",
       "    <tr>\n",
       "      <th>0DF2020</th>\n",
       "      <td>31/01/2020</td>\n",
       "    </tr>\n",
       "    <tr>\n",
       "      <th>0DG2019</th>\n",
       "      <td>28/02/2019</td>\n",
       "    </tr>\n",
       "    <tr>\n",
       "      <th>0DG2020</th>\n",
       "      <td>28/02/2020</td>\n",
       "    </tr>\n",
       "    <tr>\n",
       "      <th>0DH2019</th>\n",
       "      <td>29/03/2019</td>\n",
       "    </tr>\n",
       "  </tbody>\n",
       "</table>\n",
       "</div>"
      ],
      "text/plain": [
       "        expiration_date\n",
       "symbol                 \n",
       "0DF2019      31/01/2019\n",
       "0DF2020      31/01/2020\n",
       "0DG2019      28/02/2019\n",
       "0DG2020      28/02/2020\n",
       "0DH2019      29/03/2019"
      ]
     },
     "execution_count": 25,
     "metadata": {},
     "output_type": "execute_result"
    }
   ],
   "source": [
    "expiration.head()"
   ]
  },
  {
   "cell_type": "code",
   "execution_count": 26,
   "metadata": {
    "collapsed": true
   },
   "outputs": [],
   "source": [
    "def expiry_dates(symbol):\n",
    "    return expiration.loc[symbol,'expiration_date']"
   ]
  },
  {
   "cell_type": "code",
   "execution_count": 27,
   "metadata": {},
   "outputs": [
    {
     "data": {
      "text/plain": [
       "'21/12/2018'"
      ]
     },
     "execution_count": 27,
     "metadata": {},
     "output_type": "execute_result"
    }
   ],
   "source": [
    "expiry_dates('ESZ2018')"
   ]
  },
  {
   "cell_type": "code",
   "execution_count": 29,
   "metadata": {},
   "outputs": [
    {
     "name": "stdout",
     "output_type": "stream",
     "text": [
      "dupa\n"
     ]
    }
   ],
   "source": [
    "try:\n",
    "    expiry_dates('ESF2018')\n",
    "except KeyError:\n",
    "    print('dupa')"
   ]
  },
  {
   "cell_type": "code",
   "execution_count": null,
   "metadata": {
    "collapsed": true
   },
   "outputs": [],
   "source": []
  }
 ],
 "metadata": {
  "kernelspec": {
   "display_name": "env_zipline",
   "language": "python",
   "name": "env_zipline"
  },
  "language_info": {
   "codemirror_mode": {
    "name": "ipython",
    "version": 3
   },
   "file_extension": ".py",
   "mimetype": "text/x-python",
   "name": "python",
   "nbconvert_exporter": "python",
   "pygments_lexer": "ipython3",
   "version": "3.5.5"
  }
 },
 "nbformat": 4,
 "nbformat_minor": 2
}
