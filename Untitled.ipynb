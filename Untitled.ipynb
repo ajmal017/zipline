{
 "cells": [
  {
   "cell_type": "code",
   "execution_count": 1,
   "metadata": {
    "collapsed": true
   },
   "outputs": [],
   "source": [
    "import pandas as pd"
   ]
  },
  {
   "cell_type": "code",
   "execution_count": 39,
   "metadata": {
    "collapsed": true
   },
   "outputs": [],
   "source": [
    "import quandl\n",
    "import requests\n",
    "import os\n",
    "from io import BytesIO\n",
    "from zipfile import ZipFile"
   ]
  },
  {
   "cell_type": "code",
   "execution_count": 9,
   "metadata": {},
   "outputs": [],
   "source": [
    "df = pd.read_csv('C:/Users/tomek/zipline/meta.csv', usecols=['root_symbol', 'name', 'exchange', 'multiplier',\n",
    "                                         'tick_size', 'sector', 'sub_sector',])"
   ]
  },
  {
   "cell_type": "code",
   "execution_count": 10,
   "metadata": {},
   "outputs": [
    {
     "name": "stdout",
     "output_type": "stream",
     "text": [
      "<class 'pandas.core.frame.DataFrame'>\n",
      "RangeIndex: 308 entries, 0 to 307\n",
      "Data columns (total 7 columns):\n",
      "root_symbol    308 non-null object\n",
      "exchange       308 non-null object\n",
      "name           308 non-null object\n",
      "multiplier     308 non-null float64\n",
      "tick_size      308 non-null float64\n",
      "sector         308 non-null object\n",
      "sub_sector     308 non-null object\n",
      "dtypes: float64(2), object(5)\n",
      "memory usage: 16.9+ KB\n"
     ]
    }
   ],
   "source": [
    "df.info()"
   ]
  },
  {
   "cell_type": "code",
   "execution_count": 72,
   "metadata": {},
   "outputs": [],
   "source": [
    "expiration = pd.read_csv('C:/Users/tomek/zipline/expiration_dates.csv', \n",
    "                         usecols=['symbol', 'expiration_date'], \n",
    "                         parse_dates=['expiration_date'])\n",
    "expiration.index = expiration['symbol']\n",
    "del expiration['symbol']"
   ]
  },
  {
   "cell_type": "code",
   "execution_count": 73,
   "metadata": {},
   "outputs": [
    {
     "data": {
      "text/html": [
       "<div>\n",
       "<table border=\"1\" class=\"dataframe\">\n",
       "  <thead>\n",
       "    <tr style=\"text-align: right;\">\n",
       "      <th></th>\n",
       "      <th>expiration_date</th>\n",
       "    </tr>\n",
       "    <tr>\n",
       "      <th>symbol</th>\n",
       "      <th></th>\n",
       "    </tr>\n",
       "  </thead>\n",
       "  <tbody>\n",
       "    <tr>\n",
       "      <th>0DF2019</th>\n",
       "      <td>2019-01-31</td>\n",
       "    </tr>\n",
       "    <tr>\n",
       "      <th>0DF2020</th>\n",
       "      <td>2020-01-31</td>\n",
       "    </tr>\n",
       "    <tr>\n",
       "      <th>0DG2019</th>\n",
       "      <td>2019-02-28</td>\n",
       "    </tr>\n",
       "    <tr>\n",
       "      <th>0DG2020</th>\n",
       "      <td>2020-02-28</td>\n",
       "    </tr>\n",
       "    <tr>\n",
       "      <th>0DH2019</th>\n",
       "      <td>2019-03-29</td>\n",
       "    </tr>\n",
       "  </tbody>\n",
       "</table>\n",
       "</div>"
      ],
      "text/plain": [
       "        expiration_date\n",
       "symbol                 \n",
       "0DF2019      2019-01-31\n",
       "0DF2020      2020-01-31\n",
       "0DG2019      2019-02-28\n",
       "0DG2020      2020-02-28\n",
       "0DH2019      2019-03-29"
      ]
     },
     "execution_count": 73,
     "metadata": {},
     "output_type": "execute_result"
    }
   ],
   "source": [
    "expiration.head()"
   ]
  },
  {
   "cell_type": "code",
   "execution_count": 74,
   "metadata": {
    "collapsed": true
   },
   "outputs": [],
   "source": [
    "def expiry_dates(symbol):\n",
    "    return expiration.loc[symbol,'expiration_date']"
   ]
  },
  {
   "cell_type": "code",
   "execution_count": 75,
   "metadata": {},
   "outputs": [
    {
     "data": {
      "text/plain": [
       "Timestamp('2018-12-19 00:00:00')"
      ]
     },
     "execution_count": 75,
     "metadata": {},
     "output_type": "execute_result"
    }
   ],
   "source": [
    "expiry_dates('ESZ2018') - pd.Timedelta(days=2)"
   ]
  },
  {
   "cell_type": "code",
   "execution_count": 29,
   "metadata": {},
   "outputs": [
    {
     "name": "stdout",
     "output_type": "stream",
     "text": [
      "dupa\n"
     ]
    }
   ],
   "source": [
    "try:\n",
    "    expiry_dates('ESF2018')\n",
    "except KeyError:\n",
    "    print('dupa')"
   ]
  },
  {
   "cell_type": "code",
   "execution_count": null,
   "metadata": {
    "collapsed": true
   },
   "outputs": [],
   "source": []
  },
  {
   "cell_type": "code",
   "execution_count": 31,
   "metadata": {
    "collapsed": true
   },
   "outputs": [],
   "source": [
    "api_key = os.environ.get('QUANDL_API_KEY')"
   ]
  },
  {
   "cell_type": "code",
   "execution_count": 54,
   "metadata": {
    "collapsed": true
   },
   "outputs": [],
   "source": [
    "url = 'https://www.quandl.com/api/v3/databases/CME/metadata?api_key={}'.format(api_key)"
   ]
  },
  {
   "cell_type": "code",
   "execution_count": 63,
   "metadata": {},
   "outputs": [],
   "source": [
    "r = requests.get(url)\n",
    "r.raise_for_status()"
   ]
  },
  {
   "cell_type": "code",
   "execution_count": 64,
   "metadata": {
    "collapsed": true
   },
   "outputs": [],
   "source": [
    "b = BytesIO(r.content)"
   ]
  },
  {
   "cell_type": "code",
   "execution_count": 66,
   "metadata": {},
   "outputs": [],
   "source": [
    "x = pd.read_csv(b, compression='zip')"
   ]
  },
  {
   "cell_type": "code",
   "execution_count": 67,
   "metadata": {},
   "outputs": [
    {
     "data": {
      "text/html": [
       "<div>\n",
       "<table border=\"1\" class=\"dataframe\">\n",
       "  <thead>\n",
       "    <tr style=\"text-align: right;\">\n",
       "      <th></th>\n",
       "      <th>code</th>\n",
       "      <th>name</th>\n",
       "      <th>description</th>\n",
       "      <th>refreshed_at</th>\n",
       "      <th>from_date</th>\n",
       "      <th>to_date</th>\n",
       "    </tr>\n",
       "  </thead>\n",
       "  <tbody>\n",
       "    <tr>\n",
       "      <th>0</th>\n",
       "      <td>0DF2015</td>\n",
       "      <td>Mini European 3.5% Fuel Oil Barges FOB Rdam (P...</td>\n",
       "      <td>For contract details, please see &lt;a href=http:...</td>\n",
       "      <td>2018-06-29 17:33:32</td>\n",
       "      <td>2014-02-18</td>\n",
       "      <td>2016-12-28</td>\n",
       "    </tr>\n",
       "    <tr>\n",
       "      <th>1</th>\n",
       "      <td>0DF2016</td>\n",
       "      <td>Mini European 3.5% Fuel Oil Barges FOB Rdam (P...</td>\n",
       "      <td>For contract details, please see &lt;a href=http:...</td>\n",
       "      <td>2018-06-29 17:33:32</td>\n",
       "      <td>2014-02-18</td>\n",
       "      <td>2016-02-02</td>\n",
       "    </tr>\n",
       "    <tr>\n",
       "      <th>2</th>\n",
       "      <td>0DF2017</td>\n",
       "      <td>Mini European 3.5% Fuel Oil Barges FOB Rdam (P...</td>\n",
       "      <td>For contract details, please see &lt;a href=http:...</td>\n",
       "      <td>2017-02-03 01:05:31</td>\n",
       "      <td>2014-11-21</td>\n",
       "      <td>2017-02-02</td>\n",
       "    </tr>\n",
       "    <tr>\n",
       "      <th>3</th>\n",
       "      <td>0DF2018</td>\n",
       "      <td>Mini European 3.5% Fuel Oil Barges FOB Rdam (P...</td>\n",
       "      <td>For contract details, please see &lt;a href=http:...</td>\n",
       "      <td>2018-02-03 01:07:36</td>\n",
       "      <td>2014-11-21</td>\n",
       "      <td>2018-02-02</td>\n",
       "    </tr>\n",
       "    <tr>\n",
       "      <th>4</th>\n",
       "      <td>0DF2019</td>\n",
       "      <td>Mini European 3.5% Fuel Oil Barges FOB Rdam (P...</td>\n",
       "      <td>For contract details, please see &lt;a href=http:...</td>\n",
       "      <td>2018-10-31 00:11:23</td>\n",
       "      <td>2015-02-12</td>\n",
       "      <td>2018-10-30</td>\n",
       "    </tr>\n",
       "  </tbody>\n",
       "</table>\n",
       "</div>"
      ],
      "text/plain": [
       "      code                                               name  \\\n",
       "0  0DF2015  Mini European 3.5% Fuel Oil Barges FOB Rdam (P...   \n",
       "1  0DF2016  Mini European 3.5% Fuel Oil Barges FOB Rdam (P...   \n",
       "2  0DF2017  Mini European 3.5% Fuel Oil Barges FOB Rdam (P...   \n",
       "3  0DF2018  Mini European 3.5% Fuel Oil Barges FOB Rdam (P...   \n",
       "4  0DF2019  Mini European 3.5% Fuel Oil Barges FOB Rdam (P...   \n",
       "\n",
       "                                         description         refreshed_at  \\\n",
       "0  For contract details, please see <a href=http:...  2018-06-29 17:33:32   \n",
       "1  For contract details, please see <a href=http:...  2018-06-29 17:33:32   \n",
       "2  For contract details, please see <a href=http:...  2017-02-03 01:05:31   \n",
       "3  For contract details, please see <a href=http:...  2018-02-03 01:07:36   \n",
       "4  For contract details, please see <a href=http:...  2018-10-31 00:11:23   \n",
       "\n",
       "    from_date     to_date  \n",
       "0  2014-02-18  2016-12-28  \n",
       "1  2014-02-18  2016-02-02  \n",
       "2  2014-11-21  2017-02-02  \n",
       "3  2014-11-21  2018-02-02  \n",
       "4  2015-02-12  2018-10-30  "
      ]
     },
     "execution_count": 67,
     "metadata": {},
     "output_type": "execute_result"
    }
   ],
   "source": [
    "x.head()"
   ]
  },
  {
   "cell_type": "code",
   "execution_count": 37,
   "metadata": {},
   "outputs": [
    {
     "data": {
      "text/plain": [
       "_io.BytesIO"
      ]
     },
     "execution_count": 37,
     "metadata": {},
     "output_type": "execute_result"
    }
   ],
   "source": [
    "type(b)"
   ]
  },
  {
   "cell_type": "code",
   "execution_count": 44,
   "metadata": {},
   "outputs": [],
   "source": [
    "def unzip(file):\n",
    "    with ZipFile(file) as zip_file:\n",
    "        file_names = zip_file.namelist()\n",
    "        assert len(file_names) == 1, \"Expected a single file from Quandl.\"\n",
    "        unzipped = file_names.pop()\n",
    "        with zip_file.open(prices) as table_file:\n",
    "            df = pd.read_csv(table_file)"
   ]
  },
  {
   "cell_type": "code",
   "execution_count": 105,
   "metadata": {},
   "outputs": [
    {
     "data": {
      "text/html": [
       "<div>\n",
       "<table border=\"1\" class=\"dataframe\">\n",
       "  <thead>\n",
       "    <tr style=\"text-align: right;\">\n",
       "      <th></th>\n",
       "      <th>code</th>\n",
       "      <th>name</th>\n",
       "      <th>description</th>\n",
       "      <th>refreshed_at</th>\n",
       "      <th>from_date</th>\n",
       "      <th>to_date</th>\n",
       "    </tr>\n",
       "  </thead>\n",
       "  <tbody>\n",
       "    <tr>\n",
       "      <th>0</th>\n",
       "      <td>0DF2015</td>\n",
       "      <td>Mini European 3.5% Fuel Oil Barges FOB Rdam (P...</td>\n",
       "      <td>For contract details, please see &lt;a href=http:...</td>\n",
       "      <td>2018-06-29 17:33:32</td>\n",
       "      <td>2014-02-18</td>\n",
       "      <td>2016-12-28</td>\n",
       "    </tr>\n",
       "    <tr>\n",
       "      <th>1</th>\n",
       "      <td>0DF2016</td>\n",
       "      <td>Mini European 3.5% Fuel Oil Barges FOB Rdam (P...</td>\n",
       "      <td>For contract details, please see &lt;a href=http:...</td>\n",
       "      <td>2018-06-29 17:33:32</td>\n",
       "      <td>2014-02-18</td>\n",
       "      <td>2016-02-02</td>\n",
       "    </tr>\n",
       "    <tr>\n",
       "      <th>2</th>\n",
       "      <td>0DF2017</td>\n",
       "      <td>Mini European 3.5% Fuel Oil Barges FOB Rdam (P...</td>\n",
       "      <td>For contract details, please see &lt;a href=http:...</td>\n",
       "      <td>2017-02-03 01:05:31</td>\n",
       "      <td>2014-11-21</td>\n",
       "      <td>2017-02-02</td>\n",
       "    </tr>\n",
       "    <tr>\n",
       "      <th>3</th>\n",
       "      <td>0DF2018</td>\n",
       "      <td>Mini European 3.5% Fuel Oil Barges FOB Rdam (P...</td>\n",
       "      <td>For contract details, please see &lt;a href=http:...</td>\n",
       "      <td>2018-02-03 01:07:36</td>\n",
       "      <td>2014-11-21</td>\n",
       "      <td>2018-02-02</td>\n",
       "    </tr>\n",
       "    <tr>\n",
       "      <th>4</th>\n",
       "      <td>0DF2019</td>\n",
       "      <td>Mini European 3.5% Fuel Oil Barges FOB Rdam (P...</td>\n",
       "      <td>For contract details, please see &lt;a href=http:...</td>\n",
       "      <td>2018-10-31 00:11:23</td>\n",
       "      <td>2015-02-12</td>\n",
       "      <td>2018-10-30</td>\n",
       "    </tr>\n",
       "  </tbody>\n",
       "</table>\n",
       "</div>"
      ],
      "text/plain": [
       "      code                                               name  \\\n",
       "0  0DF2015  Mini European 3.5% Fuel Oil Barges FOB Rdam (P...   \n",
       "1  0DF2016  Mini European 3.5% Fuel Oil Barges FOB Rdam (P...   \n",
       "2  0DF2017  Mini European 3.5% Fuel Oil Barges FOB Rdam (P...   \n",
       "3  0DF2018  Mini European 3.5% Fuel Oil Barges FOB Rdam (P...   \n",
       "4  0DF2019  Mini European 3.5% Fuel Oil Barges FOB Rdam (P...   \n",
       "\n",
       "                                         description         refreshed_at  \\\n",
       "0  For contract details, please see <a href=http:...  2018-06-29 17:33:32   \n",
       "1  For contract details, please see <a href=http:...  2018-06-29 17:33:32   \n",
       "2  For contract details, please see <a href=http:...  2017-02-03 01:05:31   \n",
       "3  For contract details, please see <a href=http:...  2018-02-03 01:07:36   \n",
       "4  For contract details, please see <a href=http:...  2018-10-31 00:11:23   \n",
       "\n",
       "    from_date     to_date  \n",
       "0  2014-02-18  2016-12-28  \n",
       "1  2014-02-18  2016-02-02  \n",
       "2  2014-11-21  2017-02-02  \n",
       "3  2014-11-21  2018-02-02  \n",
       "4  2015-02-12  2018-10-30  "
      ]
     },
     "execution_count": 105,
     "metadata": {},
     "output_type": "execute_result"
    }
   ],
   "source": [
    "df.head()"
   ]
  },
  {
   "cell_type": "code",
   "execution_count": 52,
   "metadata": {},
   "outputs": [],
   "source": [
    "names = pd.Series(df['name'], index=df['code'])"
   ]
  },
  {
   "cell_type": "code",
   "execution_count": 103,
   "metadata": {},
   "outputs": [
    {
     "data": {
      "text/plain": [
       "code\n",
       "0DF2015    Mini European 3.5% Fuel Oil Barges FOB Rdam (P...\n",
       "0DF2016    Mini European 3.5% Fuel Oil Barges FOB Rdam (P...\n",
       "0DF2017    Mini European 3.5% Fuel Oil Barges FOB Rdam (P...\n",
       "0DF2018    Mini European 3.5% Fuel Oil Barges FOB Rdam (P...\n",
       "0DF2019    Mini European 3.5% Fuel Oil Barges FOB Rdam (P...\n",
       "Name: name, dtype: object"
      ]
     },
     "execution_count": 103,
     "metadata": {},
     "output_type": "execute_result"
    }
   ],
   "source": [
    "names.head()"
   ]
  },
  {
   "cell_type": "code",
   "execution_count": 104,
   "metadata": {},
   "outputs": [
    {
     "data": {
      "text/plain": [
       "'E-mini S&P 500 Futures, December 2018 (ESZ2018)'"
      ]
     },
     "execution_count": 104,
     "metadata": {},
     "output_type": "execute_result"
    }
   ],
   "source": [
    "names.loc['ESZ2018']"
   ]
  },
  {
   "cell_type": "code",
   "execution_count": 50,
   "metadata": {
    "collapsed": true
   },
   "outputs": [],
   "source": [
    "names.index = df['code']"
   ]
  },
  {
   "cell_type": "code",
   "execution_count": 83,
   "metadata": {
    "collapsed": true
   },
   "outputs": [],
   "source": [
    "EXPIRATION_DATES = 'C:/Users/tomek/zipline/expiration_dates.csv'\n",
    "# lookup table used to get contract expiration dates\n",
    "expiration_table = pd.read_csv(EXPIRATION_DATES,\n",
    "                               usecols=['symbol', 'expiration_date'],\n",
    "                               parse_dates=['expiration_date'], \n",
    "                              index_col='symbol')"
   ]
  },
  {
   "cell_type": "code",
   "execution_count": 84,
   "metadata": {},
   "outputs": [
    {
     "data": {
      "text/html": [
       "<div>\n",
       "<table border=\"1\" class=\"dataframe\">\n",
       "  <thead>\n",
       "    <tr style=\"text-align: right;\">\n",
       "      <th></th>\n",
       "      <th>expiration_date</th>\n",
       "    </tr>\n",
       "    <tr>\n",
       "      <th>symbol</th>\n",
       "      <th></th>\n",
       "    </tr>\n",
       "  </thead>\n",
       "  <tbody>\n",
       "    <tr>\n",
       "      <th>0DF2019</th>\n",
       "      <td>2019-01-31</td>\n",
       "    </tr>\n",
       "    <tr>\n",
       "      <th>0DF2020</th>\n",
       "      <td>2020-01-31</td>\n",
       "    </tr>\n",
       "    <tr>\n",
       "      <th>0DG2019</th>\n",
       "      <td>2019-02-28</td>\n",
       "    </tr>\n",
       "    <tr>\n",
       "      <th>0DG2020</th>\n",
       "      <td>2020-02-28</td>\n",
       "    </tr>\n",
       "    <tr>\n",
       "      <th>0DH2019</th>\n",
       "      <td>2019-03-29</td>\n",
       "    </tr>\n",
       "  </tbody>\n",
       "</table>\n",
       "</div>"
      ],
      "text/plain": [
       "        expiration_date\n",
       "symbol                 \n",
       "0DF2019      2019-01-31\n",
       "0DF2020      2020-01-31\n",
       "0DG2019      2019-02-28\n",
       "0DG2020      2020-02-28\n",
       "0DH2019      2019-03-29"
      ]
     },
     "execution_count": 84,
     "metadata": {},
     "output_type": "execute_result"
    }
   ],
   "source": [
    "expiration_table.head()"
   ]
  },
  {
   "cell_type": "code",
   "execution_count": 90,
   "metadata": {
    "collapsed": true
   },
   "outputs": [],
   "source": [
    "import calendar as cal"
   ]
  },
  {
   "cell_type": "code",
   "execution_count": 88,
   "metadata": {
    "collapsed": true
   },
   "outputs": [],
   "source": [
    "def third_friday(symbol):\n",
    "    \"\"\"\n",
    "    Return third Friday of the expiration month for the passed symbol.\n",
    "    Used as a fallback if real expiration date cannot be found.\n",
    "    \"\"\"\n",
    "    year = int(symbol[-4:])\n",
    "    month = int(CME_CODE_TO_MONTH[symbol[-5]])\n",
    "    c = cal.Calendar(firstweekday=cal.SATURDAY)\n",
    "    day = c.monthdatescalendar(year, month)[2][-1]\n",
    "    return pd.to_datetime('{}'.format(day))"
   ]
  },
  {
   "cell_type": "code",
   "execution_count": 100,
   "metadata": {},
   "outputs": [
    {
     "data": {
      "text/plain": [
       "Timestamp('2019-10-18 00:00:00')"
      ]
     },
     "execution_count": 100,
     "metadata": {},
     "output_type": "execute_result"
    }
   ],
   "source": [
    "third_friday('ZNCV2019')"
   ]
  },
  {
   "cell_type": "code",
   "execution_count": 94,
   "metadata": {},
   "outputs": [
    {
     "name": "stdout",
     "output_type": "stream",
     "text": [
      "<class 'pandas.core.frame.DataFrame'>\n",
      "Index: 6020 entries, 0DF2019 to ZZ2019\n",
      "Data columns (total 1 columns):\n",
      "expiration_date    6020 non-null datetime64[ns]\n",
      "dtypes: datetime64[ns](1)\n",
      "memory usage: 94.1+ KB\n"
     ]
    }
   ],
   "source": [
    "expiration_table.info()"
   ]
  },
  {
   "cell_type": "code",
   "execution_count": null,
   "metadata": {
    "collapsed": true
   },
   "outputs": [],
   "source": []
  }
 ],
 "metadata": {
  "kernelspec": {
   "display_name": "env_zipline",
   "language": "python",
   "name": "env_zipline"
  },
  "language_info": {
   "codemirror_mode": {
    "name": "ipython",
    "version": 3
   },
   "file_extension": ".py",
   "mimetype": "text/x-python",
   "name": "python",
   "nbconvert_exporter": "python",
   "pygments_lexer": "ipython3",
   "version": "3.5.5"
  }
 },
 "nbformat": 4,
 "nbformat_minor": 2
}
