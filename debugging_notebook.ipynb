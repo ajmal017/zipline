{
 "cells": [
  {
   "cell_type": "code",
   "execution_count": 1,
   "metadata": {
    "collapsed": true
   },
   "outputs": [],
   "source": [
    "import pandas as pd"
   ]
  },
  {
   "cell_type": "code",
   "execution_count": 2,
   "metadata": {},
   "outputs": [],
   "source": [
    "from bundles.fut_bundle import load_data, gen_asset_metadata"
   ]
  },
  {
   "cell_type": "code",
   "execution_count": 3,
   "metadata": {},
   "outputs": [
    {
     "name": "stderr",
     "output_type": "stream",
     "text": [
      "100%|███████████████████████████████████████████████████████████████████████████| 38344/38344 [01:16<00:00, 498.13it/s]\n"
     ]
    }
   ],
   "source": [
    "raw_data = load_data()"
   ]
  },
  {
   "cell_type": "code",
   "execution_count": 6,
   "metadata": {},
   "outputs": [
    {
     "data": {
      "text/html": [
       "<div>\n",
       "<table border=\"1\" class=\"dataframe\">\n",
       "  <thead>\n",
       "    <tr style=\"text-align: right;\">\n",
       "      <th></th>\n",
       "      <th>date</th>\n",
       "      <th>open</th>\n",
       "      <th>high</th>\n",
       "      <th>low</th>\n",
       "      <th>last</th>\n",
       "      <th>change</th>\n",
       "      <th>settle</th>\n",
       "      <th>volume</th>\n",
       "      <th>open interest</th>\n",
       "      <th>symbol</th>\n",
       "      <th>close</th>\n",
       "    </tr>\n",
       "  </thead>\n",
       "  <tbody>\n",
       "    <tr>\n",
       "      <th>0</th>\n",
       "      <td>2014-02-18</td>\n",
       "      <td>NaN</td>\n",
       "      <td>NaN</td>\n",
       "      <td>NaN</td>\n",
       "      <td>NaN</td>\n",
       "      <td>4.596</td>\n",
       "      <td>578.571</td>\n",
       "      <td>0.0</td>\n",
       "      <td>10.0</td>\n",
       "      <td>0DF2015</td>\n",
       "      <td>578.571</td>\n",
       "    </tr>\n",
       "    <tr>\n",
       "      <th>1</th>\n",
       "      <td>2014-02-19</td>\n",
       "      <td>NaN</td>\n",
       "      <td>NaN</td>\n",
       "      <td>NaN</td>\n",
       "      <td>NaN</td>\n",
       "      <td>0.862</td>\n",
       "      <td>577.709</td>\n",
       "      <td>0.0</td>\n",
       "      <td>10.0</td>\n",
       "      <td>0DF2015</td>\n",
       "      <td>577.709</td>\n",
       "    </tr>\n",
       "    <tr>\n",
       "      <th>2</th>\n",
       "      <td>2014-02-20</td>\n",
       "      <td>NaN</td>\n",
       "      <td>NaN</td>\n",
       "      <td>NaN</td>\n",
       "      <td>NaN</td>\n",
       "      <td>0.925</td>\n",
       "      <td>578.634</td>\n",
       "      <td>0.0</td>\n",
       "      <td>10.0</td>\n",
       "      <td>0DF2015</td>\n",
       "      <td>578.634</td>\n",
       "    </tr>\n",
       "    <tr>\n",
       "      <th>3</th>\n",
       "      <td>2014-02-21</td>\n",
       "      <td>NaN</td>\n",
       "      <td>NaN</td>\n",
       "      <td>NaN</td>\n",
       "      <td>NaN</td>\n",
       "      <td>1.768</td>\n",
       "      <td>576.866</td>\n",
       "      <td>3.0</td>\n",
       "      <td>10.0</td>\n",
       "      <td>0DF2015</td>\n",
       "      <td>576.866</td>\n",
       "    </tr>\n",
       "    <tr>\n",
       "      <th>4</th>\n",
       "      <td>2014-02-24</td>\n",
       "      <td>NaN</td>\n",
       "      <td>NaN</td>\n",
       "      <td>NaN</td>\n",
       "      <td>NaN</td>\n",
       "      <td>3.261</td>\n",
       "      <td>580.127</td>\n",
       "      <td>0.0</td>\n",
       "      <td>13.0</td>\n",
       "      <td>0DF2015</td>\n",
       "      <td>580.127</td>\n",
       "    </tr>\n",
       "  </tbody>\n",
       "</table>\n",
       "</div>"
      ],
      "text/plain": [
       "        date  open  high  low  last  change   settle  volume  open interest  \\\n",
       "0 2014-02-18   NaN   NaN  NaN   NaN   4.596  578.571     0.0           10.0   \n",
       "1 2014-02-19   NaN   NaN  NaN   NaN   0.862  577.709     0.0           10.0   \n",
       "2 2014-02-20   NaN   NaN  NaN   NaN   0.925  578.634     0.0           10.0   \n",
       "3 2014-02-21   NaN   NaN  NaN   NaN   1.768  576.866     3.0           10.0   \n",
       "4 2014-02-24   NaN   NaN  NaN   NaN   3.261  580.127     0.0           13.0   \n",
       "\n",
       "    symbol    close  \n",
       "0  0DF2015  578.571  \n",
       "1  0DF2015  577.709  \n",
       "2  0DF2015  578.634  \n",
       "3  0DF2015  576.866  \n",
       "4  0DF2015  580.127  "
      ]
     },
     "execution_count": 6,
     "metadata": {},
     "output_type": "execute_result"
    }
   ],
   "source": [
    "raw_data.head()"
   ]
  },
  {
   "cell_type": "code",
   "execution_count": 7,
   "metadata": {},
   "outputs": [
    {
     "data": {
      "text/plain": [
       "date             14875546\n",
       "open              5641888\n",
       "high              5739690\n",
       "low               5740297\n",
       "last               702195\n",
       "change            8462286\n",
       "settle           14866920\n",
       "volume           14734168\n",
       "open interest    14754220\n",
       "symbol           14875546\n",
       "close            14866920\n",
       "dtype: int64"
      ]
     },
     "execution_count": 7,
     "metadata": {},
     "output_type": "execute_result"
    }
   ],
   "source": [
    "raw_data.count()"
   ]
  },
  {
   "cell_type": "code",
   "execution_count": 8,
   "metadata": {},
   "outputs": [
    {
     "name": "stdout",
     "output_type": "stream",
     "text": [
      " | Generating asset metadata.\n"
     ]
    }
   ],
   "source": [
    "asset_metadata = gen_asset_metadata(raw_data)"
   ]
  },
  {
   "cell_type": "code",
   "execution_count": 9,
   "metadata": {},
   "outputs": [
    {
     "data": {
      "text/html": [
       "<div>\n",
       "<table border=\"1\" class=\"dataframe\">\n",
       "  <thead>\n",
       "    <tr style=\"text-align: right;\">\n",
       "      <th></th>\n",
       "      <th>symbol</th>\n",
       "      <th>start_date</th>\n",
       "      <th>end_date</th>\n",
       "      <th>first_traded</th>\n",
       "      <th>root_symbol</th>\n",
       "      <th>name</th>\n",
       "      <th>exchange</th>\n",
       "      <th>multiplier</th>\n",
       "      <th>tick_size</th>\n",
       "      <th>auto_close_date</th>\n",
       "      <th>notice_date</th>\n",
       "      <th>expiration_date</th>\n",
       "    </tr>\n",
       "  </thead>\n",
       "  <tbody>\n",
       "    <tr>\n",
       "      <th>0</th>\n",
       "      <td>SU1959</td>\n",
       "      <td>1959-07-01</td>\n",
       "      <td>1959-09-21</td>\n",
       "      <td>1959-07-01</td>\n",
       "      <td>S</td>\n",
       "      <td>Soybean Futures</td>\n",
       "      <td>CBT</td>\n",
       "      <td>50.0</td>\n",
       "      <td>0.02</td>\n",
       "      <td>1959-09-21</td>\n",
       "      <td>1959-09-21</td>\n",
       "      <td>1959-09-18</td>\n",
       "    </tr>\n",
       "    <tr>\n",
       "      <th>1</th>\n",
       "      <td>BOU1959</td>\n",
       "      <td>1959-07-01</td>\n",
       "      <td>1959-09-21</td>\n",
       "      <td>1959-07-01</td>\n",
       "      <td>BO</td>\n",
       "      <td>Soybean Oil Futures</td>\n",
       "      <td>CBT</td>\n",
       "      <td>600.0</td>\n",
       "      <td>0.01</td>\n",
       "      <td>1959-09-21</td>\n",
       "      <td>1959-09-21</td>\n",
       "      <td>1959-09-18</td>\n",
       "    </tr>\n",
       "    <tr>\n",
       "      <th>2</th>\n",
       "      <td>CU1959</td>\n",
       "      <td>1959-07-01</td>\n",
       "      <td>1959-09-21</td>\n",
       "      <td>1959-07-01</td>\n",
       "      <td>C</td>\n",
       "      <td>Corn Futures</td>\n",
       "      <td>CBT</td>\n",
       "      <td>50.0</td>\n",
       "      <td>0.02</td>\n",
       "      <td>1959-09-21</td>\n",
       "      <td>1959-09-21</td>\n",
       "      <td>1959-09-18</td>\n",
       "    </tr>\n",
       "    <tr>\n",
       "      <th>3</th>\n",
       "      <td>BOV1959</td>\n",
       "      <td>1959-07-01</td>\n",
       "      <td>1959-10-21</td>\n",
       "      <td>1959-07-01</td>\n",
       "      <td>BO</td>\n",
       "      <td>Soybean Oil Futures</td>\n",
       "      <td>CBT</td>\n",
       "      <td>600.0</td>\n",
       "      <td>0.01</td>\n",
       "      <td>1959-10-21</td>\n",
       "      <td>1959-10-21</td>\n",
       "      <td>1959-10-16</td>\n",
       "    </tr>\n",
       "    <tr>\n",
       "      <th>4</th>\n",
       "      <td>HGV1959</td>\n",
       "      <td>1959-07-01</td>\n",
       "      <td>1959-10-28</td>\n",
       "      <td>1959-07-01</td>\n",
       "      <td>HG</td>\n",
       "      <td>Copper Futures</td>\n",
       "      <td>COMEX</td>\n",
       "      <td>250.0</td>\n",
       "      <td>0.05</td>\n",
       "      <td>1959-10-28</td>\n",
       "      <td>1959-10-28</td>\n",
       "      <td>1959-10-16</td>\n",
       "    </tr>\n",
       "  </tbody>\n",
       "</table>\n",
       "</div>"
      ],
      "text/plain": [
       "    symbol start_date   end_date first_traded root_symbol  \\\n",
       "0   SU1959 1959-07-01 1959-09-21   1959-07-01           S   \n",
       "1  BOU1959 1959-07-01 1959-09-21   1959-07-01          BO   \n",
       "2   CU1959 1959-07-01 1959-09-21   1959-07-01           C   \n",
       "3  BOV1959 1959-07-01 1959-10-21   1959-07-01          BO   \n",
       "4  HGV1959 1959-07-01 1959-10-28   1959-07-01          HG   \n",
       "\n",
       "                  name exchange  multiplier  tick_size auto_close_date  \\\n",
       "0      Soybean Futures      CBT        50.0       0.02      1959-09-21   \n",
       "1  Soybean Oil Futures      CBT       600.0       0.01      1959-09-21   \n",
       "2         Corn Futures      CBT        50.0       0.02      1959-09-21   \n",
       "3  Soybean Oil Futures      CBT       600.0       0.01      1959-10-21   \n",
       "4       Copper Futures    COMEX       250.0       0.05      1959-10-28   \n",
       "\n",
       "  notice_date expiration_date  \n",
       "0  1959-09-21      1959-09-18  \n",
       "1  1959-09-21      1959-09-18  \n",
       "2  1959-09-21      1959-09-18  \n",
       "3  1959-10-21      1959-10-16  \n",
       "4  1959-10-28      1959-10-16  "
      ]
     },
     "execution_count": 9,
     "metadata": {},
     "output_type": "execute_result"
    }
   ],
   "source": [
    "asset_metadata.head()"
   ]
  },
  {
   "cell_type": "code",
   "execution_count": 8,
   "metadata": {},
   "outputs": [
    {
     "data": {
      "text/plain": [
       "symbol             38344\n",
       "start_date         38344\n",
       "end_date           38344\n",
       "first_traded       38344\n",
       "root_symbol        38344\n",
       "exchange           21124\n",
       "Name               21124\n",
       "multiplier         21032\n",
       "tick_size          21032\n",
       "auto_close_date    38344\n",
       "notice_date        38344\n",
       "expiration_date    38344\n",
       "dtype: int64"
      ]
     },
     "execution_count": 8,
     "metadata": {},
     "output_type": "execute_result"
    }
   ],
   "source": [
    "asset_metadata.count()"
   ]
  },
  {
   "cell_type": "code",
   "execution_count": 9,
   "metadata": {},
   "outputs": [],
   "source": [
    "symbols = asset_metadata.symbol.unique()"
   ]
  },
  {
   "cell_type": "code",
   "execution_count": 10,
   "metadata": {},
   "outputs": [
    {
     "data": {
      "text/plain": [
       "array(['SU1959', 'BOU1959', 'CU1959', ..., 'GLIJ2021', 'RUH2021', 'ZZ2019'], dtype=object)"
      ]
     },
     "execution_count": 10,
     "metadata": {},
     "output_type": "execute_result"
    }
   ],
   "source": [
    "symbols"
   ]
  },
  {
   "cell_type": "code",
   "execution_count": 11,
   "metadata": {},
   "outputs": [
    {
     "data": {
      "text/plain": [
       "38344"
      ]
     },
     "execution_count": 11,
     "metadata": {},
     "output_type": "execute_result"
    }
   ],
   "source": [
    "symbols.size"
   ]
  },
  {
   "cell_type": "code",
   "execution_count": 12,
   "metadata": {},
   "outputs": [
    {
     "data": {
      "text/plain": [
       "symbol             38344\n",
       "start_date         38344\n",
       "end_date           38344\n",
       "first_traded       38344\n",
       "root_symbol        38344\n",
       "exchange           21124\n",
       "Name               21124\n",
       "multiplier         21032\n",
       "tick_size          21032\n",
       "auto_close_date    38344\n",
       "notice_date        38344\n",
       "expiration_date    38344\n",
       "dtype: int64"
      ]
     },
     "execution_count": 12,
     "metadata": {},
     "output_type": "execute_result"
    }
   ],
   "source": [
    "asset_metadata[asset_metadata['symbol'].isin(symbols)].count()"
   ]
  },
  {
   "cell_type": "code",
   "execution_count": 13,
   "metadata": {},
   "outputs": [
    {
     "data": {
      "text/html": [
       "<div>\n",
       "<table border=\"1\" class=\"dataframe\">\n",
       "  <thead>\n",
       "    <tr style=\"text-align: right;\">\n",
       "      <th></th>\n",
       "      <th>symbol</th>\n",
       "      <th>start_date</th>\n",
       "      <th>end_date</th>\n",
       "      <th>first_traded</th>\n",
       "      <th>root_symbol</th>\n",
       "      <th>exchange</th>\n",
       "      <th>Name</th>\n",
       "      <th>multiplier</th>\n",
       "      <th>tick_size</th>\n",
       "      <th>auto_close_date</th>\n",
       "      <th>notice_date</th>\n",
       "      <th>expiration_date</th>\n",
       "    </tr>\n",
       "  </thead>\n",
       "  <tbody>\n",
       "  </tbody>\n",
       "</table>\n",
       "</div>"
      ],
      "text/plain": [
       "Empty DataFrame\n",
       "Columns: [symbol, start_date, end_date, first_traded, root_symbol, exchange, Name, multiplier, tick_size, auto_close_date, notice_date, expiration_date]\n",
       "Index: []"
      ]
     },
     "execution_count": 13,
     "metadata": {},
     "output_type": "execute_result"
    }
   ],
   "source": [
    "asset_metadata[asset_metadata.symbol.duplicated()]"
   ]
  },
  {
   "cell_type": "code",
   "execution_count": null,
   "metadata": {
    "collapsed": true
   },
   "outputs": [],
   "source": []
  }
 ],
 "metadata": {
  "kernelspec": {
   "display_name": "env_zipline",
   "language": "python",
   "name": "env_zipline"
  },
  "language_info": {
   "codemirror_mode": {
    "name": "ipython",
    "version": 3
   },
   "file_extension": ".py",
   "mimetype": "text/x-python",
   "name": "python",
   "nbconvert_exporter": "python",
   "pygments_lexer": "ipython3",
   "version": "3.5.5"
  }
 },
 "nbformat": 4,
 "nbformat_minor": 2
}
