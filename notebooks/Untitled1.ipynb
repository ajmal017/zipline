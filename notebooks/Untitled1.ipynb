{
 "cells": [
  {
   "cell_type": "code",
   "execution_count": 1,
   "metadata": {
    "collapsed": true
   },
   "outputs": [],
   "source": [
    "import os\n",
    "from io import BytesIO\n",
    "import pandas as pd\n",
    "import requests"
   ]
  },
  {
   "cell_type": "code",
   "execution_count": 2,
   "metadata": {},
   "outputs": [],
   "source": [
    "from expiration_downloader import ExpirationDownloader"
   ]
  },
  {
   "cell_type": "code",
   "execution_count": 3,
   "metadata": {},
   "outputs": [],
   "source": [
    "api_key = os.environ.get('QUANDL_API_KEY')"
   ]
  },
  {
   "cell_type": "code",
   "execution_count": 4,
   "metadata": {
    "collapsed": true
   },
   "outputs": [],
   "source": [
    "def fetch_table(api_key, show_progress=False):\n",
    "    \"\"\"\n",
    "    Return quandl spec file with a list of all available contracts.\n",
    "    \"\"\"\n",
    "    if show_progress:\n",
    "        log.info('Downloading metadata file from quandl')\n",
    "\n",
    "    r = requests.get('https://www.quandl.com/api/v3/databases/CME/metadata?api_key={}'.format(api_key))\n",
    "    r.raise_for_status()\n",
    "    return pd.read_csv(BytesIO(r.content), compression='zip', parse_dates=['from_date', 'to_date'])"
   ]
  },
  {
   "cell_type": "code",
   "execution_count": 5,
   "metadata": {},
   "outputs": [],
   "source": [
    "table = fetch_table(api_key)"
   ]
  },
  {
   "cell_type": "code",
   "execution_count": 6,
   "metadata": {},
   "outputs": [
    {
     "data": {
      "text/html": [
       "<div>\n",
       "<table border=\"1\" class=\"dataframe\">\n",
       "  <thead>\n",
       "    <tr style=\"text-align: right;\">\n",
       "      <th></th>\n",
       "      <th>code</th>\n",
       "      <th>name</th>\n",
       "      <th>description</th>\n",
       "      <th>refreshed_at</th>\n",
       "      <th>from_date</th>\n",
       "      <th>to_date</th>\n",
       "    </tr>\n",
       "  </thead>\n",
       "  <tbody>\n",
       "    <tr>\n",
       "      <th>0</th>\n",
       "      <td>0DF2015</td>\n",
       "      <td>Mini European 3.5% Fuel Oil Barges FOB Rdam (P...</td>\n",
       "      <td>For contract details, please see &lt;a href=http:...</td>\n",
       "      <td>2018-06-29 17:33:32</td>\n",
       "      <td>2014-02-18</td>\n",
       "      <td>2016-12-28</td>\n",
       "    </tr>\n",
       "    <tr>\n",
       "      <th>1</th>\n",
       "      <td>0DF2016</td>\n",
       "      <td>Mini European 3.5% Fuel Oil Barges FOB Rdam (P...</td>\n",
       "      <td>For contract details, please see &lt;a href=http:...</td>\n",
       "      <td>2018-06-29 17:33:32</td>\n",
       "      <td>2014-02-18</td>\n",
       "      <td>2016-02-02</td>\n",
       "    </tr>\n",
       "    <tr>\n",
       "      <th>2</th>\n",
       "      <td>0DF2017</td>\n",
       "      <td>Mini European 3.5% Fuel Oil Barges FOB Rdam (P...</td>\n",
       "      <td>For contract details, please see &lt;a href=http:...</td>\n",
       "      <td>2017-02-03 01:05:31</td>\n",
       "      <td>2014-11-21</td>\n",
       "      <td>2017-02-02</td>\n",
       "    </tr>\n",
       "    <tr>\n",
       "      <th>3</th>\n",
       "      <td>0DF2018</td>\n",
       "      <td>Mini European 3.5% Fuel Oil Barges FOB Rdam (P...</td>\n",
       "      <td>For contract details, please see &lt;a href=http:...</td>\n",
       "      <td>2018-02-03 01:07:36</td>\n",
       "      <td>2014-11-21</td>\n",
       "      <td>2018-02-02</td>\n",
       "    </tr>\n",
       "    <tr>\n",
       "      <th>4</th>\n",
       "      <td>0DF2019</td>\n",
       "      <td>Mini European 3.5% Fuel Oil Barges FOB Rdam (P...</td>\n",
       "      <td>For contract details, please see &lt;a href=http:...</td>\n",
       "      <td>2018-10-31 00:11:23</td>\n",
       "      <td>2015-02-12</td>\n",
       "      <td>2018-10-30</td>\n",
       "    </tr>\n",
       "  </tbody>\n",
       "</table>\n",
       "</div>"
      ],
      "text/plain": [
       "      code                                               name  \\\n",
       "0  0DF2015  Mini European 3.5% Fuel Oil Barges FOB Rdam (P...   \n",
       "1  0DF2016  Mini European 3.5% Fuel Oil Barges FOB Rdam (P...   \n",
       "2  0DF2017  Mini European 3.5% Fuel Oil Barges FOB Rdam (P...   \n",
       "3  0DF2018  Mini European 3.5% Fuel Oil Barges FOB Rdam (P...   \n",
       "4  0DF2019  Mini European 3.5% Fuel Oil Barges FOB Rdam (P...   \n",
       "\n",
       "                                         description         refreshed_at  \\\n",
       "0  For contract details, please see <a href=http:...  2018-06-29 17:33:32   \n",
       "1  For contract details, please see <a href=http:...  2018-06-29 17:33:32   \n",
       "2  For contract details, please see <a href=http:...  2017-02-03 01:05:31   \n",
       "3  For contract details, please see <a href=http:...  2018-02-03 01:07:36   \n",
       "4  For contract details, please see <a href=http:...  2018-10-31 00:11:23   \n",
       "\n",
       "   from_date    to_date  \n",
       "0 2014-02-18 2016-12-28  \n",
       "1 2014-02-18 2016-02-02  \n",
       "2 2014-11-21 2017-02-02  \n",
       "3 2014-11-21 2018-02-02  \n",
       "4 2015-02-12 2018-10-30  "
      ]
     },
     "execution_count": 6,
     "metadata": {},
     "output_type": "execute_result"
    }
   ],
   "source": [
    "table.head()"
   ]
  },
  {
   "cell_type": "code",
   "execution_count": 7,
   "metadata": {},
   "outputs": [],
   "source": [
    "d = ExpirationDownloader(table)"
   ]
  },
  {
   "cell_type": "code",
   "execution_count": 8,
   "metadata": {},
   "outputs": [
    {
     "data": {
      "text/html": [
       "<div>\n",
       "<table border=\"1\" class=\"dataframe\">\n",
       "  <thead>\n",
       "    <tr style=\"text-align: right;\">\n",
       "      <th></th>\n",
       "      <th>symbol</th>\n",
       "      <th>name</th>\n",
       "      <th>description</th>\n",
       "      <th>refreshed_at</th>\n",
       "      <th>from_date</th>\n",
       "      <th>to_date</th>\n",
       "      <th>year</th>\n",
       "      <th>root_symbol</th>\n",
       "      <th>exch_symbol</th>\n",
       "      <th>contract month</th>\n",
       "      <th>first trade</th>\n",
       "      <th>expiration_date</th>\n",
       "      <th>settlement</th>\n",
       "    </tr>\n",
       "  </thead>\n",
       "  <tbody>\n",
       "    <tr>\n",
       "      <th>0</th>\n",
       "      <td>0DF2019</td>\n",
       "      <td>Mini European 3.5% Fuel Oil Barges FOB Rdam (P...</td>\n",
       "      <td>http://www.cmegroup.com/trading/energy/refined...</td>\n",
       "      <td>2018-10-31 00:11:23</td>\n",
       "      <td>2015-02-12</td>\n",
       "      <td>2018-10-30</td>\n",
       "      <td>2019</td>\n",
       "      <td>0D</td>\n",
       "      <td>0DF19</td>\n",
       "      <td>January 2019 Mini European 3.5% Fuel Oil Barge...</td>\n",
       "      <td>2015-01-02</td>\n",
       "      <td>2019-01-31</td>\n",
       "      <td>2019-02-04</td>\n",
       "    </tr>\n",
       "    <tr>\n",
       "      <th>1</th>\n",
       "      <td>0DF2020</td>\n",
       "      <td>Mini European 3.5% Fuel Oil Barges FOB Rdam (P...</td>\n",
       "      <td>http://www.cmegroup.com/trading/energy/refined...</td>\n",
       "      <td>2018-10-31 00:11:23</td>\n",
       "      <td>2017-12-04</td>\n",
       "      <td>2018-10-30</td>\n",
       "      <td>2020</td>\n",
       "      <td>0D</td>\n",
       "      <td>0DF20</td>\n",
       "      <td>January 2020 Mini European 3.5% Fuel Oil Barge...</td>\n",
       "      <td>2016-01-04</td>\n",
       "      <td>2020-01-31</td>\n",
       "      <td>2020-02-04</td>\n",
       "    </tr>\n",
       "    <tr>\n",
       "      <th>2</th>\n",
       "      <td>0DG2019</td>\n",
       "      <td>Mini European 3.5% Fuel Oil Barges FOB Rdam (P...</td>\n",
       "      <td>http://www.cmegroup.com/trading/energy/refined...</td>\n",
       "      <td>2018-10-31 00:11:23</td>\n",
       "      <td>2015-02-12</td>\n",
       "      <td>2018-10-30</td>\n",
       "      <td>2019</td>\n",
       "      <td>0D</td>\n",
       "      <td>0DG19</td>\n",
       "      <td>February 2019 Mini European 3.5% Fuel Oil Barg...</td>\n",
       "      <td>2015-01-02</td>\n",
       "      <td>2019-02-28</td>\n",
       "      <td>2019-03-04</td>\n",
       "    </tr>\n",
       "    <tr>\n",
       "      <th>3</th>\n",
       "      <td>0DG2020</td>\n",
       "      <td>Mini European 3.5% Fuel Oil Barges FOB Rdam (P...</td>\n",
       "      <td>http://www.cmegroup.com/trading/energy/refined...</td>\n",
       "      <td>2018-10-31 00:11:23</td>\n",
       "      <td>2017-12-04</td>\n",
       "      <td>2018-10-30</td>\n",
       "      <td>2020</td>\n",
       "      <td>0D</td>\n",
       "      <td>0DG20</td>\n",
       "      <td>February 2020 Mini European 3.5% Fuel Oil Barg...</td>\n",
       "      <td>2016-01-04</td>\n",
       "      <td>2020-02-28</td>\n",
       "      <td>2020-03-03</td>\n",
       "    </tr>\n",
       "    <tr>\n",
       "      <th>4</th>\n",
       "      <td>0DH2019</td>\n",
       "      <td>Mini European 3.5% Fuel Oil Barges FOB Rdam (P...</td>\n",
       "      <td>http://www.cmegroup.com/trading/energy/refined...</td>\n",
       "      <td>2018-10-31 00:11:23</td>\n",
       "      <td>2015-02-12</td>\n",
       "      <td>2018-10-30</td>\n",
       "      <td>2019</td>\n",
       "      <td>0D</td>\n",
       "      <td>0DH19</td>\n",
       "      <td>March 2019 Mini European 3.5% Fuel Oil Barges ...</td>\n",
       "      <td>2015-01-02</td>\n",
       "      <td>2019-03-29</td>\n",
       "      <td>2019-04-02</td>\n",
       "    </tr>\n",
       "  </tbody>\n",
       "</table>\n",
       "</div>"
      ],
      "text/plain": [
       "    symbol                                               name  \\\n",
       "0  0DF2019  Mini European 3.5% Fuel Oil Barges FOB Rdam (P...   \n",
       "1  0DF2020  Mini European 3.5% Fuel Oil Barges FOB Rdam (P...   \n",
       "2  0DG2019  Mini European 3.5% Fuel Oil Barges FOB Rdam (P...   \n",
       "3  0DG2020  Mini European 3.5% Fuel Oil Barges FOB Rdam (P...   \n",
       "4  0DH2019  Mini European 3.5% Fuel Oil Barges FOB Rdam (P...   \n",
       "\n",
       "                                         description         refreshed_at  \\\n",
       "0  http://www.cmegroup.com/trading/energy/refined...  2018-10-31 00:11:23   \n",
       "1  http://www.cmegroup.com/trading/energy/refined...  2018-10-31 00:11:23   \n",
       "2  http://www.cmegroup.com/trading/energy/refined...  2018-10-31 00:11:23   \n",
       "3  http://www.cmegroup.com/trading/energy/refined...  2018-10-31 00:11:23   \n",
       "4  http://www.cmegroup.com/trading/energy/refined...  2018-10-31 00:11:23   \n",
       "\n",
       "   from_date    to_date  year root_symbol exch_symbol  \\\n",
       "0 2015-02-12 2018-10-30  2019          0D       0DF19   \n",
       "1 2017-12-04 2018-10-30  2020          0D       0DF20   \n",
       "2 2015-02-12 2018-10-30  2019          0D       0DG19   \n",
       "3 2017-12-04 2018-10-30  2020          0D       0DG20   \n",
       "4 2015-02-12 2018-10-30  2019          0D       0DH19   \n",
       "\n",
       "                                      contract month first trade  \\\n",
       "0  January 2019 Mini European 3.5% Fuel Oil Barge...  2015-01-02   \n",
       "1  January 2020 Mini European 3.5% Fuel Oil Barge...  2016-01-04   \n",
       "2  February 2019 Mini European 3.5% Fuel Oil Barg...  2015-01-02   \n",
       "3  February 2020 Mini European 3.5% Fuel Oil Barg...  2016-01-04   \n",
       "4  March 2019 Mini European 3.5% Fuel Oil Barges ...  2015-01-02   \n",
       "\n",
       "  expiration_date  settlement  \n",
       "0      2019-01-31  2019-02-04  \n",
       "1      2020-01-31  2020-02-04  \n",
       "2      2019-02-28  2019-03-04  \n",
       "3      2020-02-28  2020-03-03  \n",
       "4      2019-03-29  2019-04-02  "
      ]
     },
     "execution_count": 8,
     "metadata": {},
     "output_type": "execute_result"
    }
   ],
   "source": [
    "d.data.head()"
   ]
  },
  {
   "cell_type": "code",
   "execution_count": 9,
   "metadata": {},
   "outputs": [
    {
     "data": {
      "text/plain": [
       "symbol             5542\n",
       "name               5542\n",
       "description        5542\n",
       "refreshed_at       5542\n",
       "from_date          5542\n",
       "to_date            5542\n",
       "year               5542\n",
       "root_symbol        5542\n",
       "exch_symbol        5542\n",
       "contract month     5542\n",
       "first trade        5542\n",
       "expiration_date    5542\n",
       "settlement         5542\n",
       "dtype: int64"
      ]
     },
     "execution_count": 9,
     "metadata": {},
     "output_type": "execute_result"
    }
   ],
   "source": [
    "d.data.count()"
   ]
  },
  {
   "cell_type": "code",
   "execution_count": 10,
   "metadata": {},
   "outputs": [
    {
     "data": {
      "text/plain": [
       "Index(['symbol', 'name', 'description', 'refreshed_at', 'from_date', 'to_date',\n",
       "       'year', 'root_symbol', 'exch_symbol', 'contract month', 'first trade',\n",
       "       'expiration_date', 'settlement'],\n",
       "      dtype='object')"
      ]
     },
     "execution_count": 10,
     "metadata": {},
     "output_type": "execute_result"
    }
   ],
   "source": [
    "d.data.columns"
   ]
  },
  {
   "cell_type": "code",
   "execution_count": 11,
   "metadata": {},
   "outputs": [
    {
     "data": {
      "text/plain": [
       "Index(['code', 'name', 'description', 'refreshed_at', 'from_date', 'to_date'], dtype='object')"
      ]
     },
     "execution_count": 11,
     "metadata": {},
     "output_type": "execute_result"
    }
   ],
   "source": [
    "table.columns"
   ]
  },
  {
   "cell_type": "code",
   "execution_count": 12,
   "metadata": {},
   "outputs": [
    {
     "data": {
      "text/html": [
       "<div>\n",
       "<table border=\"1\" class=\"dataframe\">\n",
       "  <thead>\n",
       "    <tr style=\"text-align: right;\">\n",
       "      <th></th>\n",
       "      <th>code</th>\n",
       "      <th>name</th>\n",
       "      <th>description</th>\n",
       "      <th>refreshed_at</th>\n",
       "      <th>from_date</th>\n",
       "      <th>to_date</th>\n",
       "    </tr>\n",
       "  </thead>\n",
       "  <tbody>\n",
       "    <tr>\n",
       "      <th>0</th>\n",
       "      <td>0DF2015</td>\n",
       "      <td>Mini European 3.5% Fuel Oil Barges FOB Rdam (P...</td>\n",
       "      <td>For contract details, please see &lt;a href=http:...</td>\n",
       "      <td>2018-06-29 17:33:32</td>\n",
       "      <td>2014-02-18</td>\n",
       "      <td>2016-12-28</td>\n",
       "    </tr>\n",
       "    <tr>\n",
       "      <th>1</th>\n",
       "      <td>0DF2016</td>\n",
       "      <td>Mini European 3.5% Fuel Oil Barges FOB Rdam (P...</td>\n",
       "      <td>For contract details, please see &lt;a href=http:...</td>\n",
       "      <td>2018-06-29 17:33:32</td>\n",
       "      <td>2014-02-18</td>\n",
       "      <td>2016-02-02</td>\n",
       "    </tr>\n",
       "    <tr>\n",
       "      <th>2</th>\n",
       "      <td>0DF2017</td>\n",
       "      <td>Mini European 3.5% Fuel Oil Barges FOB Rdam (P...</td>\n",
       "      <td>For contract details, please see &lt;a href=http:...</td>\n",
       "      <td>2017-02-03 01:05:31</td>\n",
       "      <td>2014-11-21</td>\n",
       "      <td>2017-02-02</td>\n",
       "    </tr>\n",
       "    <tr>\n",
       "      <th>3</th>\n",
       "      <td>0DF2018</td>\n",
       "      <td>Mini European 3.5% Fuel Oil Barges FOB Rdam (P...</td>\n",
       "      <td>For contract details, please see &lt;a href=http:...</td>\n",
       "      <td>2018-02-03 01:07:36</td>\n",
       "      <td>2014-11-21</td>\n",
       "      <td>2018-02-02</td>\n",
       "    </tr>\n",
       "    <tr>\n",
       "      <th>4</th>\n",
       "      <td>0DF2019</td>\n",
       "      <td>Mini European 3.5% Fuel Oil Barges FOB Rdam (P...</td>\n",
       "      <td>For contract details, please see &lt;a href=http:...</td>\n",
       "      <td>2018-10-31 00:11:23</td>\n",
       "      <td>2015-02-12</td>\n",
       "      <td>2018-10-30</td>\n",
       "    </tr>\n",
       "  </tbody>\n",
       "</table>\n",
       "</div>"
      ],
      "text/plain": [
       "      code                                               name  \\\n",
       "0  0DF2015  Mini European 3.5% Fuel Oil Barges FOB Rdam (P...   \n",
       "1  0DF2016  Mini European 3.5% Fuel Oil Barges FOB Rdam (P...   \n",
       "2  0DF2017  Mini European 3.5% Fuel Oil Barges FOB Rdam (P...   \n",
       "3  0DF2018  Mini European 3.5% Fuel Oil Barges FOB Rdam (P...   \n",
       "4  0DF2019  Mini European 3.5% Fuel Oil Barges FOB Rdam (P...   \n",
       "\n",
       "                                         description         refreshed_at  \\\n",
       "0  For contract details, please see <a href=http:...  2018-06-29 17:33:32   \n",
       "1  For contract details, please see <a href=http:...  2018-06-29 17:33:32   \n",
       "2  For contract details, please see <a href=http:...  2017-02-03 01:05:31   \n",
       "3  For contract details, please see <a href=http:...  2018-02-03 01:07:36   \n",
       "4  For contract details, please see <a href=http:...  2018-10-31 00:11:23   \n",
       "\n",
       "   from_date    to_date  \n",
       "0 2014-02-18 2016-12-28  \n",
       "1 2014-02-18 2016-02-02  \n",
       "2 2014-11-21 2017-02-02  \n",
       "3 2014-11-21 2018-02-02  \n",
       "4 2015-02-12 2018-10-30  "
      ]
     },
     "execution_count": 12,
     "metadata": {},
     "output_type": "execute_result"
    }
   ],
   "source": [
    "table.head()"
   ]
  },
  {
   "cell_type": "code",
   "execution_count": 13,
   "metadata": {},
   "outputs": [
    {
     "data": {
      "text/plain": [
       "code            164721\n",
       "name            164721\n",
       "description     164721\n",
       "refreshed_at    164721\n",
       "from_date       164721\n",
       "to_date         164721\n",
       "dtype: int64"
      ]
     },
     "execution_count": 13,
     "metadata": {},
     "output_type": "execute_result"
    }
   ],
   "source": [
    "table.count()"
   ]
  },
  {
   "cell_type": "code",
   "execution_count": 14,
   "metadata": {
    "collapsed": true
   },
   "outputs": [],
   "source": [
    "a = pd.read_csv('C:/Users/Tomek/zipline/debug/meta_files/CME_metadata.csv')"
   ]
  },
  {
   "cell_type": "code",
   "execution_count": 15,
   "metadata": {},
   "outputs": [
    {
     "data": {
      "text/html": [
       "<div>\n",
       "<table border=\"1\" class=\"dataframe\">\n",
       "  <thead>\n",
       "    <tr style=\"text-align: right;\">\n",
       "      <th></th>\n",
       "      <th>code</th>\n",
       "      <th>name</th>\n",
       "      <th>description</th>\n",
       "      <th>refreshed_at</th>\n",
       "      <th>from_date</th>\n",
       "      <th>to_date</th>\n",
       "    </tr>\n",
       "  </thead>\n",
       "  <tbody>\n",
       "    <tr>\n",
       "      <th>0</th>\n",
       "      <td>0DF2015</td>\n",
       "      <td>Mini European 3.5% Fuel Oil Barges FOB Rdam (P...</td>\n",
       "      <td>For contract details, please see &lt;a href=http:...</td>\n",
       "      <td>2018-06-29 17:33:32</td>\n",
       "      <td>2014-02-18</td>\n",
       "      <td>2016-12-28</td>\n",
       "    </tr>\n",
       "    <tr>\n",
       "      <th>1</th>\n",
       "      <td>0DF2016</td>\n",
       "      <td>Mini European 3.5% Fuel Oil Barges FOB Rdam (P...</td>\n",
       "      <td>For contract details, please see &lt;a href=http:...</td>\n",
       "      <td>2018-06-29 17:33:32</td>\n",
       "      <td>2014-02-18</td>\n",
       "      <td>2016-02-02</td>\n",
       "    </tr>\n",
       "    <tr>\n",
       "      <th>2</th>\n",
       "      <td>0DF2017</td>\n",
       "      <td>Mini European 3.5% Fuel Oil Barges FOB Rdam (P...</td>\n",
       "      <td>For contract details, please see &lt;a href=http:...</td>\n",
       "      <td>2017-02-03 01:05:31</td>\n",
       "      <td>2014-11-21</td>\n",
       "      <td>2017-02-02</td>\n",
       "    </tr>\n",
       "    <tr>\n",
       "      <th>3</th>\n",
       "      <td>0DF2018</td>\n",
       "      <td>Mini European 3.5% Fuel Oil Barges FOB Rdam (P...</td>\n",
       "      <td>For contract details, please see &lt;a href=http:...</td>\n",
       "      <td>2018-02-03 01:07:36</td>\n",
       "      <td>2014-11-21</td>\n",
       "      <td>2018-02-02</td>\n",
       "    </tr>\n",
       "    <tr>\n",
       "      <th>4</th>\n",
       "      <td>0DF2019</td>\n",
       "      <td>Mini European 3.5% Fuel Oil Barges FOB Rdam (P...</td>\n",
       "      <td>For contract details, please see &lt;a href=http:...</td>\n",
       "      <td>2018-10-19 00:15:29</td>\n",
       "      <td>2015-02-12</td>\n",
       "      <td>2018-10-18</td>\n",
       "    </tr>\n",
       "  </tbody>\n",
       "</table>\n",
       "</div>"
      ],
      "text/plain": [
       "      code                                               name  \\\n",
       "0  0DF2015  Mini European 3.5% Fuel Oil Barges FOB Rdam (P...   \n",
       "1  0DF2016  Mini European 3.5% Fuel Oil Barges FOB Rdam (P...   \n",
       "2  0DF2017  Mini European 3.5% Fuel Oil Barges FOB Rdam (P...   \n",
       "3  0DF2018  Mini European 3.5% Fuel Oil Barges FOB Rdam (P...   \n",
       "4  0DF2019  Mini European 3.5% Fuel Oil Barges FOB Rdam (P...   \n",
       "\n",
       "                                         description         refreshed_at  \\\n",
       "0  For contract details, please see <a href=http:...  2018-06-29 17:33:32   \n",
       "1  For contract details, please see <a href=http:...  2018-06-29 17:33:32   \n",
       "2  For contract details, please see <a href=http:...  2017-02-03 01:05:31   \n",
       "3  For contract details, please see <a href=http:...  2018-02-03 01:07:36   \n",
       "4  For contract details, please see <a href=http:...  2018-10-19 00:15:29   \n",
       "\n",
       "    from_date     to_date  \n",
       "0  2014-02-18  2016-12-28  \n",
       "1  2014-02-18  2016-02-02  \n",
       "2  2014-11-21  2017-02-02  \n",
       "3  2014-11-21  2018-02-02  \n",
       "4  2015-02-12  2018-10-18  "
      ]
     },
     "execution_count": 15,
     "metadata": {},
     "output_type": "execute_result"
    }
   ],
   "source": [
    "a.head()"
   ]
  },
  {
   "cell_type": "code",
   "execution_count": 18,
   "metadata": {},
   "outputs": [
    {
     "name": "stderr",
     "output_type": "stream",
     "text": [
      "C:\\Users\\tomek\\Anaconda3\\envs\\env_zipline\\lib\\site-packages\\ipykernel_launcher.py:1: SettingWithCopyWarning: \n",
      "A value is trying to be set on a copy of a slice from a DataFrame.\n",
      "Try using .loc[row_indexer,col_indexer] = value instead\n",
      "\n",
      "See the caveats in the documentation: http://pandas.pydata.org/pandas-docs/stable/indexing.html#indexing-view-versus-copy\n",
      "  \"\"\"Entry point for launching an IPython kernel.\n"
     ]
    }
   ],
   "source": [
    "a[a['code'] == 'NQU1999']['name'] = 'dupa'"
   ]
  },
  {
   "cell_type": "code",
   "execution_count": 22,
   "metadata": {},
   "outputs": [],
   "source": [
    "a.loc[a[a['code'] == 'NQU1999'].index, 'name'] = 'dupa'"
   ]
  },
  {
   "cell_type": "code",
   "execution_count": 23,
   "metadata": {},
   "outputs": [
    {
     "data": {
      "text/html": [
       "<div>\n",
       "<table border=\"1\" class=\"dataframe\">\n",
       "  <thead>\n",
       "    <tr style=\"text-align: right;\">\n",
       "      <th></th>\n",
       "      <th>code</th>\n",
       "      <th>name</th>\n",
       "      <th>description</th>\n",
       "      <th>refreshed_at</th>\n",
       "      <th>from_date</th>\n",
       "      <th>to_date</th>\n",
       "    </tr>\n",
       "  </thead>\n",
       "  <tbody>\n",
       "    <tr>\n",
       "      <th>89771</th>\n",
       "      <td>NQU1999</td>\n",
       "      <td>dupa</td>\n",
       "      <td>For contract details, please see &lt;a href=http:...</td>\n",
       "      <td>2018-06-29 17:34:25</td>\n",
       "      <td>1999-06-21</td>\n",
       "      <td>1999-09-17</td>\n",
       "    </tr>\n",
       "  </tbody>\n",
       "</table>\n",
       "</div>"
      ],
      "text/plain": [
       "          code  name                                        description  \\\n",
       "89771  NQU1999  dupa  For contract details, please see <a href=http:...   \n",
       "\n",
       "              refreshed_at   from_date     to_date  \n",
       "89771  2018-06-29 17:34:25  1999-06-21  1999-09-17  "
      ]
     },
     "execution_count": 23,
     "metadata": {},
     "output_type": "execute_result"
    }
   ],
   "source": [
    "a[a['code'] == 'NQU1999']"
   ]
  },
  {
   "cell_type": "code",
   "execution_count": null,
   "metadata": {
    "collapsed": true
   },
   "outputs": [],
   "source": [
    "a.loc['NQU1999', 'name'] = 'Nasdaq 100 Mini Futures, September 1999, NQU1999, CME'\n"
   ]
  }
 ],
 "metadata": {
  "kernelspec": {
   "display_name": "env_zipline",
   "language": "python",
   "name": "env_zipline"
  },
  "language_info": {
   "codemirror_mode": {
    "name": "ipython",
    "version": 3
   },
   "file_extension": ".py",
   "mimetype": "text/x-python",
   "name": "python",
   "nbconvert_exporter": "python",
   "pygments_lexer": "ipython3",
   "version": "3.5.5"
  }
 },
 "nbformat": 4,
 "nbformat_minor": 2
}
