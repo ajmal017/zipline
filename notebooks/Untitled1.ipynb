{
 "cells": [
  {
   "cell_type": "code",
   "execution_count": 5,
   "metadata": {
    "collapsed": true
   },
   "outputs": [],
   "source": [
    "import pandas as pd"
   ]
  },
  {
   "cell_type": "code",
   "execution_count": 6,
   "metadata": {},
   "outputs": [],
   "source": [
    "df = pd.read_csv('C:/Users/tomek/Desktop/CME_metadata.csv', parse_dates=['from_date', 'to_date'])"
   ]
  },
  {
   "cell_type": "code",
   "execution_count": 7,
   "metadata": {
    "collapsed": true
   },
   "outputs": [],
   "source": [
    "from bundles.expiration_downloader import ExpirationDownloader"
   ]
  },
  {
   "cell_type": "code",
   "execution_count": 8,
   "metadata": {},
   "outputs": [
    {
     "ename": "KeyboardInterrupt",
     "evalue": "",
     "output_type": "error",
     "traceback": [
      "\u001b[1;31m---------------------------------------------------------------------------\u001b[0m",
      "\u001b[1;31mKeyboardInterrupt\u001b[0m                         Traceback (most recent call last)",
      "\u001b[1;32m<ipython-input-8-70bcb10c6eb2>\u001b[0m in \u001b[0;36m<module>\u001b[1;34m()\u001b[0m\n\u001b[1;32m----> 1\u001b[1;33m \u001b[0ma\u001b[0m \u001b[1;33m=\u001b[0m \u001b[0mExpirationDownloader\u001b[0m\u001b[1;33m(\u001b[0m\u001b[0mdf\u001b[0m\u001b[1;33m)\u001b[0m\u001b[1;33m\u001b[0m\u001b[0m\n\u001b[0m",
      "\u001b[1;32m~\\zipline\\bundles\\expiration_downloader.py\u001b[0m in \u001b[0;36m__init__\u001b[1;34m(self, df)\u001b[0m\n\u001b[0;32m     65\u001b[0m         \u001b[0mdf\u001b[0m \u001b[1;33m=\u001b[0m \u001b[0mdf\u001b[0m\u001b[1;33m[\u001b[0m\u001b[0mdf\u001b[0m\u001b[1;33m[\u001b[0m\u001b[1;34m'to_date'\u001b[0m\u001b[1;33m]\u001b[0m \u001b[1;33m>=\u001b[0m \u001b[0mcutoff_date\u001b[0m\u001b[1;33m]\u001b[0m\u001b[1;33m\u001b[0m\u001b[0m\n\u001b[0;32m     66\u001b[0m         \u001b[0mself\u001b[0m\u001b[1;33m.\u001b[0m\u001b[0mdata\u001b[0m \u001b[1;33m=\u001b[0m \u001b[0mdf\u001b[0m\u001b[1;33m\u001b[0m\u001b[0m\n\u001b[1;32m---> 67\u001b[1;33m         \u001b[0mself\u001b[0m\u001b[1;33m.\u001b[0m\u001b[0mrouter\u001b[0m\u001b[1;33m(\u001b[0m\u001b[1;33m)\u001b[0m\u001b[1;33m\u001b[0m\u001b[0m\n\u001b[0m\u001b[0;32m     68\u001b[0m \u001b[1;33m\u001b[0m\u001b[0m\n\u001b[0;32m     69\u001b[0m \u001b[1;33m\u001b[0m\u001b[0m\n",
      "\u001b[1;32m~\\zipline\\bundles\\expiration_downloader.py\u001b[0m in \u001b[0;36mrouter\u001b[1;34m(self)\u001b[0m\n\u001b[0;32m     77\u001b[0m             \u001b[1;32mif\u001b[0m \u001b[0mfile\u001b[0m \u001b[1;32min\u001b[0m \u001b[0mos\u001b[0m\u001b[1;33m.\u001b[0m\u001b[0mlistdir\u001b[0m\u001b[1;33m(\u001b[0m\u001b[0mdir\u001b[0m\u001b[1;33m)\u001b[0m \u001b[1;32mand\u001b[0m \u001b[1;32mnot\u001b[0m \u001b[0mself\u001b[0m\u001b[1;33m.\u001b[0m\u001b[0mALWAYS_DOWNLOAD\u001b[0m\u001b[1;33m:\u001b[0m\u001b[1;33m\u001b[0m\u001b[0m\n\u001b[0;32m     78\u001b[0m                 log.info(\n\u001b[1;32m---> 79\u001b[1;33m                     'File was read from disc. Remove {} if you want to download new data from CME website'.format(\n\u001b[0m\u001b[0;32m     80\u001b[0m                         self.FILENAME))\n\u001b[0;32m     81\u001b[0m                 self.data = pd.read_csv(self.FILENAME,\n",
      "\u001b[1;32m~\\zipline\\bundles\\expiration_downloader.py\u001b[0m in \u001b[0;36mget_data\u001b[1;34m(self)\u001b[0m\n\u001b[0;32m    125\u001b[0m                 \u001b[1;32mcontinue\u001b[0m\u001b[1;33m\u001b[0m\u001b[0m\n\u001b[0;32m    126\u001b[0m             \u001b[1;32melse\u001b[0m\u001b[1;33m:\u001b[0m\u001b[1;33m\u001b[0m\u001b[0m\n\u001b[1;32m--> 127\u001b[1;33m                 \u001b[0mself\u001b[0m\u001b[1;33m.\u001b[0m\u001b[0mattempts\u001b[0m\u001b[1;33m.\u001b[0m\u001b[0mappend\u001b[0m\u001b[1;33m(\u001b[0m\u001b[0mrow\u001b[0m\u001b[1;33m[\u001b[0m\u001b[1;36m1\u001b[0m\u001b[1;33m]\u001b[0m\u001b[1;33m[\u001b[0m\u001b[1;36m6\u001b[0m\u001b[1;33m]\u001b[0m\u001b[1;33m)\u001b[0m\u001b[1;33m\u001b[0m\u001b[0m\n\u001b[0m\u001b[0;32m    128\u001b[0m                 \u001b[0mself\u001b[0m\u001b[1;33m.\u001b[0m\u001b[0mcounter\u001b[0m \u001b[1;33m+=\u001b[0m \u001b[1;36m1\u001b[0m\u001b[1;33m\u001b[0m\u001b[0m\n\u001b[0;32m    129\u001b[0m                 \u001b[1;32mif\u001b[0m \u001b[0mself\u001b[0m\u001b[1;33m.\u001b[0m\u001b[0mcounter\u001b[0m \u001b[1;33m>\u001b[0m \u001b[1;36m250\u001b[0m\u001b[1;33m:\u001b[0m\u001b[1;33m\u001b[0m\u001b[0m\n",
      "\u001b[1;32m~\\zipline\\bundles\\expiration_downloader.py\u001b[0m in \u001b[0;36mexcel_downloader\u001b[1;34m(self, root, url)\u001b[0m\n\u001b[0;32m     96\u001b[0m             \u001b[0mlink\u001b[0m \u001b[1;33m=\u001b[0m \u001b[0mr\u001b[0m\u001b[1;33m.\u001b[0m\u001b[0mhtml\u001b[0m\u001b[1;33m.\u001b[0m\u001b[0mfind\u001b[0m\u001b[1;33m(\u001b[0m\u001b[1;34m'.cmeButtonDownloadExcel'\u001b[0m\u001b[1;33m,\u001b[0m \u001b[0mfirst\u001b[0m\u001b[1;33m=\u001b[0m\u001b[1;32mTrue\u001b[0m\u001b[1;33m)\u001b[0m\u001b[1;33m.\u001b[0m\u001b[0mlinks\u001b[0m\u001b[1;33m.\u001b[0m\u001b[0mpop\u001b[0m\u001b[1;33m(\u001b[0m\u001b[1;33m)\u001b[0m\u001b[1;33m\u001b[0m\u001b[0m\n\u001b[0;32m     97\u001b[0m         \u001b[1;32mexcept\u001b[0m \u001b[0mException\u001b[0m \u001b[1;32mas\u001b[0m \u001b[0me\u001b[0m\u001b[1;33m:\u001b[0m\u001b[1;33m\u001b[0m\u001b[0m\n\u001b[1;32m---> 98\u001b[1;33m             \u001b[0mlog\u001b[0m\u001b[1;33m.\u001b[0m\u001b[0mwarn\u001b[0m\u001b[1;33m(\u001b[0m\u001b[1;34m'Failed to download calendar page: {}, error: {}'\u001b[0m\u001b[1;33m.\u001b[0m\u001b[0mformat\u001b[0m\u001b[1;33m(\u001b[0m\u001b[0murl\u001b[0m\u001b[1;33m,\u001b[0m \u001b[0me\u001b[0m\u001b[1;33m)\u001b[0m\u001b[1;33m)\u001b[0m\u001b[1;33m\u001b[0m\u001b[0m\n\u001b[0m\u001b[0;32m     99\u001b[0m             \u001b[1;32mif\u001b[0m \u001b[0mr\u001b[0m\u001b[1;33m.\u001b[0m\u001b[0mstatus_code\u001b[0m \u001b[1;33m==\u001b[0m \u001b[1;36m403\u001b[0m\u001b[1;33m:\u001b[0m\u001b[1;33m\u001b[0m\u001b[0m\n\u001b[0;32m    100\u001b[0m                 \u001b[0mlog\u001b[0m\u001b[1;33m.\u001b[0m\u001b[0merror\u001b[0m\u001b[1;33m(\u001b[0m\u001b[1;34m'CME temporarily blocked your access to their website due to too many requests. Try again in 15 minutes.'\u001b[0m\u001b[1;33m)\u001b[0m\u001b[1;33m\u001b[0m\u001b[0m\n",
      "\u001b[1;32m~\\Anaconda3\\envs\\env_zipline\\lib\\site-packages\\requests\\api.py\u001b[0m in \u001b[0;36mget\u001b[1;34m(url, params, **kwargs)\u001b[0m\n\u001b[0;32m     70\u001b[0m \u001b[1;33m\u001b[0m\u001b[0m\n\u001b[0;32m     71\u001b[0m     \u001b[0mkwargs\u001b[0m\u001b[1;33m.\u001b[0m\u001b[0msetdefault\u001b[0m\u001b[1;33m(\u001b[0m\u001b[1;34m'allow_redirects'\u001b[0m\u001b[1;33m,\u001b[0m \u001b[1;32mTrue\u001b[0m\u001b[1;33m)\u001b[0m\u001b[1;33m\u001b[0m\u001b[0m\n\u001b[1;32m---> 72\u001b[1;33m     \u001b[1;32mreturn\u001b[0m \u001b[0mrequest\u001b[0m\u001b[1;33m(\u001b[0m\u001b[1;34m'get'\u001b[0m\u001b[1;33m,\u001b[0m \u001b[0murl\u001b[0m\u001b[1;33m,\u001b[0m \u001b[0mparams\u001b[0m\u001b[1;33m=\u001b[0m\u001b[0mparams\u001b[0m\u001b[1;33m,\u001b[0m \u001b[1;33m**\u001b[0m\u001b[0mkwargs\u001b[0m\u001b[1;33m)\u001b[0m\u001b[1;33m\u001b[0m\u001b[0m\n\u001b[0m\u001b[0;32m     73\u001b[0m \u001b[1;33m\u001b[0m\u001b[0m\n\u001b[0;32m     74\u001b[0m \u001b[1;33m\u001b[0m\u001b[0m\n",
      "\u001b[1;32m~\\Anaconda3\\envs\\env_zipline\\lib\\site-packages\\requests\\api.py\u001b[0m in \u001b[0;36mrequest\u001b[1;34m(method, url, **kwargs)\u001b[0m\n\u001b[0;32m     56\u001b[0m     \u001b[1;31m# cases, and look like a memory leak in others.\u001b[0m\u001b[1;33m\u001b[0m\u001b[1;33m\u001b[0m\u001b[0m\n\u001b[0;32m     57\u001b[0m     \u001b[1;32mwith\u001b[0m \u001b[0msessions\u001b[0m\u001b[1;33m.\u001b[0m\u001b[0mSession\u001b[0m\u001b[1;33m(\u001b[0m\u001b[1;33m)\u001b[0m \u001b[1;32mas\u001b[0m \u001b[0msession\u001b[0m\u001b[1;33m:\u001b[0m\u001b[1;33m\u001b[0m\u001b[0m\n\u001b[1;32m---> 58\u001b[1;33m         \u001b[1;32mreturn\u001b[0m \u001b[0msession\u001b[0m\u001b[1;33m.\u001b[0m\u001b[0mrequest\u001b[0m\u001b[1;33m(\u001b[0m\u001b[0mmethod\u001b[0m\u001b[1;33m=\u001b[0m\u001b[0mmethod\u001b[0m\u001b[1;33m,\u001b[0m \u001b[0murl\u001b[0m\u001b[1;33m=\u001b[0m\u001b[0murl\u001b[0m\u001b[1;33m,\u001b[0m \u001b[1;33m**\u001b[0m\u001b[0mkwargs\u001b[0m\u001b[1;33m)\u001b[0m\u001b[1;33m\u001b[0m\u001b[0m\n\u001b[0m\u001b[0;32m     59\u001b[0m \u001b[1;33m\u001b[0m\u001b[0m\n\u001b[0;32m     60\u001b[0m \u001b[1;33m\u001b[0m\u001b[0m\n",
      "\u001b[1;32m~\\Anaconda3\\envs\\env_zipline\\lib\\site-packages\\requests\\sessions.py\u001b[0m in \u001b[0;36mrequest\u001b[1;34m(self, method, url, params, data, headers, cookies, files, auth, timeout, allow_redirects, proxies, hooks, stream, verify, cert, json)\u001b[0m\n\u001b[0;32m    506\u001b[0m         }\n\u001b[0;32m    507\u001b[0m         \u001b[0msend_kwargs\u001b[0m\u001b[1;33m.\u001b[0m\u001b[0mupdate\u001b[0m\u001b[1;33m(\u001b[0m\u001b[0msettings\u001b[0m\u001b[1;33m)\u001b[0m\u001b[1;33m\u001b[0m\u001b[0m\n\u001b[1;32m--> 508\u001b[1;33m         \u001b[0mresp\u001b[0m \u001b[1;33m=\u001b[0m \u001b[0mself\u001b[0m\u001b[1;33m.\u001b[0m\u001b[0msend\u001b[0m\u001b[1;33m(\u001b[0m\u001b[0mprep\u001b[0m\u001b[1;33m,\u001b[0m \u001b[1;33m**\u001b[0m\u001b[0msend_kwargs\u001b[0m\u001b[1;33m)\u001b[0m\u001b[1;33m\u001b[0m\u001b[0m\n\u001b[0m\u001b[0;32m    509\u001b[0m \u001b[1;33m\u001b[0m\u001b[0m\n\u001b[0;32m    510\u001b[0m         \u001b[1;32mreturn\u001b[0m \u001b[0mresp\u001b[0m\u001b[1;33m\u001b[0m\u001b[0m\n",
      "\u001b[1;32m~\\Anaconda3\\envs\\env_zipline\\lib\\site-packages\\requests\\sessions.py\u001b[0m in \u001b[0;36msend\u001b[1;34m(self, request, **kwargs)\u001b[0m\n\u001b[0;32m    616\u001b[0m \u001b[1;33m\u001b[0m\u001b[0m\n\u001b[0;32m    617\u001b[0m         \u001b[1;31m# Send the request\u001b[0m\u001b[1;33m\u001b[0m\u001b[1;33m\u001b[0m\u001b[0m\n\u001b[1;32m--> 618\u001b[1;33m         \u001b[0mr\u001b[0m \u001b[1;33m=\u001b[0m \u001b[0madapter\u001b[0m\u001b[1;33m.\u001b[0m\u001b[0msend\u001b[0m\u001b[1;33m(\u001b[0m\u001b[0mrequest\u001b[0m\u001b[1;33m,\u001b[0m \u001b[1;33m**\u001b[0m\u001b[0mkwargs\u001b[0m\u001b[1;33m)\u001b[0m\u001b[1;33m\u001b[0m\u001b[0m\n\u001b[0m\u001b[0;32m    619\u001b[0m \u001b[1;33m\u001b[0m\u001b[0m\n\u001b[0;32m    620\u001b[0m         \u001b[1;31m# Total elapsed time of the request (approximately)\u001b[0m\u001b[1;33m\u001b[0m\u001b[1;33m\u001b[0m\u001b[0m\n",
      "\u001b[1;32m~\\Anaconda3\\envs\\env_zipline\\lib\\site-packages\\requests\\adapters.py\u001b[0m in \u001b[0;36msend\u001b[1;34m(self, request, stream, timeout, verify, cert, proxies)\u001b[0m\n\u001b[0;32m    438\u001b[0m                     \u001b[0mdecode_content\u001b[0m\u001b[1;33m=\u001b[0m\u001b[1;32mFalse\u001b[0m\u001b[1;33m,\u001b[0m\u001b[1;33m\u001b[0m\u001b[0m\n\u001b[0;32m    439\u001b[0m                     \u001b[0mretries\u001b[0m\u001b[1;33m=\u001b[0m\u001b[0mself\u001b[0m\u001b[1;33m.\u001b[0m\u001b[0mmax_retries\u001b[0m\u001b[1;33m,\u001b[0m\u001b[1;33m\u001b[0m\u001b[0m\n\u001b[1;32m--> 440\u001b[1;33m                     \u001b[0mtimeout\u001b[0m\u001b[1;33m=\u001b[0m\u001b[0mtimeout\u001b[0m\u001b[1;33m\u001b[0m\u001b[0m\n\u001b[0m\u001b[0;32m    441\u001b[0m                 )\n\u001b[0;32m    442\u001b[0m \u001b[1;33m\u001b[0m\u001b[0m\n",
      "\u001b[1;32m~\\Anaconda3\\envs\\env_zipline\\lib\\site-packages\\urllib3\\connectionpool.py\u001b[0m in \u001b[0;36murlopen\u001b[1;34m(self, method, url, body, headers, retries, redirect, assert_same_host, timeout, pool_timeout, release_conn, chunked, body_pos, **response_kw)\u001b[0m\n\u001b[0;32m    599\u001b[0m                                                   \u001b[0mtimeout\u001b[0m\u001b[1;33m=\u001b[0m\u001b[0mtimeout_obj\u001b[0m\u001b[1;33m,\u001b[0m\u001b[1;33m\u001b[0m\u001b[0m\n\u001b[0;32m    600\u001b[0m                                                   \u001b[0mbody\u001b[0m\u001b[1;33m=\u001b[0m\u001b[0mbody\u001b[0m\u001b[1;33m,\u001b[0m \u001b[0mheaders\u001b[0m\u001b[1;33m=\u001b[0m\u001b[0mheaders\u001b[0m\u001b[1;33m,\u001b[0m\u001b[1;33m\u001b[0m\u001b[0m\n\u001b[1;32m--> 601\u001b[1;33m                                                   chunked=chunked)\n\u001b[0m\u001b[0;32m    602\u001b[0m \u001b[1;33m\u001b[0m\u001b[0m\n\u001b[0;32m    603\u001b[0m             \u001b[1;31m# If we're going to release the connection in ``finally:``, then\u001b[0m\u001b[1;33m\u001b[0m\u001b[1;33m\u001b[0m\u001b[0m\n",
      "\u001b[1;32m~\\Anaconda3\\envs\\env_zipline\\lib\\site-packages\\urllib3\\connectionpool.py\u001b[0m in \u001b[0;36m_make_request\u001b[1;34m(self, conn, method, url, timeout, chunked, **httplib_request_kw)\u001b[0m\n\u001b[0;32m    344\u001b[0m         \u001b[1;31m# Trigger any extra validation we need to do.\u001b[0m\u001b[1;33m\u001b[0m\u001b[1;33m\u001b[0m\u001b[0m\n\u001b[0;32m    345\u001b[0m         \u001b[1;32mtry\u001b[0m\u001b[1;33m:\u001b[0m\u001b[1;33m\u001b[0m\u001b[0m\n\u001b[1;32m--> 346\u001b[1;33m             \u001b[0mself\u001b[0m\u001b[1;33m.\u001b[0m\u001b[0m_validate_conn\u001b[0m\u001b[1;33m(\u001b[0m\u001b[0mconn\u001b[0m\u001b[1;33m)\u001b[0m\u001b[1;33m\u001b[0m\u001b[0m\n\u001b[0m\u001b[0;32m    347\u001b[0m         \u001b[1;32mexcept\u001b[0m \u001b[1;33m(\u001b[0m\u001b[0mSocketTimeout\u001b[0m\u001b[1;33m,\u001b[0m \u001b[0mBaseSSLError\u001b[0m\u001b[1;33m)\u001b[0m \u001b[1;32mas\u001b[0m \u001b[0me\u001b[0m\u001b[1;33m:\u001b[0m\u001b[1;33m\u001b[0m\u001b[0m\n\u001b[0;32m    348\u001b[0m             \u001b[1;31m# Py2 raises this as a BaseSSLError, Py3 raises it as socket timeout.\u001b[0m\u001b[1;33m\u001b[0m\u001b[1;33m\u001b[0m\u001b[0m\n",
      "\u001b[1;32m~\\Anaconda3\\envs\\env_zipline\\lib\\site-packages\\urllib3\\connectionpool.py\u001b[0m in \u001b[0;36m_validate_conn\u001b[1;34m(self, conn)\u001b[0m\n\u001b[0;32m    848\u001b[0m         \u001b[1;31m# Force connect early to allow us to validate the connection.\u001b[0m\u001b[1;33m\u001b[0m\u001b[1;33m\u001b[0m\u001b[0m\n\u001b[0;32m    849\u001b[0m         \u001b[1;32mif\u001b[0m \u001b[1;32mnot\u001b[0m \u001b[0mgetattr\u001b[0m\u001b[1;33m(\u001b[0m\u001b[0mconn\u001b[0m\u001b[1;33m,\u001b[0m \u001b[1;34m'sock'\u001b[0m\u001b[1;33m,\u001b[0m \u001b[1;32mNone\u001b[0m\u001b[1;33m)\u001b[0m\u001b[1;33m:\u001b[0m  \u001b[1;31m# AppEngine might not have  `.sock`\u001b[0m\u001b[1;33m\u001b[0m\u001b[0m\n\u001b[1;32m--> 850\u001b[1;33m             \u001b[0mconn\u001b[0m\u001b[1;33m.\u001b[0m\u001b[0mconnect\u001b[0m\u001b[1;33m(\u001b[0m\u001b[1;33m)\u001b[0m\u001b[1;33m\u001b[0m\u001b[0m\n\u001b[0m\u001b[0;32m    851\u001b[0m \u001b[1;33m\u001b[0m\u001b[0m\n\u001b[0;32m    852\u001b[0m         \u001b[1;32mif\u001b[0m \u001b[1;32mnot\u001b[0m \u001b[0mconn\u001b[0m\u001b[1;33m.\u001b[0m\u001b[0mis_verified\u001b[0m\u001b[1;33m:\u001b[0m\u001b[1;33m\u001b[0m\u001b[0m\n",
      "\u001b[1;32m~\\Anaconda3\\envs\\env_zipline\\lib\\site-packages\\urllib3\\connection.py\u001b[0m in \u001b[0;36mconnect\u001b[1;34m(self)\u001b[0m\n\u001b[0;32m    282\u001b[0m     \u001b[1;32mdef\u001b[0m \u001b[0mconnect\u001b[0m\u001b[1;33m(\u001b[0m\u001b[0mself\u001b[0m\u001b[1;33m)\u001b[0m\u001b[1;33m:\u001b[0m\u001b[1;33m\u001b[0m\u001b[0m\n\u001b[0;32m    283\u001b[0m         \u001b[1;31m# Add certificate verification\u001b[0m\u001b[1;33m\u001b[0m\u001b[1;33m\u001b[0m\u001b[0m\n\u001b[1;32m--> 284\u001b[1;33m         \u001b[0mconn\u001b[0m \u001b[1;33m=\u001b[0m \u001b[0mself\u001b[0m\u001b[1;33m.\u001b[0m\u001b[0m_new_conn\u001b[0m\u001b[1;33m(\u001b[0m\u001b[1;33m)\u001b[0m\u001b[1;33m\u001b[0m\u001b[0m\n\u001b[0m\u001b[0;32m    285\u001b[0m \u001b[1;33m\u001b[0m\u001b[0m\n\u001b[0;32m    286\u001b[0m         \u001b[0mhostname\u001b[0m \u001b[1;33m=\u001b[0m \u001b[0mself\u001b[0m\u001b[1;33m.\u001b[0m\u001b[0mhost\u001b[0m\u001b[1;33m\u001b[0m\u001b[0m\n",
      "\u001b[1;32m~\\Anaconda3\\envs\\env_zipline\\lib\\site-packages\\urllib3\\connection.py\u001b[0m in \u001b[0;36m_new_conn\u001b[1;34m(self)\u001b[0m\n\u001b[0;32m    139\u001b[0m         \u001b[1;32mtry\u001b[0m\u001b[1;33m:\u001b[0m\u001b[1;33m\u001b[0m\u001b[0m\n\u001b[0;32m    140\u001b[0m             conn = connection.create_connection(\n\u001b[1;32m--> 141\u001b[1;33m                 (self.host, self.port), self.timeout, **extra_kw)\n\u001b[0m\u001b[0;32m    142\u001b[0m \u001b[1;33m\u001b[0m\u001b[0m\n\u001b[0;32m    143\u001b[0m         \u001b[1;32mexcept\u001b[0m \u001b[0mSocketTimeout\u001b[0m \u001b[1;32mas\u001b[0m \u001b[0me\u001b[0m\u001b[1;33m:\u001b[0m\u001b[1;33m\u001b[0m\u001b[0m\n",
      "\u001b[1;32m~\\Anaconda3\\envs\\env_zipline\\lib\\site-packages\\urllib3\\util\\connection.py\u001b[0m in \u001b[0;36mcreate_connection\u001b[1;34m(address, timeout, source_address, socket_options)\u001b[0m\n\u001b[0;32m     71\u001b[0m             \u001b[1;32mif\u001b[0m \u001b[0msource_address\u001b[0m\u001b[1;33m:\u001b[0m\u001b[1;33m\u001b[0m\u001b[0m\n\u001b[0;32m     72\u001b[0m                 \u001b[0msock\u001b[0m\u001b[1;33m.\u001b[0m\u001b[0mbind\u001b[0m\u001b[1;33m(\u001b[0m\u001b[0msource_address\u001b[0m\u001b[1;33m)\u001b[0m\u001b[1;33m\u001b[0m\u001b[0m\n\u001b[1;32m---> 73\u001b[1;33m             \u001b[0msock\u001b[0m\u001b[1;33m.\u001b[0m\u001b[0mconnect\u001b[0m\u001b[1;33m(\u001b[0m\u001b[0msa\u001b[0m\u001b[1;33m)\u001b[0m\u001b[1;33m\u001b[0m\u001b[0m\n\u001b[0m\u001b[0;32m     74\u001b[0m             \u001b[1;32mreturn\u001b[0m \u001b[0msock\u001b[0m\u001b[1;33m\u001b[0m\u001b[0m\n\u001b[0;32m     75\u001b[0m \u001b[1;33m\u001b[0m\u001b[0m\n",
      "\u001b[1;31mKeyboardInterrupt\u001b[0m: "
     ]
    }
   ],
   "source": [
    "a = ExpirationDownloader(df)"
   ]
  },
  {
   "cell_type": "code",
   "execution_count": null,
   "metadata": {
    "collapsed": true
   },
   "outputs": [],
   "source": []
  },
  {
   "cell_type": "code",
   "execution_count": 51,
   "metadata": {},
   "outputs": [
    {
     "data": {
      "text/html": [
       "<div>\n",
       "<table border=\"1\" class=\"dataframe\">\n",
       "  <thead>\n",
       "    <tr style=\"text-align: right;\">\n",
       "      <th></th>\n",
       "      <th>code</th>\n",
       "      <th>name</th>\n",
       "      <th>description</th>\n",
       "      <th>refreshed_at</th>\n",
       "      <th>from_date</th>\n",
       "      <th>to_date</th>\n",
       "    </tr>\n",
       "  </thead>\n",
       "  <tbody>\n",
       "    <tr>\n",
       "      <th>76502</th>\n",
       "      <td>JYZ2018</td>\n",
       "      <td>Japanese Yen Futures, December 2018 (JYZ2018)</td>\n",
       "      <td>For contract details, please see &lt;a href=http:...</td>\n",
       "      <td>2018-11-01 22:11:15</td>\n",
       "      <td>2014-02-14</td>\n",
       "      <td>2018-11-01</td>\n",
       "    </tr>\n",
       "  </tbody>\n",
       "</table>\n",
       "</div>"
      ],
      "text/plain": [
       "          code                                           name  \\\n",
       "76502  JYZ2018  Japanese Yen Futures, December 2018 (JYZ2018)   \n",
       "\n",
       "                                             description         refreshed_at  \\\n",
       "76502  For contract details, please see <a href=http:...  2018-11-01 22:11:15   \n",
       "\n",
       "       from_date    to_date  \n",
       "76502 2014-02-14 2018-11-01  "
      ]
     },
     "execution_count": 51,
     "metadata": {},
     "output_type": "execute_result"
    }
   ],
   "source": [
    "df[df['code'] == 'JYZ2018']"
   ]
  },
  {
   "cell_type": "code",
   "execution_count": 21,
   "metadata": {
    "collapsed": true
   },
   "outputs": [],
   "source": [
    "df.drop(df[\n",
    "    df['description'].str.contains('Dataset description', regex=False) == True\n",
    "    ].index, inplace=True)"
   ]
  },
  {
   "cell_type": "code",
   "execution_count": 22,
   "metadata": {},
   "outputs": [
    {
     "data": {
      "text/html": [
       "<div>\n",
       "<table border=\"1\" class=\"dataframe\">\n",
       "  <thead>\n",
       "    <tr style=\"text-align: right;\">\n",
       "      <th></th>\n",
       "      <th>code</th>\n",
       "      <th>name</th>\n",
       "      <th>description</th>\n",
       "      <th>refreshed_at</th>\n",
       "      <th>from_date</th>\n",
       "      <th>to_date</th>\n",
       "    </tr>\n",
       "  </thead>\n",
       "  <tbody>\n",
       "    <tr>\n",
       "      <th>76502</th>\n",
       "      <td>JYZ2018</td>\n",
       "      <td>Japanese Yen Futures, December 2018 (JYZ2018)</td>\n",
       "      <td>For contract details, please see &lt;a href=http:...</td>\n",
       "      <td>2018-11-01 22:11:15</td>\n",
       "      <td>2014-02-14</td>\n",
       "      <td>2018-11-01</td>\n",
       "    </tr>\n",
       "  </tbody>\n",
       "</table>\n",
       "</div>"
      ],
      "text/plain": [
       "          code                                           name  \\\n",
       "76502  JYZ2018  Japanese Yen Futures, December 2018 (JYZ2018)   \n",
       "\n",
       "                                             description         refreshed_at  \\\n",
       "76502  For contract details, please see <a href=http:...  2018-11-01 22:11:15   \n",
       "\n",
       "       from_date    to_date  \n",
       "76502 2014-02-14 2018-11-01  "
      ]
     },
     "execution_count": 22,
     "metadata": {},
     "output_type": "execute_result"
    }
   ],
   "source": [
    "df[df['code'] == 'JYZ2018']"
   ]
  },
  {
   "cell_type": "code",
   "execution_count": 23,
   "metadata": {
    "collapsed": true
   },
   "outputs": [],
   "source": [
    "# drop various indexes included in Quandl file\n",
    "df.drop(df[df['code'].str.contains('INDEX', regex=False) == True].index, inplace=True)"
   ]
  },
  {
   "cell_type": "code",
   "execution_count": 24,
   "metadata": {},
   "outputs": [
    {
     "data": {
      "text/html": [
       "<div>\n",
       "<table border=\"1\" class=\"dataframe\">\n",
       "  <thead>\n",
       "    <tr style=\"text-align: right;\">\n",
       "      <th></th>\n",
       "      <th>code</th>\n",
       "      <th>name</th>\n",
       "      <th>description</th>\n",
       "      <th>refreshed_at</th>\n",
       "      <th>from_date</th>\n",
       "      <th>to_date</th>\n",
       "    </tr>\n",
       "  </thead>\n",
       "  <tbody>\n",
       "    <tr>\n",
       "      <th>76502</th>\n",
       "      <td>JYZ2018</td>\n",
       "      <td>Japanese Yen Futures, December 2018 (JYZ2018)</td>\n",
       "      <td>For contract details, please see &lt;a href=http:...</td>\n",
       "      <td>2018-11-01 22:11:15</td>\n",
       "      <td>2014-02-14</td>\n",
       "      <td>2018-11-01</td>\n",
       "    </tr>\n",
       "  </tbody>\n",
       "</table>\n",
       "</div>"
      ],
      "text/plain": [
       "          code                                           name  \\\n",
       "76502  JYZ2018  Japanese Yen Futures, December 2018 (JYZ2018)   \n",
       "\n",
       "                                             description         refreshed_at  \\\n",
       "76502  For contract details, please see <a href=http:...  2018-11-01 22:11:15   \n",
       "\n",
       "       from_date    to_date  \n",
       "76502 2014-02-14 2018-11-01  "
      ]
     },
     "execution_count": 24,
     "metadata": {},
     "output_type": "execute_result"
    }
   ],
   "source": [
    "df[df['code'] == 'JYZ2018']"
   ]
  },
  {
   "cell_type": "code",
   "execution_count": 25,
   "metadata": {
    "collapsed": true
   },
   "outputs": [],
   "source": [
    "# fix an error in urls in quandl meta data file:\n",
    "df['description'] = df['description'].str.replace('/mac-swap-futures/', '/swap-futures/')\n",
    "df['year'] = df.code.apply(lambda x: x[-4:])\n",
    "df['root_symbol'] = df.code.apply(lambda x: x[:-5])\n",
    "df.rename(columns={'code': 'symbol'}, inplace=True)\n",
    "df['exch_symbol'] = df['symbol'].apply(lambda x: x[:-4] + x[-2:])"
   ]
  },
  {
   "cell_type": "code",
   "execution_count": 26,
   "metadata": {},
   "outputs": [
    {
     "data": {
      "text/html": [
       "<div>\n",
       "<table border=\"1\" class=\"dataframe\">\n",
       "  <thead>\n",
       "    <tr style=\"text-align: right;\">\n",
       "      <th></th>\n",
       "      <th>symbol</th>\n",
       "      <th>name</th>\n",
       "      <th>description</th>\n",
       "      <th>refreshed_at</th>\n",
       "      <th>from_date</th>\n",
       "      <th>to_date</th>\n",
       "      <th>year</th>\n",
       "      <th>root_symbol</th>\n",
       "      <th>exch_symbol</th>\n",
       "    </tr>\n",
       "  </thead>\n",
       "  <tbody>\n",
       "    <tr>\n",
       "      <th>76502</th>\n",
       "      <td>JYZ2018</td>\n",
       "      <td>Japanese Yen Futures, December 2018 (JYZ2018)</td>\n",
       "      <td>For contract details, please see &lt;a href=http:...</td>\n",
       "      <td>2018-11-01 22:11:15</td>\n",
       "      <td>2014-02-14</td>\n",
       "      <td>2018-11-01</td>\n",
       "      <td>2018</td>\n",
       "      <td>JY</td>\n",
       "      <td>JYZ18</td>\n",
       "    </tr>\n",
       "  </tbody>\n",
       "</table>\n",
       "</div>"
      ],
      "text/plain": [
       "        symbol                                           name  \\\n",
       "76502  JYZ2018  Japanese Yen Futures, December 2018 (JYZ2018)   \n",
       "\n",
       "                                             description         refreshed_at  \\\n",
       "76502  For contract details, please see <a href=http:...  2018-11-01 22:11:15   \n",
       "\n",
       "       from_date    to_date  year root_symbol exch_symbol  \n",
       "76502 2014-02-14 2018-11-01  2018          JY       JYZ18  "
      ]
     },
     "execution_count": 26,
     "metadata": {},
     "output_type": "execute_result"
    }
   ],
   "source": [
    "df[df['symbol'] == 'JYZ2018']"
   ]
  },
  {
   "cell_type": "code",
   "execution_count": 27,
   "metadata": {
    "collapsed": true
   },
   "outputs": [],
   "source": [
    "# extract url from description field\n",
    "df['description'] = df['description'].apply(\n",
    "lambda x: x.split('<a href=')[-1].split('>http')[0].strip())\n",
    "\n",
    "# change the url to get calendar data instead of contract specs\n",
    "df['description'] = df['description'].str.replace(\n",
    "    'contract_specifications', 'product_calendar_futures')"
   ]
  },
  {
   "cell_type": "code",
   "execution_count": 28,
   "metadata": {},
   "outputs": [
    {
     "data": {
      "text/html": [
       "<div>\n",
       "<table border=\"1\" class=\"dataframe\">\n",
       "  <thead>\n",
       "    <tr style=\"text-align: right;\">\n",
       "      <th></th>\n",
       "      <th>symbol</th>\n",
       "      <th>name</th>\n",
       "      <th>description</th>\n",
       "      <th>refreshed_at</th>\n",
       "      <th>from_date</th>\n",
       "      <th>to_date</th>\n",
       "      <th>year</th>\n",
       "      <th>root_symbol</th>\n",
       "      <th>exch_symbol</th>\n",
       "    </tr>\n",
       "  </thead>\n",
       "  <tbody>\n",
       "    <tr>\n",
       "      <th>76502</th>\n",
       "      <td>JYZ2018</td>\n",
       "      <td>Japanese Yen Futures, December 2018 (JYZ2018)</td>\n",
       "      <td>http://www.cmegroup.com/trading/fx/g10/japanes...</td>\n",
       "      <td>2018-11-01 22:11:15</td>\n",
       "      <td>2014-02-14</td>\n",
       "      <td>2018-11-01</td>\n",
       "      <td>2018</td>\n",
       "      <td>JY</td>\n",
       "      <td>JYZ18</td>\n",
       "    </tr>\n",
       "  </tbody>\n",
       "</table>\n",
       "</div>"
      ],
      "text/plain": [
       "        symbol                                           name  \\\n",
       "76502  JYZ2018  Japanese Yen Futures, December 2018 (JYZ2018)   \n",
       "\n",
       "                                             description         refreshed_at  \\\n",
       "76502  http://www.cmegroup.com/trading/fx/g10/japanes...  2018-11-01 22:11:15   \n",
       "\n",
       "       from_date    to_date  year root_symbol exch_symbol  \n",
       "76502 2014-02-14 2018-11-01  2018          JY       JYZ18  "
      ]
     },
     "execution_count": 28,
     "metadata": {},
     "output_type": "execute_result"
    }
   ],
   "source": [
    "df[df['symbol'] == 'JYZ2018']"
   ]
  },
  {
   "cell_type": "code",
   "execution_count": 29,
   "metadata": {},
   "outputs": [
    {
     "data": {
      "text/plain": [
       "symbol          36042\n",
       "name            36042\n",
       "description     36042\n",
       "refreshed_at    36042\n",
       "from_date       36042\n",
       "to_date         36042\n",
       "year            36042\n",
       "root_symbol     36042\n",
       "exch_symbol     36042\n",
       "dtype: int64"
      ]
     },
     "execution_count": 29,
     "metadata": {},
     "output_type": "execute_result"
    }
   ],
   "source": [
    "df.count()"
   ]
  },
  {
   "cell_type": "code",
   "execution_count": null,
   "metadata": {
    "collapsed": true
   },
   "outputs": [],
   "source": []
  },
  {
   "cell_type": "code",
   "execution_count": 30,
   "metadata": {},
   "outputs": [
    {
     "data": {
      "text/html": [
       "<div>\n",
       "<table border=\"1\" class=\"dataframe\">\n",
       "  <thead>\n",
       "    <tr style=\"text-align: right;\">\n",
       "      <th></th>\n",
       "      <th>symbol</th>\n",
       "      <th>name</th>\n",
       "      <th>description</th>\n",
       "      <th>refreshed_at</th>\n",
       "      <th>from_date</th>\n",
       "      <th>to_date</th>\n",
       "      <th>year</th>\n",
       "      <th>root_symbol</th>\n",
       "      <th>exch_symbol</th>\n",
       "    </tr>\n",
       "  </thead>\n",
       "  <tbody>\n",
       "    <tr>\n",
       "      <th>76502</th>\n",
       "      <td>JYZ2018</td>\n",
       "      <td>Japanese Yen Futures, December 2018 (JYZ2018)</td>\n",
       "      <td>http://www.cmegroup.com/trading/fx/g10/japanes...</td>\n",
       "      <td>2018-11-01 22:11:15</td>\n",
       "      <td>2014-02-14</td>\n",
       "      <td>2018-11-01</td>\n",
       "      <td>2018</td>\n",
       "      <td>JY</td>\n",
       "      <td>JYZ18</td>\n",
       "    </tr>\n",
       "  </tbody>\n",
       "</table>\n",
       "</div>"
      ],
      "text/plain": [
       "        symbol                                           name  \\\n",
       "76502  JYZ2018  Japanese Yen Futures, December 2018 (JYZ2018)   \n",
       "\n",
       "                                             description         refreshed_at  \\\n",
       "76502  http://www.cmegroup.com/trading/fx/g10/japanes...  2018-11-01 22:11:15   \n",
       "\n",
       "       from_date    to_date  year root_symbol exch_symbol  \n",
       "76502 2014-02-14 2018-11-01  2018          JY       JYZ18  "
      ]
     },
     "execution_count": 30,
     "metadata": {},
     "output_type": "execute_result"
    }
   ],
   "source": [
    "df[df['symbol'] == 'JYZ2018']"
   ]
  },
  {
   "cell_type": "code",
   "execution_count": 31,
   "metadata": {
    "collapsed": true
   },
   "outputs": [],
   "source": [
    "# Filter out non-active contracts (they don't need updating)\n",
    "cutoff_date = df['to_date'].max() - pd.Timedelta(days=2)"
   ]
  },
  {
   "cell_type": "code",
   "execution_count": 32,
   "metadata": {},
   "outputs": [
    {
     "data": {
      "text/plain": [
       "Timestamp('2018-10-30 00:00:00')"
      ]
     },
     "execution_count": 32,
     "metadata": {},
     "output_type": "execute_result"
    }
   ],
   "source": [
    "cutoff_date"
   ]
  },
  {
   "cell_type": "code",
   "execution_count": 33,
   "metadata": {},
   "outputs": [],
   "source": [
    "df = df[df['to_date'] >= cutoff_date]"
   ]
  },
  {
   "cell_type": "code",
   "execution_count": 34,
   "metadata": {},
   "outputs": [
    {
     "data": {
      "text/plain": [
       "symbol          6807\n",
       "name            6807\n",
       "description     6807\n",
       "refreshed_at    6807\n",
       "from_date       6807\n",
       "to_date         6807\n",
       "year            6807\n",
       "root_symbol     6807\n",
       "exch_symbol     6807\n",
       "dtype: int64"
      ]
     },
     "execution_count": 34,
     "metadata": {},
     "output_type": "execute_result"
    }
   ],
   "source": [
    "df.count()"
   ]
  },
  {
   "cell_type": "code",
   "execution_count": 42,
   "metadata": {},
   "outputs": [
    {
     "name": "stdout",
     "output_type": "stream",
     "text": [
      "('symbol', 4          0DF2019\n",
      "5          0DF2020\n",
      "12         0DG2019\n",
      "13         0DG2020\n",
      "20         0DH2019\n",
      "21         0DH2020\n",
      "28         0DJ2019\n",
      "29         0DJ2020\n",
      "36         0DK2019\n",
      "37         0DK2020\n",
      "44         0DM2019\n",
      "45         0DM2020\n",
      "52         0DN2019\n",
      "53         0DN2020\n",
      "60         0DQ2019\n",
      "61         0DQ2020\n",
      "68         0DU2019\n",
      "69         0DU2020\n",
      "75         0DV2018\n",
      "76         0DV2019\n",
      "77         0DV2020\n",
      "83         0DX2018\n",
      "84         0DX2019\n",
      "85         0DX2020\n",
      "91         0DZ2018\n",
      "92         0DZ2019\n",
      "93         0DZ2020\n",
      "100        0FF2020\n",
      "109        0FG2020\n",
      "118        0FH2020\n",
      "            ...   \n",
      "164577     Z9V2021\n",
      "164578     Z9V2022\n",
      "164583     Z9X2018\n",
      "164584     Z9X2019\n",
      "164585     Z9X2020\n",
      "164586     Z9X2021\n",
      "164587     Z9X2022\n",
      "164592     Z9Z2018\n",
      "164593     Z9Z2019\n",
      "164594     Z9Z2020\n",
      "164595     Z9Z2021\n",
      "164596     Z9Z2022\n",
      "164636      ZH2019\n",
      "164637      ZH2020\n",
      "164675      ZM2019\n",
      "164679    ZNCF2019\n",
      "164683    ZNCG2019\n",
      "164687    ZNCH2019\n",
      "164691    ZNCJ2019\n",
      "164695    ZNCK2019\n",
      "164699    ZNCM2019\n",
      "164703    ZNCN2019\n",
      "164707    ZNCQ2019\n",
      "164711    ZNCU2019\n",
      "164715    ZNCV2019\n",
      "164718    ZNCX2018\n",
      "164722    ZNCZ2018\n",
      "164769      ZU2019\n",
      "164774      ZZ2018\n",
      "164775      ZZ2019\n",
      "Name: symbol, dtype: object)\n",
      "('name', 4         Mini European 3.5% Fuel Oil Barges FOB Rdam (P...\n",
      "5         Mini European 3.5% Fuel Oil Barges FOB Rdam (P...\n",
      "12        Mini European 3.5% Fuel Oil Barges FOB Rdam (P...\n",
      "13        Mini European 3.5% Fuel Oil Barges FOB Rdam (P...\n",
      "20        Mini European 3.5% Fuel Oil Barges FOB Rdam (P...\n",
      "21        Mini European 3.5% Fuel Oil Barges FOB Rdam (P...\n",
      "28        Mini European 3.5% Fuel Oil Barges FOB Rdam (P...\n",
      "29        Mini European 3.5% Fuel Oil Barges FOB Rdam (P...\n",
      "36        Mini European 3.5% Fuel Oil Barges FOB Rdam (P...\n",
      "37        Mini European 3.5% Fuel Oil Barges FOB Rdam (P...\n",
      "44        Mini European 3.5% Fuel Oil Barges FOB Rdam (P...\n",
      "45        Mini European 3.5% Fuel Oil Barges FOB Rdam (P...\n",
      "52        Mini European 3.5% Fuel Oil Barges FOB Rdam (P...\n",
      "53        Mini European 3.5% Fuel Oil Barges FOB Rdam (P...\n",
      "60        Mini European 3.5% Fuel Oil Barges FOB Rdam (P...\n",
      "61        Mini European 3.5% Fuel Oil Barges FOB Rdam (P...\n",
      "68        Mini European 3.5% Fuel Oil Barges FOB Rdam (P...\n",
      "69        Mini European 3.5% Fuel Oil Barges FOB Rdam (P...\n",
      "75        Mini European 3.5% Fuel Oil Barges FOB Rdam (P...\n",
      "76        Mini European 3.5% Fuel Oil Barges FOB Rdam (P...\n",
      "77        Mini European 3.5% Fuel Oil Barges FOB Rdam (P...\n",
      "83        Mini European 3.5% Fuel Oil Barges FOB Rdam (P...\n",
      "84        Mini European 3.5% Fuel Oil Barges FOB Rdam (P...\n",
      "85        Mini European 3.5% Fuel Oil Barges FOB Rdam (P...\n",
      "91        Mini European 3.5% Fuel Oil Barges FOB Rdam (P...\n",
      "92        Mini European 3.5% Fuel Oil Barges FOB Rdam (P...\n",
      "93        Mini European 3.5% Fuel Oil Barges FOB Rdam (P...\n",
      "100       Mini Singapore Fuel Oil 180 cst (Platts) Futur...\n",
      "109       Mini Singapore Fuel Oil 180 cst (Platts) Futur...\n",
      "118       Mini Singapore Fuel Oil 180 cst (Platts) Futur...\n",
      "                                ...                        \n",
      "164577    PJM AEP Dayton Hub 5MW Peak Calendar-Month Rea...\n",
      "164578    PJM AEP Dayton Hub 5MW Peak Calendar-Month Rea...\n",
      "164583    PJM AEP Dayton Hub 5MW Peak Calendar-Month Rea...\n",
      "164584    PJM AEP Dayton Hub 5MW Peak Calendar-Month Rea...\n",
      "164585    PJM AEP Dayton Hub 5MW Peak Calendar-Month Rea...\n",
      "164586    PJM AEP Dayton Hub 5MW Peak Calendar-Month Rea...\n",
      "164587    PJM AEP Dayton Hub 5MW Peak Calendar-Month Rea...\n",
      "164592    PJM AEP Dayton Hub 5MW Peak Calendar-Month Rea...\n",
      "164593    PJM AEP Dayton Hub 5MW Peak Calendar-Month Rea...\n",
      "164594    PJM AEP Dayton Hub 5MW Peak Calendar-Month Rea...\n",
      "164595    PJM AEP Dayton Hub 5MW Peak Calendar-Month Rea...\n",
      "164596    PJM AEP Dayton Hub 5MW Peak Calendar-Month Rea...\n",
      "164636       Euro/Polish Zloty Futures, March 2019 (ZH2019)\n",
      "164637       Euro/Polish Zloty Futures, March 2020 (ZH2020)\n",
      "164675        Euro/Polish Zloty Futures, June 2019 (ZM2019)\n",
      "164679                Zinc Futures, January 2019 (ZNCF2019)\n",
      "164683               Zinc Futures, February 2019 (ZNCG2019)\n",
      "164687                  Zinc Futures, March 2019 (ZNCH2019)\n",
      "164691                  Zinc Futures, April 2019 (ZNCJ2019)\n",
      "164695                    Zinc Futures, May 2019 (ZNCK2019)\n",
      "164699                   Zinc Futures, June 2019 (ZNCM2019)\n",
      "164703                   Zinc Futures, July 2019 (ZNCN2019)\n",
      "164707                 Zinc Futures, August 2019 (ZNCQ2019)\n",
      "164711              Zinc Futures, September 2019 (ZNCU2019)\n",
      "164715                Zinc Futures, October 2019 (ZNCV2019)\n",
      "164718               Zinc Futures, November 2018 (ZNCX2018)\n",
      "164722               Zinc Futures, December 2018 (ZNCZ2018)\n",
      "164769    Euro/Polish Zloty Futures, September 2019 (ZU2...\n",
      "164774    Euro/Polish Zloty Futures, December 2018 (ZZ2018)\n",
      "164775    Euro/Polish Zloty Futures, December 2019 (ZZ2019)\n",
      "Name: name, dtype: object)\n",
      "('description', 4         http://www.cmegroup.com/trading/energy/refined...\n",
      "5         http://www.cmegroup.com/trading/energy/refined...\n",
      "12        http://www.cmegroup.com/trading/energy/refined...\n",
      "13        http://www.cmegroup.com/trading/energy/refined...\n",
      "20        http://www.cmegroup.com/trading/energy/refined...\n",
      "21        http://www.cmegroup.com/trading/energy/refined...\n",
      "28        http://www.cmegroup.com/trading/energy/refined...\n",
      "29        http://www.cmegroup.com/trading/energy/refined...\n",
      "36        http://www.cmegroup.com/trading/energy/refined...\n",
      "37        http://www.cmegroup.com/trading/energy/refined...\n",
      "44        http://www.cmegroup.com/trading/energy/refined...\n",
      "45        http://www.cmegroup.com/trading/energy/refined...\n",
      "52        http://www.cmegroup.com/trading/energy/refined...\n",
      "53        http://www.cmegroup.com/trading/energy/refined...\n",
      "60        http://www.cmegroup.com/trading/energy/refined...\n",
      "61        http://www.cmegroup.com/trading/energy/refined...\n",
      "68        http://www.cmegroup.com/trading/energy/refined...\n",
      "69        http://www.cmegroup.com/trading/energy/refined...\n",
      "75        http://www.cmegroup.com/trading/energy/refined...\n",
      "76        http://www.cmegroup.com/trading/energy/refined...\n",
      "77        http://www.cmegroup.com/trading/energy/refined...\n",
      "83        http://www.cmegroup.com/trading/energy/refined...\n",
      "84        http://www.cmegroup.com/trading/energy/refined...\n",
      "85        http://www.cmegroup.com/trading/energy/refined...\n",
      "91        http://www.cmegroup.com/trading/energy/refined...\n",
      "92        http://www.cmegroup.com/trading/energy/refined...\n",
      "93        http://www.cmegroup.com/trading/energy/refined...\n",
      "100       http://www.cmegroup.com/trading/energy/refined...\n",
      "109       http://www.cmegroup.com/trading/energy/refined...\n",
      "118       http://www.cmegroup.com/trading/energy/refined...\n",
      "                                ...                        \n",
      "164577    http://www.cmegroup.com/trading/energy/electri...\n",
      "164578    http://www.cmegroup.com/trading/energy/electri...\n",
      "164583    http://www.cmegroup.com/trading/energy/electri...\n",
      "164584    http://www.cmegroup.com/trading/energy/electri...\n",
      "164585    http://www.cmegroup.com/trading/energy/electri...\n",
      "164586    http://www.cmegroup.com/trading/energy/electri...\n",
      "164587    http://www.cmegroup.com/trading/energy/electri...\n",
      "164592    http://www.cmegroup.com/trading/energy/electri...\n",
      "164593    http://www.cmegroup.com/trading/energy/electri...\n",
      "164594    http://www.cmegroup.com/trading/energy/electri...\n",
      "164595    http://www.cmegroup.com/trading/energy/electri...\n",
      "164596    http://www.cmegroup.com/trading/energy/electri...\n",
      "164636    http://www.cmegroup.com/trading/fx/emerging-ma...\n",
      "164637    http://www.cmegroup.com/trading/fx/emerging-ma...\n",
      "164675    http://www.cmegroup.com/trading/fx/emerging-ma...\n",
      "164679    http://www.cmegroup.com/trading/metals/base/zi...\n",
      "164683    http://www.cmegroup.com/trading/metals/base/zi...\n",
      "164687    http://www.cmegroup.com/trading/metals/base/zi...\n",
      "164691    http://www.cmegroup.com/trading/metals/base/zi...\n",
      "164695    http://www.cmegroup.com/trading/metals/base/zi...\n",
      "164699    http://www.cmegroup.com/trading/metals/base/zi...\n",
      "164703    http://www.cmegroup.com/trading/metals/base/zi...\n",
      "164707    http://www.cmegroup.com/trading/metals/base/zi...\n",
      "164711    http://www.cmegroup.com/trading/metals/base/zi...\n",
      "164715    http://www.cmegroup.com/trading/metals/base/zi...\n",
      "164718    http://www.cmegroup.com/trading/metals/base/zi...\n",
      "164722    http://www.cmegroup.com/trading/metals/base/zi...\n",
      "164769    http://www.cmegroup.com/trading/fx/emerging-ma...\n",
      "164774    http://www.cmegroup.com/trading/fx/emerging-ma...\n",
      "164775    http://www.cmegroup.com/trading/fx/emerging-ma...\n",
      "Name: description, dtype: object)\n",
      "('refreshed_at', 4         2018-11-01 22:11:08\n",
      "5         2018-11-01 22:11:08\n",
      "12        2018-11-01 22:11:08\n",
      "13        2018-11-01 22:11:08\n",
      "20        2018-11-01 22:11:08\n",
      "21        2018-11-01 22:11:08\n",
      "28        2018-11-01 22:11:08\n",
      "29        2018-11-01 22:11:08\n",
      "36        2018-11-01 22:11:08\n",
      "37        2018-11-01 22:11:08\n",
      "44        2018-11-01 22:11:08\n",
      "45        2018-11-01 22:11:08\n",
      "52        2018-11-01 22:11:08\n",
      "53        2018-11-01 22:11:08\n",
      "60        2018-11-01 22:11:08\n",
      "61        2018-11-01 22:11:08\n",
      "68        2018-11-01 22:11:08\n",
      "69        2018-11-01 22:11:08\n",
      "75        2018-11-01 22:11:08\n",
      "76        2018-11-01 22:11:08\n",
      "77        2018-11-01 22:11:08\n",
      "83        2018-11-01 22:11:08\n",
      "84        2018-11-01 22:11:08\n",
      "85        2018-11-01 22:11:08\n",
      "91        2018-11-01 22:11:08\n",
      "92        2018-11-01 22:11:08\n",
      "93        2018-11-01 22:11:08\n",
      "100       2018-11-01 22:11:09\n",
      "109       2018-11-01 22:11:09\n",
      "118       2018-11-01 22:11:09\n",
      "                 ...         \n",
      "164577    2018-11-01 22:10:52\n",
      "164578    2018-11-01 22:10:52\n",
      "164583    2018-11-01 00:31:41\n",
      "164584    2018-11-01 22:10:51\n",
      "164585    2018-11-01 22:10:51\n",
      "164586    2018-11-01 22:10:52\n",
      "164587    2018-11-01 22:10:52\n",
      "164592    2018-11-01 22:10:51\n",
      "164593    2018-11-01 22:10:51\n",
      "164594    2018-11-01 22:10:51\n",
      "164595    2018-11-01 22:10:52\n",
      "164596    2018-11-01 22:10:52\n",
      "164636    2018-11-01 22:11:13\n",
      "164637    2018-11-01 22:11:13\n",
      "164675    2018-11-01 22:11:13\n",
      "164679    2018-11-01 22:11:17\n",
      "164683    2018-11-01 22:11:17\n",
      "164687    2018-11-01 22:11:17\n",
      "164691    2018-11-01 22:11:17\n",
      "164695    2018-11-01 22:11:17\n",
      "164699    2018-11-01 22:11:17\n",
      "164703    2018-11-01 22:11:17\n",
      "164707    2018-11-01 22:11:17\n",
      "164711    2018-11-01 22:11:17\n",
      "164715    2018-11-01 22:11:17\n",
      "164718    2018-11-01 22:11:17\n",
      "164722    2018-11-01 22:11:17\n",
      "164769    2018-11-01 22:11:13\n",
      "164774    2018-11-01 22:11:13\n",
      "164775    2018-11-01 22:11:13\n",
      "Name: refreshed_at, dtype: object)\n",
      "('from_date', 4        2015-02-12\n",
      "5        2017-12-04\n",
      "12       2015-02-12\n",
      "13       2017-12-04\n",
      "20       2015-02-12\n",
      "21       2017-12-04\n",
      "28       2015-02-12\n",
      "29       2017-12-04\n",
      "36       2015-02-12\n",
      "37       2017-12-04\n",
      "44       2015-02-12\n",
      "45       2017-12-04\n",
      "52       2015-02-12\n",
      "53       2017-12-04\n",
      "60       2015-02-12\n",
      "61       2017-12-04\n",
      "68       2015-02-12\n",
      "69       2017-12-04\n",
      "75       2014-11-21\n",
      "76       2015-02-12\n",
      "77       2017-12-04\n",
      "83       2014-11-21\n",
      "84       2015-02-12\n",
      "85       2017-12-04\n",
      "91       2014-11-21\n",
      "92       2015-02-12\n",
      "93       2017-12-04\n",
      "100      2017-12-04\n",
      "109      2017-12-04\n",
      "118      2017-12-04\n",
      "            ...    \n",
      "164577   2016-07-28\n",
      "164578   2017-07-13\n",
      "164583   2014-02-18\n",
      "164584   2015-08-19\n",
      "164585   2015-11-30\n",
      "164586   2016-07-28\n",
      "164587   2017-07-13\n",
      "164592   2014-02-18\n",
      "164593   2015-08-19\n",
      "164594   2015-11-30\n",
      "164595   2016-07-28\n",
      "164596   2017-07-13\n",
      "164636   2017-09-19\n",
      "164637   2018-09-18\n",
      "164675   2017-12-19\n",
      "164679   2018-01-18\n",
      "164683   2018-03-15\n",
      "164687   2018-03-29\n",
      "164691   2018-04-27\n",
      "164695   2018-05-30\n",
      "164699   2018-06-29\n",
      "164703   2018-07-30\n",
      "164707   2018-08-30\n",
      "164711   2018-09-27\n",
      "164715   2018-10-30\n",
      "164718   2017-11-27\n",
      "164722   2017-12-28\n",
      "164769   2018-03-20\n",
      "164774   2017-06-20\n",
      "164775   2018-06-19\n",
      "Name: from_date, dtype: datetime64[ns])\n",
      "('to_date', 4        2018-11-01\n",
      "5        2018-11-01\n",
      "12       2018-11-01\n",
      "13       2018-11-01\n",
      "20       2018-11-01\n",
      "21       2018-11-01\n",
      "28       2018-11-01\n",
      "29       2018-11-01\n",
      "36       2018-11-01\n",
      "37       2018-11-01\n",
      "44       2018-11-01\n",
      "45       2018-11-01\n",
      "52       2018-11-01\n",
      "53       2018-11-01\n",
      "60       2018-11-01\n",
      "61       2018-11-01\n",
      "68       2018-11-01\n",
      "69       2018-11-01\n",
      "75       2018-11-01\n",
      "76       2018-11-01\n",
      "77       2018-11-01\n",
      "83       2018-11-01\n",
      "84       2018-11-01\n",
      "85       2018-11-01\n",
      "91       2018-11-01\n",
      "92       2018-11-01\n",
      "93       2018-11-01\n",
      "100      2018-11-01\n",
      "109      2018-11-01\n",
      "118      2018-11-01\n",
      "            ...    \n",
      "164577   2018-11-01\n",
      "164578   2018-11-01\n",
      "164583   2018-10-31\n",
      "164584   2018-11-01\n",
      "164585   2018-11-01\n",
      "164586   2018-11-01\n",
      "164587   2018-11-01\n",
      "164592   2018-11-01\n",
      "164593   2018-11-01\n",
      "164594   2018-11-01\n",
      "164595   2018-11-01\n",
      "164596   2018-11-01\n",
      "164636   2018-11-01\n",
      "164637   2018-11-01\n",
      "164675   2018-11-01\n",
      "164679   2018-11-01\n",
      "164683   2018-11-01\n",
      "164687   2018-11-01\n",
      "164691   2018-11-01\n",
      "164695   2018-11-01\n",
      "164699   2018-11-01\n",
      "164703   2018-11-01\n",
      "164707   2018-11-01\n",
      "164711   2018-11-01\n",
      "164715   2018-11-01\n",
      "164718   2018-11-01\n",
      "164722   2018-11-01\n",
      "164769   2018-11-01\n",
      "164774   2018-11-01\n",
      "164775   2018-11-01\n",
      "Name: to_date, dtype: datetime64[ns])\n",
      "('year', 4         2019\n",
      "5         2020\n",
      "12        2019\n",
      "13        2020\n",
      "20        2019\n",
      "21        2020\n",
      "28        2019\n",
      "29        2020\n",
      "36        2019\n",
      "37        2020\n",
      "44        2019\n",
      "45        2020\n",
      "52        2019\n",
      "53        2020\n",
      "60        2019\n",
      "61        2020\n",
      "68        2019\n",
      "69        2020\n",
      "75        2018\n",
      "76        2019\n",
      "77        2020\n",
      "83        2018\n",
      "84        2019\n",
      "85        2020\n",
      "91        2018\n",
      "92        2019\n",
      "93        2020\n",
      "100       2020\n",
      "109       2020\n",
      "118       2020\n",
      "          ... \n",
      "164577    2021\n",
      "164578    2022\n",
      "164583    2018\n",
      "164584    2019\n",
      "164585    2020\n",
      "164586    2021\n",
      "164587    2022\n",
      "164592    2018\n",
      "164593    2019\n",
      "164594    2020\n",
      "164595    2021\n",
      "164596    2022\n",
      "164636    2019\n",
      "164637    2020\n",
      "164675    2019\n",
      "164679    2019\n",
      "164683    2019\n",
      "164687    2019\n",
      "164691    2019\n",
      "164695    2019\n",
      "164699    2019\n",
      "164703    2019\n",
      "164707    2019\n",
      "164711    2019\n",
      "164715    2019\n",
      "164718    2018\n",
      "164722    2018\n",
      "164769    2019\n",
      "164774    2018\n",
      "164775    2019\n",
      "Name: year, dtype: object)\n",
      "('root_symbol', 4          0D\n",
      "5          0D\n",
      "12         0D\n",
      "13         0D\n",
      "20         0D\n",
      "21         0D\n",
      "28         0D\n",
      "29         0D\n",
      "36         0D\n",
      "37         0D\n",
      "44         0D\n",
      "45         0D\n",
      "52         0D\n",
      "53         0D\n",
      "60         0D\n",
      "61         0D\n",
      "68         0D\n",
      "69         0D\n",
      "75         0D\n",
      "76         0D\n",
      "77         0D\n",
      "83         0D\n",
      "84         0D\n",
      "85         0D\n",
      "91         0D\n",
      "92         0D\n",
      "93         0D\n",
      "100        0F\n",
      "109        0F\n",
      "118        0F\n",
      "         ... \n",
      "164577     Z9\n",
      "164578     Z9\n",
      "164583     Z9\n",
      "164584     Z9\n",
      "164585     Z9\n",
      "164586     Z9\n",
      "164587     Z9\n",
      "164592     Z9\n",
      "164593     Z9\n",
      "164594     Z9\n",
      "164595     Z9\n",
      "164596     Z9\n",
      "164636      Z\n",
      "164637      Z\n",
      "164675      Z\n",
      "164679    ZNC\n",
      "164683    ZNC\n",
      "164687    ZNC\n",
      "164691    ZNC\n",
      "164695    ZNC\n",
      "164699    ZNC\n",
      "164703    ZNC\n",
      "164707    ZNC\n",
      "164711    ZNC\n",
      "164715    ZNC\n",
      "164718    ZNC\n",
      "164722    ZNC\n",
      "164769      Z\n",
      "164774      Z\n",
      "164775      Z\n",
      "Name: root_symbol, dtype: object)\n",
      "('exch_symbol', 4          0DF19\n",
      "5          0DF20\n",
      "12         0DG19\n",
      "13         0DG20\n",
      "20         0DH19\n",
      "21         0DH20\n",
      "28         0DJ19\n",
      "29         0DJ20\n",
      "36         0DK19\n",
      "37         0DK20\n",
      "44         0DM19\n",
      "45         0DM20\n",
      "52         0DN19\n",
      "53         0DN20\n",
      "60         0DQ19\n",
      "61         0DQ20\n",
      "68         0DU19\n",
      "69         0DU20\n",
      "75         0DV18\n",
      "76         0DV19\n",
      "77         0DV20\n",
      "83         0DX18\n",
      "84         0DX19\n",
      "85         0DX20\n",
      "91         0DZ18\n",
      "92         0DZ19\n",
      "93         0DZ20\n",
      "100        0FF20\n",
      "109        0FG20\n",
      "118        0FH20\n",
      "           ...  \n",
      "164577     Z9V21\n",
      "164578     Z9V22\n",
      "164583     Z9X18\n",
      "164584     Z9X19\n",
      "164585     Z9X20\n",
      "164586     Z9X21\n",
      "164587     Z9X22\n",
      "164592     Z9Z18\n",
      "164593     Z9Z19\n",
      "164594     Z9Z20\n",
      "164595     Z9Z21\n",
      "164596     Z9Z22\n",
      "164636      ZH19\n",
      "164637      ZH20\n",
      "164675      ZM19\n",
      "164679    ZNCF19\n",
      "164683    ZNCG19\n",
      "164687    ZNCH19\n",
      "164691    ZNCJ19\n",
      "164695    ZNCK19\n",
      "164699    ZNCM19\n",
      "164703    ZNCN19\n",
      "164707    ZNCQ19\n",
      "164711    ZNCU19\n",
      "164715    ZNCV19\n",
      "164718    ZNCX18\n",
      "164722    ZNCZ18\n",
      "164769      ZU19\n",
      "164774      ZZ18\n",
      "164775      ZZ19\n",
      "Name: exch_symbol, dtype: object)\n"
     ]
    }
   ],
   "source": [
    "for row in df.iteritems():\n",
    "    print(row)"
   ]
  },
  {
   "cell_type": "code",
   "execution_count": null,
   "metadata": {
    "collapsed": true
   },
   "outputs": [],
   "source": []
  },
  {
   "cell_type": "code",
   "execution_count": null,
   "metadata": {
    "collapsed": true
   },
   "outputs": [],
   "source": []
  },
  {
   "cell_type": "code",
   "execution_count": null,
   "metadata": {
    "collapsed": true
   },
   "outputs": [],
   "source": []
  },
  {
   "cell_type": "code",
   "execution_count": null,
   "metadata": {
    "collapsed": true
   },
   "outputs": [],
   "source": []
  },
  {
   "cell_type": "code",
   "execution_count": null,
   "metadata": {
    "collapsed": true
   },
   "outputs": [],
   "source": []
  },
  {
   "cell_type": "code",
   "execution_count": null,
   "metadata": {
    "collapsed": true
   },
   "outputs": [],
   "source": []
  },
  {
   "cell_type": "code",
   "execution_count": null,
   "metadata": {
    "collapsed": true
   },
   "outputs": [],
   "source": []
  },
  {
   "cell_type": "code",
   "execution_count": null,
   "metadata": {
    "collapsed": true
   },
   "outputs": [],
   "source": []
  },
  {
   "cell_type": "code",
   "execution_count": null,
   "metadata": {
    "collapsed": true
   },
   "outputs": [],
   "source": []
  },
  {
   "cell_type": "code",
   "execution_count": null,
   "metadata": {
    "collapsed": true
   },
   "outputs": [],
   "source": []
  },
  {
   "cell_type": "code",
   "execution_count": null,
   "metadata": {
    "collapsed": true
   },
   "outputs": [],
   "source": []
  },
  {
   "cell_type": "code",
   "execution_count": 17,
   "metadata": {
    "collapsed": true
   },
   "outputs": [],
   "source": [
    "df = df[df['year'] > '2018']"
   ]
  },
  {
   "cell_type": "code",
   "execution_count": null,
   "metadata": {
    "collapsed": true
   },
   "outputs": [],
   "source": []
  },
  {
   "cell_type": "code",
   "execution_count": null,
   "metadata": {
    "collapsed": true
   },
   "outputs": [],
   "source": []
  },
  {
   "cell_type": "code",
   "execution_count": null,
   "metadata": {
    "collapsed": true
   },
   "outputs": [],
   "source": []
  },
  {
   "cell_type": "code",
   "execution_count": null,
   "metadata": {
    "collapsed": true
   },
   "outputs": [],
   "source": []
  },
  {
   "cell_type": "code",
   "execution_count": null,
   "metadata": {
    "collapsed": true
   },
   "outputs": [],
   "source": []
  },
  {
   "cell_type": "code",
   "execution_count": null,
   "metadata": {
    "collapsed": true
   },
   "outputs": [],
   "source": []
  },
  {
   "cell_type": "code",
   "execution_count": 18,
   "metadata": {},
   "outputs": [
    {
     "data": {
      "text/plain": [
       "symbol          6246\n",
       "name            6246\n",
       "description     6246\n",
       "refreshed_at    6246\n",
       "from_date       6246\n",
       "to_date         6246\n",
       "year            6246\n",
       "root_symbol     6246\n",
       "exch_symbol     6246\n",
       "dtype: int64"
      ]
     },
     "execution_count": 18,
     "metadata": {},
     "output_type": "execute_result"
    }
   ],
   "source": [
    "df.count()"
   ]
  },
  {
   "cell_type": "code",
   "execution_count": 16,
   "metadata": {},
   "outputs": [
    {
     "data": {
      "text/html": [
       "<div>\n",
       "<table border=\"1\" class=\"dataframe\">\n",
       "  <thead>\n",
       "    <tr style=\"text-align: right;\">\n",
       "      <th></th>\n",
       "      <th>symbol</th>\n",
       "      <th>name</th>\n",
       "      <th>description</th>\n",
       "      <th>refreshed_at</th>\n",
       "      <th>from_date</th>\n",
       "      <th>to_date</th>\n",
       "      <th>root_symbol</th>\n",
       "      <th>exch_symbol</th>\n",
       "    </tr>\n",
       "  </thead>\n",
       "  <tbody>\n",
       "    <tr>\n",
       "      <th>76502</th>\n",
       "      <td>JYZ2018</td>\n",
       "      <td>Japanese Yen Futures, December 2018 (JYZ2018)</td>\n",
       "      <td>http://www.cmegroup.com/trading/fx/g10/japanes...</td>\n",
       "      <td>2018-11-01 22:11:15</td>\n",
       "      <td>2014-02-14</td>\n",
       "      <td>2018-11-01</td>\n",
       "      <td>JY</td>\n",
       "      <td>JYZ18</td>\n",
       "    </tr>\n",
       "  </tbody>\n",
       "</table>\n",
       "</div>"
      ],
      "text/plain": [
       "        symbol                                           name  \\\n",
       "76502  JYZ2018  Japanese Yen Futures, December 2018 (JYZ2018)   \n",
       "\n",
       "                                             description         refreshed_at  \\\n",
       "76502  http://www.cmegroup.com/trading/fx/g10/japanes...  2018-11-01 22:11:15   \n",
       "\n",
       "       from_date    to_date root_symbol exch_symbol  \n",
       "76502 2014-02-14 2018-11-01          JY       JYZ18  "
      ]
     },
     "execution_count": 16,
     "metadata": {},
     "output_type": "execute_result"
    }
   ],
   "source": [
    "df[df['symbol'] == 'JYZ2018']"
   ]
  },
  {
   "cell_type": "code",
   "execution_count": 19,
   "metadata": {},
   "outputs": [
    {
     "data": {
      "text/plain": [
       "256"
      ]
     },
     "execution_count": 19,
     "metadata": {},
     "output_type": "execute_result"
    }
   ],
   "source": [
    "len(df['root_symbol'].unique())"
   ]
  },
  {
   "cell_type": "code",
   "execution_count": null,
   "metadata": {
    "collapsed": true
   },
   "outputs": [],
   "source": []
  },
  {
   "cell_type": "code",
   "execution_count": 45,
   "metadata": {},
   "outputs": [
    {
     "data": {
      "text/html": [
       "<div>\n",
       "<table border=\"1\" class=\"dataframe\">\n",
       "  <thead>\n",
       "    <tr style=\"text-align: right;\">\n",
       "      <th></th>\n",
       "      <th>symbol</th>\n",
       "      <th>name</th>\n",
       "      <th>description</th>\n",
       "      <th>refreshed_at</th>\n",
       "      <th>from_date</th>\n",
       "      <th>to_date</th>\n",
       "      <th>year</th>\n",
       "      <th>root_symbol</th>\n",
       "      <th>exch_symbol</th>\n",
       "    </tr>\n",
       "  </thead>\n",
       "  <tbody>\n",
       "  </tbody>\n",
       "</table>\n",
       "</div>"
      ],
      "text/plain": [
       "Empty DataFrame\n",
       "Columns: [symbol, name, description, refreshed_at, from_date, to_date, year, root_symbol, exch_symbol]\n",
       "Index: []"
      ]
     },
     "execution_count": 45,
     "metadata": {},
     "output_type": "execute_result"
    }
   ],
   "source": [
    "df[df['year'] < '2018']"
   ]
  },
  {
   "cell_type": "code",
   "execution_count": 16,
   "metadata": {},
   "outputs": [
    {
     "data": {
      "text/html": [
       "<div>\n",
       "<table border=\"1\" class=\"dataframe\">\n",
       "  <thead>\n",
       "    <tr style=\"text-align: right;\">\n",
       "      <th></th>\n",
       "      <th>symbol</th>\n",
       "      <th>name</th>\n",
       "      <th>description</th>\n",
       "      <th>refreshed_at</th>\n",
       "      <th>from_date</th>\n",
       "      <th>to_date</th>\n",
       "      <th>year</th>\n",
       "      <th>root_symbol</th>\n",
       "      <th>exch_symbol</th>\n",
       "    </tr>\n",
       "  </thead>\n",
       "  <tbody>\n",
       "    <tr>\n",
       "      <th>4</th>\n",
       "      <td>0DF2019</td>\n",
       "      <td>Mini European 3.5% Fuel Oil Barges FOB Rdam (P...</td>\n",
       "      <td>http://www.cmegroup.com/trading/energy/refined...</td>\n",
       "      <td>2018-11-01 22:11:08</td>\n",
       "      <td>2015-02-12</td>\n",
       "      <td>2018-11-01</td>\n",
       "      <td>2019</td>\n",
       "      <td>0D</td>\n",
       "      <td>0DF19</td>\n",
       "    </tr>\n",
       "    <tr>\n",
       "      <th>5</th>\n",
       "      <td>0DF2020</td>\n",
       "      <td>Mini European 3.5% Fuel Oil Barges FOB Rdam (P...</td>\n",
       "      <td>http://www.cmegroup.com/trading/energy/refined...</td>\n",
       "      <td>2018-11-01 22:11:08</td>\n",
       "      <td>2017-12-04</td>\n",
       "      <td>2018-11-01</td>\n",
       "      <td>2020</td>\n",
       "      <td>0D</td>\n",
       "      <td>0DF20</td>\n",
       "    </tr>\n",
       "    <tr>\n",
       "      <th>12</th>\n",
       "      <td>0DG2019</td>\n",
       "      <td>Mini European 3.5% Fuel Oil Barges FOB Rdam (P...</td>\n",
       "      <td>http://www.cmegroup.com/trading/energy/refined...</td>\n",
       "      <td>2018-11-01 22:11:08</td>\n",
       "      <td>2015-02-12</td>\n",
       "      <td>2018-11-01</td>\n",
       "      <td>2019</td>\n",
       "      <td>0D</td>\n",
       "      <td>0DG19</td>\n",
       "    </tr>\n",
       "    <tr>\n",
       "      <th>13</th>\n",
       "      <td>0DG2020</td>\n",
       "      <td>Mini European 3.5% Fuel Oil Barges FOB Rdam (P...</td>\n",
       "      <td>http://www.cmegroup.com/trading/energy/refined...</td>\n",
       "      <td>2018-11-01 22:11:08</td>\n",
       "      <td>2017-12-04</td>\n",
       "      <td>2018-11-01</td>\n",
       "      <td>2020</td>\n",
       "      <td>0D</td>\n",
       "      <td>0DG20</td>\n",
       "    </tr>\n",
       "    <tr>\n",
       "      <th>20</th>\n",
       "      <td>0DH2019</td>\n",
       "      <td>Mini European 3.5% Fuel Oil Barges FOB Rdam (P...</td>\n",
       "      <td>http://www.cmegroup.com/trading/energy/refined...</td>\n",
       "      <td>2018-11-01 22:11:08</td>\n",
       "      <td>2015-02-12</td>\n",
       "      <td>2018-11-01</td>\n",
       "      <td>2019</td>\n",
       "      <td>0D</td>\n",
       "      <td>0DH19</td>\n",
       "    </tr>\n",
       "  </tbody>\n",
       "</table>\n",
       "</div>"
      ],
      "text/plain": [
       "     symbol                                               name  \\\n",
       "4   0DF2019  Mini European 3.5% Fuel Oil Barges FOB Rdam (P...   \n",
       "5   0DF2020  Mini European 3.5% Fuel Oil Barges FOB Rdam (P...   \n",
       "12  0DG2019  Mini European 3.5% Fuel Oil Barges FOB Rdam (P...   \n",
       "13  0DG2020  Mini European 3.5% Fuel Oil Barges FOB Rdam (P...   \n",
       "20  0DH2019  Mini European 3.5% Fuel Oil Barges FOB Rdam (P...   \n",
       "\n",
       "                                          description         refreshed_at  \\\n",
       "4   http://www.cmegroup.com/trading/energy/refined...  2018-11-01 22:11:08   \n",
       "5   http://www.cmegroup.com/trading/energy/refined...  2018-11-01 22:11:08   \n",
       "12  http://www.cmegroup.com/trading/energy/refined...  2018-11-01 22:11:08   \n",
       "13  http://www.cmegroup.com/trading/energy/refined...  2018-11-01 22:11:08   \n",
       "20  http://www.cmegroup.com/trading/energy/refined...  2018-11-01 22:11:08   \n",
       "\n",
       "    from_date    to_date  year root_symbol exch_symbol  \n",
       "4  2015-02-12 2018-11-01  2019          0D       0DF19  \n",
       "5  2017-12-04 2018-11-01  2020          0D       0DF20  \n",
       "12 2015-02-12 2018-11-01  2019          0D       0DG19  \n",
       "13 2017-12-04 2018-11-01  2020          0D       0DG20  \n",
       "20 2015-02-12 2018-11-01  2019          0D       0DH19  "
      ]
     },
     "execution_count": 16,
     "metadata": {},
     "output_type": "execute_result"
    }
   ],
   "source": [
    "df.head()"
   ]
  },
  {
   "cell_type": "code",
   "execution_count": 17,
   "metadata": {},
   "outputs": [
    {
     "data": {
      "text/html": [
       "<div>\n",
       "<table border=\"1\" class=\"dataframe\">\n",
       "  <thead>\n",
       "    <tr style=\"text-align: right;\">\n",
       "      <th></th>\n",
       "      <th>symbol</th>\n",
       "      <th>name</th>\n",
       "      <th>description</th>\n",
       "      <th>refreshed_at</th>\n",
       "      <th>from_date</th>\n",
       "      <th>to_date</th>\n",
       "      <th>year</th>\n",
       "      <th>root_symbol</th>\n",
       "      <th>exch_symbol</th>\n",
       "    </tr>\n",
       "  </thead>\n",
       "  <tbody>\n",
       "  </tbody>\n",
       "</table>\n",
       "</div>"
      ],
      "text/plain": [
       "Empty DataFrame\n",
       "Columns: [symbol, name, description, refreshed_at, from_date, to_date, year, root_symbol, exch_symbol]\n",
       "Index: []"
      ]
     },
     "execution_count": 17,
     "metadata": {},
     "output_type": "execute_result"
    }
   ],
   "source": [
    "df[df['symbol'] == 'JYZ2018']"
   ]
  },
  {
   "cell_type": "code",
   "execution_count": null,
   "metadata": {
    "collapsed": true
   },
   "outputs": [],
   "source": []
  }
 ],
 "metadata": {
  "kernelspec": {
   "display_name": "env_zipline",
   "language": "python",
   "name": "env_zipline"
  },
  "language_info": {
   "codemirror_mode": {
    "name": "ipython",
    "version": 3
   },
   "file_extension": ".py",
   "mimetype": "text/x-python",
   "name": "python",
   "nbconvert_exporter": "python",
   "pygments_lexer": "ipython3",
   "version": "3.5.5"
  }
 },
 "nbformat": 4,
 "nbformat_minor": 2
}
