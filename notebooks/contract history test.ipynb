{
 "cells": [
  {
   "cell_type": "code",
   "execution_count": 1,
   "metadata": {},
   "outputs": [
    {
     "name": "stderr",
     "output_type": "stream",
     "text": [
      "C:\\Users\\tomek\\zipline\\bundles\\extension.py:13: UserWarning: Overwriting bundle with name 'futures'\n",
      "  end_session=end_session,\n"
     ]
    }
   ],
   "source": [
    "import os\n",
    "import pandas as pd\n",
    "from zipline.data import bundles\n",
    "from zipline.data.data_portal import DataPortal\n",
    "from zipline.utils.calendars import get_calendar\n",
    "from zipline.assets._assets import Future\n",
    "from zipline.utils.run_algo import load_extensions\n",
    "\n",
    "# Load extensions.py; this allows you access to custom bundles\n",
    "load_extensions(\n",
    "    default=True,\n",
    "    extensions=[],\n",
    "    strict=True,\n",
    "    environ=os.environ,\n",
    ")\n",
    "\n",
    "# Set-Up Pricing Data Access\n",
    "trading_calendar = get_calendar('NYSE')\n",
    "bundle = 'futures'\n",
    "bundle_data = bundles.load(bundle)\n",
    "\n",
    "data = DataPortal(\n",
    "    bundle_data.asset_finder,\n",
    "    trading_calendar=trading_calendar,\n",
    "    first_trading_day=bundle_data.equity_daily_bar_reader.first_trading_day,\n",
    "    equity_minute_reader=None,\n",
    "    equity_daily_reader=bundle_data.equity_daily_bar_reader,\n",
    "    future_daily_reader=bundle_data.equity_daily_bar_reader,\n",
    "    adjustment_reader=bundle_data.adjustment_reader,\n",
    ")"
   ]
  },
  {
   "cell_type": "code",
   "execution_count": 2,
   "metadata": {
    "collapsed": true
   },
   "outputs": [],
   "source": [
    "future = bundle_data.asset_finder.lookup_future_symbol\n",
    "continuous_future = bundle_data.asset_finder.create_continuous_future\n",
    "history = data.get_history_window"
   ]
  },
  {
   "cell_type": "code",
   "execution_count": 10,
   "metadata": {
    "collapsed": true
   },
   "outputs": [],
   "source": [
    "contracts = [\n",
    "    # rates\n",
    "    'ED', # eurodollars\n",
    "    'TY', # 10y T-note\n",
    "    'FV', # 5y T-note\n",
    "    'TU', # 2y T-note\n",
    "    'US', # U.S. Treasury bond\n",
    "    'FF', # 30 day Fed funds\n",
    "    'UL', # Ultra T-bond\n",
    "    'SA', # 5y deliverable IRS\n",
    "    'N1U',# 10y deliverable IRS\n",
    "    'I3', # 30y deliverable IRS\n",
    "    # equity\n",
    "    'ES', # e-mini S&P 500\n",
    "    'NQ', # e-mini Nasdaq 100\n",
    "    'YM', # e-mini DowJones\n",
    "    'MD', # e-mini S&P MidCap 400\n",
    "    'NK', # Nikkei $5\n",
    "    'XAF',# e-mini financial sector\n",
    "    'XAK',# e-mini technology sector\n",
    "    'XAP',# e-mini consumer staples sector\n",
    "    'XAU',# e-mini utilities sector\n",
    "    'XAY',# e-mini consumer discretionary sector\n",
    "    # energy\n",
    "    'CL', # WTI oil\n",
    "    'NG', # natural gas\n",
    "    'RB', # RBOB gasoline\n",
    "    'HO', # NY Harbor ULSD\n",
    "    'BZ', # Brent oil\n",
    "    '71', # Ethanol\n",
    "    # fx\n",
    "    'EC', # EUR/USD\n",
    "    'JY', # JPY/USD\n",
    "    'BP', # GBP/USD\n",
    "    'AD', # AUD/USD\n",
    "    'CD', # CAD/USD\n",
    "    'MP', # MXN/USD\n",
    "    'SF', # CHF/USD\n",
    "    # agriculture\n",
    "    '_C', # Corn\n",
    "    '_S', # Soybeans\n",
    "    '_W', # Chicago SRW Wheat\n",
    "    'BO', # Soybean oil\n",
    "    'SM', # Soybean meal\n",
    "    'LC', # Live cattle\n",
    "    'KW', # KC HRW wheat\n",
    "    'LN', # Lean hogs\n",
    "    'DA', # Milk\n",
    "    # metals\n",
    "    'GC', # Gold\n",
    "    'HG', # Copper\n",
    "    'SI', # Silver\n",
    "    'PL', # Platinum\n",
    "    'PA', # Palladium\n",
    "    ]\n"
   ]
  },
  {
   "cell_type": "code",
   "execution_count": 11,
   "metadata": {
    "collapsed": true
   },
   "outputs": [],
   "source": [
    "cont_contracts = [\n",
    "    continuous_future(contract,\n",
    "                        offset=0,\n",
    "                        adjustment='mul',\n",
    "                        roll_style='volume')\n",
    "    for contract in contracts]"
   ]
  },
  {
   "cell_type": "code",
   "execution_count": 12,
   "metadata": {},
   "outputs": [
    {
     "data": {
      "text/plain": [
       "[ContinuousFuture(91554134238494720, root_symbol='ED', offset=0, roll_style='volume', adjustment='mul'),\n",
       " ContinuousFuture(95799348633337856, root_symbol='TY', offset=0, roll_style='volume', adjustment='mul'),\n",
       " ContinuousFuture(91855400424505344, root_symbol='FV', offset=0, roll_style='volume', adjustment='mul'),\n",
       " ContinuousFuture(95794950586826752, root_symbol='TU', offset=0, roll_style='volume', adjustment='mul'),\n",
       " ContinuousFuture(96074226540281856, root_symbol='US', offset=0, roll_style='volume', adjustment='mul'),\n",
       " ContinuousFuture(91837808238460928, root_symbol='FF', offset=0, roll_style='volume', adjustment='mul'),\n",
       " ContinuousFuture(96066529958887424, root_symbol='UL', offset=0, roll_style='volume', adjustment='mul'),\n",
       " ContinuousFuture(95491485377560576, root_symbol='SA', offset=0, roll_style='volume', adjustment='mul'),\n",
       " ContinuousFuture(94066518307962880, root_symbol='N1U', offset=0, roll_style='volume', adjustment='mul'),\n",
       " ContinuousFuture(92661342447665152, root_symbol='I3', offset=0, roll_style='volume', adjustment='mul'),\n",
       " ContinuousFuture(91570626912911360, root_symbol='ES', offset=0, roll_style='volume', adjustment='mul'),\n",
       " ContinuousFuture(94101702680051712, root_symbol='NQ', offset=0, roll_style='volume', adjustment='mul'),\n",
       " ContinuousFuture(97193529377357824, root_symbol='YM', offset=0, roll_style='volume', adjustment='mul'),\n",
       " ContinuousFuture(93805934052179968, root_symbol='MD', offset=0, roll_style='volume', adjustment='mul'),\n",
       " ContinuousFuture(94095105610285056, root_symbol='NK', offset=0, roll_style='volume', adjustment='mul'),\n",
       " ContinuousFuture(96898860261113856, root_symbol='XAF', offset=0, roll_style='volume', adjustment='mul'),\n",
       " ContinuousFuture(96898860261113856, root_symbol='XAK', offset=0, roll_style='volume', adjustment='mul'),\n",
       " ContinuousFuture(96898860261113856, root_symbol='XAP', offset=0, roll_style='volume', adjustment='mul'),\n",
       " ContinuousFuture(96898860261113856, root_symbol='XAU', offset=0, roll_style='volume', adjustment='mul'),\n",
       " ContinuousFuture(96898860261113856, root_symbol='XAY', offset=0, roll_style='volume', adjustment='mul'),\n",
       " ContinuousFuture(90999980378095616, root_symbol='CL', offset=0, roll_style='volume', adjustment='mul'),\n",
       " ContinuousFuture(94090707563773952, root_symbol='NG', offset=0, roll_style='volume', adjustment='mul'),\n",
       " ContinuousFuture(95211109912477696, root_symbol='RB', offset=0, roll_style='volume', adjustment='mul'),\n",
       " ContinuousFuture(92410653796532224, root_symbol='HO', offset=0, roll_style='volume', adjustment='mul'),\n",
       " ContinuousFuture(90733898564173824, root_symbol='BZ', offset=0, roll_style='volume', adjustment='mul'),\n",
       " ContinuousFuture(87592593843617792, root_symbol='71', offset=0, roll_style='volume', adjustment='mul'),\n",
       " ContinuousFuture(91553034726866944, root_symbol='EC', offset=0, roll_style='volume', adjustment='mul'),\n",
       " ContinuousFuture(92984598866231296, root_symbol='JY', offset=0, roll_style='volume', adjustment='mul'),\n",
       " ContinuousFuture(90722903447896064, root_symbol='BP', offset=0, roll_style='volume', adjustment='mul'),\n",
       " ContinuousFuture(90428234331652096, root_symbol='AD', offset=0, roll_style='volume', adjustment='mul'),\n",
       " ContinuousFuture(90991184285073408, root_symbol='CD', offset=0, roll_style='volume', adjustment='mul'),\n",
       " ContinuousFuture(93819128191713280, root_symbol='MP', offset=0, roll_style='volume', adjustment='mul'),\n",
       " ContinuousFuture(95496982935699456, root_symbol='SF', offset=0, roll_style='volume', adjustment='mul'),\n",
       " ContinuousFuture(98871384121344000, root_symbol='_C', offset=0, roll_style='volume', adjustment='mul'),\n",
       " ContinuousFuture(98888976307388416, root_symbol='_S', offset=0, roll_style='volume', adjustment='mul'),\n",
       " ContinuousFuture(98893374353899520, root_symbol='_W', offset=0, roll_style='volume', adjustment='mul'),\n",
       " ContinuousFuture(90721803936268288, root_symbol='BO', offset=0, roll_style='volume', adjustment='mul'),\n",
       " ContinuousFuture(95504679517093888, root_symbol='SM', offset=0, roll_style='volume', adjustment='mul'),\n",
       " ContinuousFuture(93523359563841536, root_symbol='LC', offset=0, roll_style='volume', adjustment='mul'),\n",
       " ContinuousFuture(93263874819686400, root_symbol='KW', offset=0, roll_style='volume', adjustment='mul'),\n",
       " ContinuousFuture(93535454191747072, root_symbol='LN', offset=0, roll_style='volume', adjustment='mul'),\n",
       " ContinuousFuture(91269360726900736, root_symbol='DA', offset=0, roll_style='volume', adjustment='mul'),\n",
       " ContinuousFuture(92115984680288256, root_symbol='GC', offset=0, roll_style='volume', adjustment='mul'),\n",
       " ContinuousFuture(92401857703510016, root_symbol='HG', offset=0, roll_style='volume', adjustment='mul'),\n",
       " ContinuousFuture(95500281470582784, root_symbol='SI', offset=0, roll_style='volume', adjustment='mul'),\n",
       " ContinuousFuture(94659155075334144, root_symbol='PL', offset=0, roll_style='volume', adjustment='mul'),\n",
       " ContinuousFuture(94647060447428608, root_symbol='PA', offset=0, roll_style='volume', adjustment='mul')]"
      ]
     },
     "execution_count": 12,
     "metadata": {},
     "output_type": "execute_result"
    }
   ],
   "source": [
    "cont_contracts"
   ]
  },
  {
   "cell_type": "code",
   "execution_count": 13,
   "metadata": {},
   "outputs": [
    {
     "data": {
      "text/html": [
       "<div>\n",
       "<style scoped>\n",
       "    .dataframe tbody tr th:only-of-type {\n",
       "        vertical-align: middle;\n",
       "    }\n",
       "\n",
       "    .dataframe tbody tr th {\n",
       "        vertical-align: top;\n",
       "    }\n",
       "\n",
       "    .dataframe thead th {\n",
       "        text-align: right;\n",
       "    }\n",
       "</style>\n",
       "<table border=\"1\" class=\"dataframe\">\n",
       "  <thead>\n",
       "    <tr style=\"text-align: right;\">\n",
       "      <th></th>\n",
       "      <th>from</th>\n",
       "      <th>to</th>\n",
       "    </tr>\n",
       "  </thead>\n",
       "  <tbody>\n",
       "    <tr>\n",
       "      <th>0</th>\n",
       "      <td>1990-12-24 19:00:00</td>\n",
       "      <td>1991-12-24 19:00:00</td>\n",
       "    </tr>\n",
       "    <tr>\n",
       "      <th>1</th>\n",
       "      <td>1992-11-27 19:00:00</td>\n",
       "      <td>1992-12-24 19:00:00</td>\n",
       "    </tr>\n",
       "  </tbody>\n",
       "</table>\n",
       "</div>"
      ],
      "text/plain": [
       "                 from                  to\n",
       "0 1990-12-24 19:00:00 1991-12-24 19:00:00\n",
       "1 1992-11-27 19:00:00 1992-12-24 19:00:00"
      ]
     },
     "execution_count": 13,
     "metadata": {},
     "output_type": "execute_result"
    }
   ],
   "source": [
    "import numpy as np\n",
    "dates = pd.DataFrame(np.empty(2, dtype=[('from', 'datetime64[ns]'), ('to', 'datetime64[ns]')]))\n",
    "dates"
   ]
  },
  {
   "cell_type": "code",
   "execution_count": 14,
   "metadata": {
    "collapsed": true
   },
   "outputs": [],
   "source": [
    "dates = pd.DataFrame(cont_contracts)"
   ]
  },
  {
   "cell_type": "code",
   "execution_count": 15,
   "metadata": {
    "collapsed": true
   },
   "outputs": [],
   "source": [
    "dates = {cont.root_symbol: (cont.start_date, cont.end_date) for cont in cont_contracts}"
   ]
  },
  {
   "cell_type": "code",
   "execution_count": 16,
   "metadata": {},
   "outputs": [
    {
     "data": {
      "text/plain": [
       "{'71': (Timestamp('2014-02-18 00:00:00+0000', tz='UTC'),\n",
       "  Timestamp('2018-11-23 00:00:00+0000', tz='UTC')),\n",
       " 'AD': (Timestamp('1987-01-13 00:00:00+0000', tz='UTC'),\n",
       "  Timestamp('2018-11-23 00:00:00+0000', tz='UTC')),\n",
       " 'BO': (Timestamp('1959-07-01 00:00:00+0000', tz='UTC'),\n",
       "  Timestamp('2018-11-23 00:00:00+0000', tz='UTC')),\n",
       " 'BP': (Timestamp('1975-02-13 00:00:00+0000', tz='UTC'),\n",
       "  Timestamp('2018-11-23 00:00:00+0000', tz='UTC')),\n",
       " 'BZ': (Timestamp('2011-10-03 00:00:00+0000', tz='UTC'),\n",
       "  Timestamp('2018-11-23 00:00:00+0000', tz='UTC')),\n",
       " 'CD': (Timestamp('1977-01-17 00:00:00+0000', tz='UTC'),\n",
       "  Timestamp('2018-11-23 00:00:00+0000', tz='UTC')),\n",
       " 'CL': (Timestamp('1983-03-30 00:00:00+0000', tz='UTC'),\n",
       "  Timestamp('2018-11-23 00:00:00+0000', tz='UTC')),\n",
       " 'DA': (Timestamp('1996-01-11 00:00:00+0000', tz='UTC'),\n",
       "  Timestamp('2018-11-21 00:00:00+0000', tz='UTC')),\n",
       " 'EC': (Timestamp('1999-01-04 00:00:00+0000', tz='UTC'),\n",
       "  Timestamp('2018-11-23 00:00:00+0000', tz='UTC')),\n",
       " 'ED': (Timestamp('1982-02-01 00:00:00+0000', tz='UTC'),\n",
       "  Timestamp('2018-11-23 00:00:00+0000', tz='UTC')),\n",
       " 'ES': (Timestamp('1997-09-09 00:00:00+0000', tz='UTC'),\n",
       "  Timestamp('2018-11-23 00:00:00+0000', tz='UTC')),\n",
       " 'FF': (Timestamp('1988-10-03 00:00:00+0000', tz='UTC'),\n",
       "  Timestamp('2018-11-23 00:00:00+0000', tz='UTC')),\n",
       " 'FV': (Timestamp('1988-05-20 00:00:00+0000', tz='UTC'),\n",
       "  Timestamp('2018-11-23 00:00:00+0000', tz='UTC')),\n",
       " 'GC': (Timestamp('1974-12-31 00:00:00+0000', tz='UTC'),\n",
       "  Timestamp('2018-11-23 00:00:00+0000', tz='UTC')),\n",
       " 'HG': (Timestamp('1959-07-01 00:00:00+0000', tz='UTC'),\n",
       "  Timestamp('2018-11-23 00:00:00+0000', tz='UTC')),\n",
       " 'HO': (Timestamp('1979-03-06 00:00:00+0000', tz='UTC'),\n",
       "  Timestamp('2018-11-23 00:00:00+0000', tz='UTC')),\n",
       " 'I3': (Timestamp('2012-10-30 00:00:00+0000', tz='UTC'),\n",
       "  Timestamp('2018-11-23 00:00:00+0000', tz='UTC')),\n",
       " 'JY': (Timestamp('1976-08-02 00:00:00+0000', tz='UTC'),\n",
       "  Timestamp('2018-11-23 00:00:00+0000', tz='UTC')),\n",
       " 'KW': (Timestamp('1976-04-09 00:00:00+0000', tz='UTC'),\n",
       "  Timestamp('2018-11-23 00:00:00+0000', tz='UTC')),\n",
       " 'LC': (Timestamp('1964-11-30 00:00:00+0000', tz='UTC'),\n",
       "  Timestamp('2018-11-23 00:00:00+0000', tz='UTC')),\n",
       " 'LN': (Timestamp('1969-06-25 00:00:00+0000', tz='UTC'),\n",
       "  Timestamp('2018-11-23 00:00:00+0000', tz='UTC')),\n",
       " 'MD': (Timestamp('1992-02-13 00:00:00+0000', tz='UTC'),\n",
       "  Timestamp('2018-11-23 00:00:00+0000', tz='UTC')),\n",
       " 'MP': (Timestamp('1995-04-25 00:00:00+0000', tz='UTC'),\n",
       "  Timestamp('2018-11-23 00:00:00+0000', tz='UTC')),\n",
       " 'N1U': (Timestamp('2014-02-18 00:00:00+0000', tz='UTC'),\n",
       "  Timestamp('2018-11-23 00:00:00+0000', tz='UTC')),\n",
       " 'NG': (Timestamp('1990-04-03 00:00:00+0000', tz='UTC'),\n",
       "  Timestamp('2018-11-23 00:00:00+0000', tz='UTC')),\n",
       " 'NK': (Timestamp('1990-09-25 00:00:00+0000', tz='UTC'),\n",
       "  Timestamp('2018-11-23 00:00:00+0000', tz='UTC')),\n",
       " 'NQ': (Timestamp('1999-06-21 00:00:00+0000', tz='UTC'),\n",
       "  Timestamp('2018-11-23 00:00:00+0000', tz='UTC')),\n",
       " 'PA': (Timestamp('1977-01-05 00:00:00+0000', tz='UTC'),\n",
       "  Timestamp('2018-11-23 00:00:00+0000', tz='UTC')),\n",
       " 'PL': (Timestamp('1968-03-01 00:00:00+0000', tz='UTC'),\n",
       "  Timestamp('2018-11-23 00:00:00+0000', tz='UTC')),\n",
       " 'RB': (Timestamp('2005-10-03 00:00:00+0000', tz='UTC'),\n",
       "  Timestamp('2018-11-23 00:00:00+0000', tz='UTC')),\n",
       " 'SA': (Timestamp('2012-10-30 00:00:00+0000', tz='UTC'),\n",
       "  Timestamp('2018-11-23 00:00:00+0000', tz='UTC')),\n",
       " 'SF': (Timestamp('1975-02-13 00:00:00+0000', tz='UTC'),\n",
       "  Timestamp('2018-11-23 00:00:00+0000', tz='UTC')),\n",
       " 'SI': (Timestamp('1963-06-13 00:00:00+0000', tz='UTC'),\n",
       "  Timestamp('2018-11-23 00:00:00+0000', tz='UTC')),\n",
       " 'SM': (Timestamp('1959-07-02 00:00:00+0000', tz='UTC'),\n",
       "  Timestamp('2018-11-23 00:00:00+0000', tz='UTC')),\n",
       " 'TU': (Timestamp('1990-06-22 00:00:00+0000', tz='UTC'),\n",
       "  Timestamp('2018-11-23 00:00:00+0000', tz='UTC')),\n",
       " 'TY': (Timestamp('1982-05-03 00:00:00+0000', tz='UTC'),\n",
       "  Timestamp('2018-11-23 00:00:00+0000', tz='UTC')),\n",
       " 'UL': (Timestamp('2012-10-30 00:00:00+0000', tz='UTC'),\n",
       "  Timestamp('2018-11-23 00:00:00+0000', tz='UTC')),\n",
       " 'US': (Timestamp('1977-08-22 00:00:00+0000', tz='UTC'),\n",
       "  Timestamp('2018-11-23 00:00:00+0000', tz='UTC')),\n",
       " 'XAF': (Timestamp('2014-02-18 00:00:00+0000', tz='UTC'),\n",
       "  Timestamp('2018-11-23 00:00:00+0000', tz='UTC')),\n",
       " 'XAK': (Timestamp('2014-02-18 00:00:00+0000', tz='UTC'),\n",
       "  Timestamp('2018-11-23 00:00:00+0000', tz='UTC')),\n",
       " 'XAP': (Timestamp('2014-02-18 00:00:00+0000', tz='UTC'),\n",
       "  Timestamp('2018-11-23 00:00:00+0000', tz='UTC')),\n",
       " 'XAU': (Timestamp('2014-02-18 00:00:00+0000', tz='UTC'),\n",
       "  Timestamp('2018-11-23 00:00:00+0000', tz='UTC')),\n",
       " 'XAY': (Timestamp('2014-02-18 00:00:00+0000', tz='UTC'),\n",
       "  Timestamp('2018-11-23 00:00:00+0000', tz='UTC')),\n",
       " 'YM': (Timestamp('1997-10-06 00:00:00+0000', tz='UTC'),\n",
       "  Timestamp('2018-11-23 00:00:00+0000', tz='UTC')),\n",
       " '_C': (Timestamp('1959-07-01 00:00:00+0000', tz='UTC'),\n",
       "  Timestamp('2018-11-23 00:00:00+0000', tz='UTC')),\n",
       " '_S': (Timestamp('1959-07-01 00:00:00+0000', tz='UTC'),\n",
       "  Timestamp('2018-11-23 00:00:00+0000', tz='UTC')),\n",
       " '_W': (Timestamp('1959-07-01 00:00:00+0000', tz='UTC'),\n",
       "  Timestamp('2018-11-23 00:00:00+0000', tz='UTC'))}"
      ]
     },
     "execution_count": 16,
     "metadata": {},
     "output_type": "execute_result"
    }
   ],
   "source": [
    "dates"
   ]
  },
  {
   "cell_type": "code",
   "execution_count": null,
   "metadata": {},
   "outputs": [],
   "source": [
    "[(c.root_symbol, c.start_date) for c in cont_contracts]"
   ]
  },
  {
   "cell_type": "code",
   "execution_count": 2,
   "metadata": {},
   "outputs": [
    {
     "ename": "SyntaxError",
     "evalue": "invalid syntax (<ipython-input-2-320d966ebc78>, line 1)",
     "output_type": "error",
     "traceback": [
      "\u001b[1;36m  File \u001b[1;32m\"<ipython-input-2-320d966ebc78>\"\u001b[1;36m, line \u001b[1;32m1\u001b[0m\n\u001b[1;33m    rb =\u001b[0m\n\u001b[1;37m         ^\u001b[0m\n\u001b[1;31mSyntaxError\u001b[0m\u001b[1;31m:\u001b[0m invalid syntax\n"
     ]
    }
   ],
   "source": [
    "rb = "
   ]
  },
  {
   "cell_type": "code",
   "execution_count": 3,
   "metadata": {},
   "outputs": [
    {
     "ename": "NameError",
     "evalue": "name 'history' is not defined",
     "output_type": "error",
     "traceback": [
      "\u001b[1;31m---------------------------------------------------------------------------\u001b[0m",
      "\u001b[1;31mNameError\u001b[0m                                 Traceback (most recent call last)",
      "\u001b[1;32m<ipython-input-3-26d2252754f7>\u001b[0m in \u001b[0;36m<module>\u001b[1;34m()\u001b[0m\n\u001b[1;32m----> 1\u001b[1;33m h = history(\n\u001b[0m\u001b[0;32m      2\u001b[0m     \u001b[0massets\u001b[0m\u001b[1;33m=\u001b[0m\u001b[0mcont_contracts\u001b[0m\u001b[1;33m,\u001b[0m\u001b[1;33m\u001b[0m\u001b[0m\n\u001b[0;32m      3\u001b[0m     \u001b[0mend_dt\u001b[0m\u001b[1;33m=\u001b[0m\u001b[0mpd\u001b[0m\u001b[1;33m.\u001b[0m\u001b[0mTimestamp\u001b[0m\u001b[1;33m(\u001b[0m\u001b[1;34m'2018-10-31'\u001b[0m\u001b[1;33m)\u001b[0m\u001b[1;33m,\u001b[0m\u001b[1;33m\u001b[0m\u001b[0m\n\u001b[0;32m      4\u001b[0m     \u001b[0mbar_count\u001b[0m\u001b[1;33m=\u001b[0m\u001b[1;36m100\u001b[0m\u001b[1;33m,\u001b[0m\u001b[1;33m\u001b[0m\u001b[0m\n\u001b[0;32m      5\u001b[0m     \u001b[0mfrequency\u001b[0m\u001b[1;33m=\u001b[0m\u001b[1;34m'1d'\u001b[0m\u001b[1;33m,\u001b[0m\u001b[1;33m\u001b[0m\u001b[0m\n",
      "\u001b[1;31mNameError\u001b[0m: name 'history' is not defined"
     ]
    }
   ],
   "source": [
    "h = history(\n",
    "    assets=cont_contracts,\n",
    "    end_dt=pd.Timestamp('2018-10-31'),\n",
    "    bar_count=100,\n",
    "    frequency='1d',\n",
    "    field='price',\n",
    "    data_frequency='daily'\n",
    "        )"
   ]
  },
  {
   "cell_type": "code",
   "execution_count": 4,
   "metadata": {},
   "outputs": [
    {
     "ename": "NameError",
     "evalue": "name 'h' is not defined",
     "output_type": "error",
     "traceback": [
      "\u001b[1;31m---------------------------------------------------------------------------\u001b[0m",
      "\u001b[1;31mNameError\u001b[0m                                 Traceback (most recent call last)",
      "\u001b[1;32m<ipython-input-4-da8b60ec2fad>\u001b[0m in \u001b[0;36m<module>\u001b[1;34m()\u001b[0m\n\u001b[1;32m----> 1\u001b[1;33m \u001b[0mh\u001b[0m\u001b[1;33m.\u001b[0m\u001b[0mhead\u001b[0m\u001b[1;33m(\u001b[0m\u001b[1;33m)\u001b[0m\u001b[1;33m\u001b[0m\u001b[0m\n\u001b[0m",
      "\u001b[1;31mNameError\u001b[0m: name 'h' is not defined"
     ]
    }
   ],
   "source": [
    "h.head()"
   ]
  },
  {
   "cell_type": "code",
   "execution_count": 5,
   "metadata": {},
   "outputs": [
    {
     "ename": "NameError",
     "evalue": "name 'h' is not defined",
     "output_type": "error",
     "traceback": [
      "\u001b[1;31m---------------------------------------------------------------------------\u001b[0m",
      "\u001b[1;31mNameError\u001b[0m                                 Traceback (most recent call last)",
      "\u001b[1;32m<ipython-input-5-57da5f72e7d6>\u001b[0m in \u001b[0;36m<module>\u001b[1;34m()\u001b[0m\n\u001b[1;32m----> 1\u001b[1;33m \u001b[0mh\u001b[0m\u001b[1;33m.\u001b[0m\u001b[0miloc\u001b[0m\u001b[1;33m[\u001b[0m\u001b[1;36m0\u001b[0m\u001b[1;33m]\u001b[0m\u001b[1;33m\u001b[0m\u001b[0m\n\u001b[0m",
      "\u001b[1;31mNameError\u001b[0m: name 'h' is not defined"
     ]
    }
   ],
   "source": [
    "h.iloc[0]"
   ]
  },
  {
   "cell_type": "code",
   "execution_count": 6,
   "metadata": {
    "collapsed": true
   },
   "outputs": [],
   "source": [
    "long_names = [\n",
    "    'XAF',# e-mini financial sector\n",
    "    'XAK',# e-mini technology sector\n",
    "    'XAP',# e-mini consumer staples sector\n",
    "    'XAU',# e-mini utilities sector\n",
    "    'XAY',# e-mini consumer discretionary sector',\n",
    "]"
   ]
  },
  {
   "cell_type": "code",
   "execution_count": 7,
   "metadata": {},
   "outputs": [
    {
     "ename": "NameError",
     "evalue": "name 'continuous_future' is not defined",
     "output_type": "error",
     "traceback": [
      "\u001b[1;31m---------------------------------------------------------------------------\u001b[0m",
      "\u001b[1;31mNameError\u001b[0m                                 Traceback (most recent call last)",
      "\u001b[1;32m<ipython-input-7-530e26849539>\u001b[0m in \u001b[0;36m<module>\u001b[1;34m()\u001b[0m\n\u001b[0;32m      3\u001b[0m                                 \u001b[0madjustment\u001b[0m\u001b[1;33m=\u001b[0m\u001b[1;34m'mul'\u001b[0m\u001b[1;33m,\u001b[0m\u001b[1;33m\u001b[0m\u001b[0m\n\u001b[0;32m      4\u001b[0m                                 roll_style='volume')\n\u001b[1;32m----> 5\u001b[1;33m             for contract in long_names]\n\u001b[0m",
      "\u001b[1;32m<ipython-input-7-530e26849539>\u001b[0m in \u001b[0;36m<listcomp>\u001b[1;34m(.0)\u001b[0m\n\u001b[0;32m      3\u001b[0m                                 \u001b[0madjustment\u001b[0m\u001b[1;33m=\u001b[0m\u001b[1;34m'mul'\u001b[0m\u001b[1;33m,\u001b[0m\u001b[1;33m\u001b[0m\u001b[0m\n\u001b[0;32m      4\u001b[0m                                 roll_style='volume')\n\u001b[1;32m----> 5\u001b[1;33m             for contract in long_names]\n\u001b[0m",
      "\u001b[1;31mNameError\u001b[0m: name 'continuous_future' is not defined"
     ]
    }
   ],
   "source": [
    "long_cont = [continuous_future(contract,\n",
    "                                offset=0,\n",
    "                                adjustment='mul',\n",
    "                                roll_style='volume')\n",
    "            for contract in long_names]"
   ]
  },
  {
   "cell_type": "code",
   "execution_count": 8,
   "metadata": {},
   "outputs": [
    {
     "ename": "NameError",
     "evalue": "name 'history' is not defined",
     "output_type": "error",
     "traceback": [
      "\u001b[1;31m---------------------------------------------------------------------------\u001b[0m",
      "\u001b[1;31mNameError\u001b[0m                                 Traceback (most recent call last)",
      "\u001b[1;32m<ipython-input-8-3e0c16227fd1>\u001b[0m in \u001b[0;36m<module>\u001b[1;34m()\u001b[0m\n\u001b[1;32m----> 1\u001b[1;33m long_cont_his = history(\n\u001b[0m\u001b[0;32m      2\u001b[0m                         \u001b[0massets\u001b[0m\u001b[1;33m=\u001b[0m\u001b[0mlong_cont\u001b[0m\u001b[1;33m,\u001b[0m\u001b[1;33m\u001b[0m\u001b[0m\n\u001b[0;32m      3\u001b[0m                         \u001b[0mend_dt\u001b[0m\u001b[1;33m=\u001b[0m\u001b[0mpd\u001b[0m\u001b[1;33m.\u001b[0m\u001b[0mTimestamp\u001b[0m\u001b[1;33m(\u001b[0m\u001b[1;34m'2018-10-31'\u001b[0m\u001b[1;33m)\u001b[0m\u001b[1;33m,\u001b[0m\u001b[1;33m\u001b[0m\u001b[0m\n\u001b[0;32m      4\u001b[0m                         \u001b[0mbar_count\u001b[0m\u001b[1;33m=\u001b[0m\u001b[1;36m100\u001b[0m\u001b[1;33m,\u001b[0m\u001b[1;33m\u001b[0m\u001b[0m\n\u001b[0;32m      5\u001b[0m                         \u001b[0mfrequency\u001b[0m\u001b[1;33m=\u001b[0m\u001b[1;34m'1d'\u001b[0m\u001b[1;33m,\u001b[0m\u001b[1;33m\u001b[0m\u001b[0m\n",
      "\u001b[1;31mNameError\u001b[0m: name 'history' is not defined"
     ]
    }
   ],
   "source": [
    "long_cont_his = history(\n",
    "                        assets=long_cont,\n",
    "                        end_dt=pd.Timestamp('2018-10-31'),\n",
    "                        bar_count=100,\n",
    "                        frequency='1d',\n",
    "                        field='sid',\n",
    "                        data_frequency='daily'\n",
    "                        )"
   ]
  },
  {
   "cell_type": "code",
   "execution_count": 9,
   "metadata": {},
   "outputs": [
    {
     "ename": "NameError",
     "evalue": "name 'long_cont_his' is not defined",
     "output_type": "error",
     "traceback": [
      "\u001b[1;31m---------------------------------------------------------------------------\u001b[0m",
      "\u001b[1;31mNameError\u001b[0m                                 Traceback (most recent call last)",
      "\u001b[1;32m<ipython-input-9-739e3ecabe6c>\u001b[0m in \u001b[0;36m<module>\u001b[1;34m()\u001b[0m\n\u001b[1;32m----> 1\u001b[1;33m \u001b[0mlong_cont_his\u001b[0m\u001b[1;33m.\u001b[0m\u001b[0mapplymap\u001b[0m\u001b[1;33m(\u001b[0m\u001b[1;32mlambda\u001b[0m \u001b[0mx\u001b[0m\u001b[1;33m:\u001b[0m \u001b[0mbundle_data\u001b[0m\u001b[1;33m.\u001b[0m\u001b[0masset_finder\u001b[0m\u001b[1;33m.\u001b[0m\u001b[0mretrieve_asset\u001b[0m\u001b[1;33m(\u001b[0m\u001b[0mx\u001b[0m\u001b[1;33m)\u001b[0m\u001b[1;33m)\u001b[0m\u001b[1;33m\u001b[0m\u001b[0m\n\u001b[0m",
      "\u001b[1;31mNameError\u001b[0m: name 'long_cont_his' is not defined"
     ]
    }
   ],
   "source": [
    "long_cont_his.applymap(lambda x: bundle_data.asset_finder.retrieve_asset(x))"
   ]
  },
  {
   "cell_type": "code",
   "execution_count": 10,
   "metadata": {},
   "outputs": [
    {
     "ename": "NameError",
     "evalue": "name 'long_cont_his' is not defined",
     "output_type": "error",
     "traceback": [
      "\u001b[1;31m---------------------------------------------------------------------------\u001b[0m",
      "\u001b[1;31mNameError\u001b[0m                                 Traceback (most recent call last)",
      "\u001b[1;32m<ipython-input-10-9eed33de4f79>\u001b[0m in \u001b[0;36m<module>\u001b[1;34m()\u001b[0m\n\u001b[1;32m----> 1\u001b[1;33m \u001b[0mlong_cont_his\u001b[0m\u001b[1;33m.\u001b[0m\u001b[0mcolumns\u001b[0m\u001b[1;33m.\u001b[0m\u001b[0mmap\u001b[0m\u001b[1;33m(\u001b[0m\u001b[1;32mlambda\u001b[0m \u001b[0mx\u001b[0m\u001b[1;33m:\u001b[0m \u001b[0mx\u001b[0m\u001b[1;33m.\u001b[0m\u001b[0mroot_symbol\u001b[0m\u001b[1;33m)\u001b[0m\u001b[1;33m\u001b[0m\u001b[0m\n\u001b[0m",
      "\u001b[1;31mNameError\u001b[0m: name 'long_cont_his' is not defined"
     ]
    }
   ],
   "source": [
    "long_cont_his.columns.map(lambda x: x.root_symbol)"
   ]
  },
  {
   "cell_type": "code",
   "execution_count": 11,
   "metadata": {},
   "outputs": [
    {
     "ename": "NameError",
     "evalue": "name 'long_cont' is not defined",
     "output_type": "error",
     "traceback": [
      "\u001b[1;31m---------------------------------------------------------------------------\u001b[0m",
      "\u001b[1;31mNameError\u001b[0m                                 Traceback (most recent call last)",
      "\u001b[1;32m<ipython-input-11-5dcdc10c656a>\u001b[0m in \u001b[0;36m<module>\u001b[1;34m()\u001b[0m\n\u001b[1;32m----> 1\u001b[1;33m \u001b[0mdir\u001b[0m\u001b[1;33m(\u001b[0m\u001b[0mlong_cont\u001b[0m\u001b[1;33m[\u001b[0m\u001b[1;36m1\u001b[0m\u001b[1;33m]\u001b[0m\u001b[1;33m)\u001b[0m\u001b[1;33m\u001b[0m\u001b[0m\n\u001b[0m",
      "\u001b[1;31mNameError\u001b[0m: name 'long_cont' is not defined"
     ]
    }
   ],
   "source": [
    "dir(long_cont[1])"
   ]
  },
  {
   "cell_type": "code",
   "execution_count": 12,
   "metadata": {
    "collapsed": true
   },
   "outputs": [],
   "source": [
    "a = pd.read_csv('C:/Users/tomek/zipline/debug/CMEGroup.csv', header=None)"
   ]
  },
  {
   "cell_type": "code",
   "execution_count": 13,
   "metadata": {},
   "outputs": [
    {
     "data": {
      "text/plain": [
       "['IBV',\n",
       " 'EM',\n",
       " 'EY',\n",
       " 'ED',\n",
       " 'CPO',\n",
       " 'ES',\n",
       " 'NN',\n",
       " 'TY',\n",
       " 'FV',\n",
       " 'N9',\n",
       " 'CL',\n",
       " '_C',\n",
       " 'NG',\n",
       " 'V3',\n",
       " 'NP',\n",
       " 'B6',\n",
       " 'TU',\n",
       " 'E4',\n",
       " 'K4',\n",
       " 'US',\n",
       " 'D2',\n",
       " '_S',\n",
       " 'L3',\n",
       " 'UL',\n",
       " 'HH',\n",
       " 'NQ',\n",
       " '_W',\n",
       " 'GC',\n",
       " 'H4',\n",
       " 'O1',\n",
       " 'BO',\n",
       " 'H2',\n",
       " 'LC',\n",
       " 'D4',\n",
       " 'HO',\n",
       " 'I6',\n",
       " 'FF',\n",
       " 'SM',\n",
       " 'LN',\n",
       " 'RB',\n",
       " 'EC',\n",
       " 'JY',\n",
       " 'BP',\n",
       " 'K2',\n",
       " 'X1',\n",
       " 'OFM',\n",
       " 'CD',\n",
       " 'HG',\n",
       " 'KW',\n",
       " 'CS',\n",
       " 'SP',\n",
       " 'SI',\n",
       " 'W6',\n",
       " 'YM',\n",
       " 'D9',\n",
       " '6T',\n",
       " 'MP',\n",
       " 'F5',\n",
       " 'AD',\n",
       " 'FTM',\n",
       " 'N1Y',\n",
       " 'L1',\n",
       " 'MD',\n",
       " 'HMO',\n",
       " 'BK',\n",
       " 'R7',\n",
       " 'NK',\n",
       " '4M',\n",
       " 'MTF',\n",
       " 'U5',\n",
       " 'P8',\n",
       " 'HP',\n",
       " 'LT',\n",
       " 'BZ',\n",
       " 'A3',\n",
       " 'L9',\n",
       " 'PL',\n",
       " 'Z9',\n",
       " 'B3',\n",
       " 'R3',\n",
       " 'T3',\n",
       " 'N1U',\n",
       " '46',\n",
       " 'K3',\n",
       " 'FC',\n",
       " 'J4',\n",
       " 'WJ',\n",
       " 'ME',\n",
       " 'W4',\n",
       " 'SF',\n",
       " 'CY',\n",
       " 'RU',\n",
       " 'PA',\n",
       " 'MF',\n",
       " 'H3',\n",
       " 'CU',\n",
       " 'SA',\n",
       " 'MFF',\n",
       " 'HK',\n",
       " 'WS',\n",
       " 'U6',\n",
       " '7K',\n",
       " 'GZ',\n",
       " 'DA',\n",
       " 'GCU',\n",
       " 'FO',\n",
       " 'GA',\n",
       " 'FDM',\n",
       " 'F2',\n",
       " 'PH',\n",
       " '4P',\n",
       " 'N3',\n",
       " 'PG',\n",
       " 'GY',\n",
       " 'NE',\n",
       " 'D3',\n",
       " 'NL',\n",
       " 'JM',\n",
       " 'OPM',\n",
       " 'PD',\n",
       " 'BB',\n",
       " 'B0',\n",
       " 'I5',\n",
       " 'WCC',\n",
       " 'GL',\n",
       " 'RBB',\n",
       " 'N1',\n",
       " 'RP',\n",
       " '58',\n",
       " 'HA',\n",
       " 'H5',\n",
       " 'NEN',\n",
       " 'AGA',\n",
       " 'RV',\n",
       " 'D0',\n",
       " 'RM',\n",
       " 'JP',\n",
       " 'A6',\n",
       " 'QP',\n",
       " 'MPX',\n",
       " 'HB',\n",
       " '1N',\n",
       " 'BR',\n",
       " 'EN',\n",
       " 'KA',\n",
       " 'RY',\n",
       " 'ND',\n",
       " 'RL',\n",
       " 'HR',\n",
       " '_O',\n",
       " 'NR',\n",
       " 'YX',\n",
       " 'SG',\n",
       " 'GI',\n",
       " 'E8',\n",
       " 'RF',\n",
       " 'DJ',\n",
       " 'AFF',\n",
       " 'U3',\n",
       " 'DK',\n",
       " 'Y1',\n",
       " 'D7',\n",
       " 'ABY',\n",
       " '5Z',\n",
       " 'UV',\n",
       " 'TZ6',\n",
       " 'NX',\n",
       " 'YC',\n",
       " 'L5',\n",
       " 'QX',\n",
       " '0D',\n",
       " 'RK',\n",
       " 'PTM',\n",
       " 'YK',\n",
       " 'CSC',\n",
       " 'CZ',\n",
       " 'FY',\n",
       " 'MM',\n",
       " 'CI',\n",
       " 'KJ',\n",
       " 'C0',\n",
       " 'AW',\n",
       " 'L6',\n",
       " 'KS',\n",
       " 'LY',\n",
       " 'RR',\n",
       " 'D8',\n",
       " 'VP',\n",
       " 'UX',\n",
       " 'VM',\n",
       " 'NKN',\n",
       " 'KG',\n",
       " 'NI',\n",
       " 'MEO',\n",
       " 'UB',\n",
       " 'E5',\n",
       " 'RA',\n",
       " 'TR',\n",
       " 'HMW',\n",
       " 'VR',\n",
       " 'IN',\n",
       " 'MTS',\n",
       " 'NS',\n",
       " 'B4',\n",
       " 'I3',\n",
       " 'CB',\n",
       " 'E3',\n",
       " 'E7',\n",
       " 'KI',\n",
       " 'QM',\n",
       " '7H',\n",
       " 'UO',\n",
       " 'FH',\n",
       " 'HOB',\n",
       " 'UA',\n",
       " 'D6',\n",
       " 'P5',\n",
       " 'M6E',\n",
       " 'SE',\n",
       " 'TC',\n",
       " 'KB',\n",
       " '7Q',\n",
       " '4L',\n",
       " 'FI',\n",
       " 'MG',\n",
       " 'TIO',\n",
       " '1NB',\n",
       " 'JR',\n",
       " 'YH',\n",
       " 'XN',\n",
       " 'MOD',\n",
       " 'U4',\n",
       " 'A5',\n",
       " 'LB',\n",
       " 'NF',\n",
       " 'Q5',\n",
       " 'DC',\n",
       " 'EH',\n",
       " '_Z',\n",
       " 'MEL',\n",
       " 'P7',\n",
       " 'R6',\n",
       " 'NW',\n",
       " 'FS',\n",
       " 'QL',\n",
       " 'UM',\n",
       " 'DB',\n",
       " '0F',\n",
       " 'QG',\n",
       " 'J2',\n",
       " 'L4',\n",
       " 'MNC',\n",
       " 'KH',\n",
       " '47',\n",
       " 'EW',\n",
       " 'NYF',\n",
       " 'NZ',\n",
       " 'SZ',\n",
       " 'NH',\n",
       " 'EJ',\n",
       " 'NJ',\n",
       " 'NFN',\n",
       " 'XAU',\n",
       " 'Y7',\n",
       " '9F',\n",
       " 'Z1',\n",
       " 'GE',\n",
       " 'S4',\n",
       " 'DY',\n",
       " 'SSI',\n",
       " 'YW',\n",
       " '1R',\n",
       " 'MJN',\n",
       " 'MBE',\n",
       " 'XAP',\n",
       " 'MNB',\n",
       " '5C',\n",
       " 'XAK',\n",
       " 'SD',\n",
       " '7Y',\n",
       " 'PF',\n",
       " '8Z',\n",
       " 'MBN',\n",
       " 'BY',\n",
       " '1U',\n",
       " 'PZ',\n",
       " '6Z',\n",
       " 'MGC',\n",
       " 'BOB',\n",
       " 'TRY',\n",
       " 'UN',\n",
       " 'PDM',\n",
       " '71',\n",
       " '4N',\n",
       " 'GCI',\n",
       " 'XAF',\n",
       " 'CNH',\n",
       " 'ARW',\n",
       " 'KK',\n",
       " 'JS',\n",
       " 'XAY',\n",
       " 'MCC',\n",
       " 'FP',\n",
       " 'WQ',\n",
       " 'PC',\n",
       " 'J7',\n",
       " 'M6B',\n",
       " '8I']"
      ]
     },
     "execution_count": 13,
     "metadata": {},
     "output_type": "execute_result"
    }
   ],
   "source": [
    "roots = a[0]\n",
    "roots = roots.tolist()\n",
    "roots=[r if len(r) > 1 else '_' + r for r in roots]\n",
    "roots"
   ]
  },
  {
   "cell_type": "code",
   "execution_count": 14,
   "metadata": {},
   "outputs": [
    {
     "data": {
      "text/plain": [
       "308"
      ]
     },
     "execution_count": 14,
     "metadata": {},
     "output_type": "execute_result"
    }
   ],
   "source": [
    "len(roots)"
   ]
  },
  {
   "cell_type": "code",
   "execution_count": 15,
   "metadata": {},
   "outputs": [
    {
     "ename": "NameError",
     "evalue": "name 'continuous_future' is not defined",
     "output_type": "error",
     "traceback": [
      "\u001b[1;31m---------------------------------------------------------------------------\u001b[0m",
      "\u001b[1;31mNameError\u001b[0m                                 Traceback (most recent call last)",
      "\u001b[1;32m<ipython-input-15-a0a3968ac78b>\u001b[0m in \u001b[0;36m<module>\u001b[1;34m()\u001b[0m\n\u001b[1;32m----> 1\u001b[1;33m \u001b[0mcontinuous_roots\u001b[0m \u001b[1;33m=\u001b[0m \u001b[1;33m[\u001b[0m\u001b[0mcontinuous_future\u001b[0m\u001b[1;33m(\u001b[0m\u001b[0mr\u001b[0m\u001b[1;33m,\u001b[0m \u001b[0moffset\u001b[0m\u001b[1;33m=\u001b[0m\u001b[1;36m0\u001b[0m\u001b[1;33m,\u001b[0m \u001b[0madjustment\u001b[0m\u001b[1;33m=\u001b[0m\u001b[1;34m'add'\u001b[0m\u001b[1;33m,\u001b[0m \u001b[0mroll_style\u001b[0m\u001b[1;33m=\u001b[0m\u001b[1;34m'volume'\u001b[0m\u001b[1;33m)\u001b[0m \u001b[1;32mfor\u001b[0m \u001b[0mr\u001b[0m \u001b[1;32min\u001b[0m \u001b[0mroots\u001b[0m\u001b[1;33m]\u001b[0m\u001b[1;33m\u001b[0m\u001b[0m\n\u001b[0m",
      "\u001b[1;32m<ipython-input-15-a0a3968ac78b>\u001b[0m in \u001b[0;36m<listcomp>\u001b[1;34m(.0)\u001b[0m\n\u001b[1;32m----> 1\u001b[1;33m \u001b[0mcontinuous_roots\u001b[0m \u001b[1;33m=\u001b[0m \u001b[1;33m[\u001b[0m\u001b[0mcontinuous_future\u001b[0m\u001b[1;33m(\u001b[0m\u001b[0mr\u001b[0m\u001b[1;33m,\u001b[0m \u001b[0moffset\u001b[0m\u001b[1;33m=\u001b[0m\u001b[1;36m0\u001b[0m\u001b[1;33m,\u001b[0m \u001b[0madjustment\u001b[0m\u001b[1;33m=\u001b[0m\u001b[1;34m'add'\u001b[0m\u001b[1;33m,\u001b[0m \u001b[0mroll_style\u001b[0m\u001b[1;33m=\u001b[0m\u001b[1;34m'volume'\u001b[0m\u001b[1;33m)\u001b[0m \u001b[1;32mfor\u001b[0m \u001b[0mr\u001b[0m \u001b[1;32min\u001b[0m \u001b[0mroots\u001b[0m\u001b[1;33m]\u001b[0m\u001b[1;33m\u001b[0m\u001b[0m\n\u001b[0m",
      "\u001b[1;31mNameError\u001b[0m: name 'continuous_future' is not defined"
     ]
    }
   ],
   "source": [
    "continuous_roots = [continuous_future(r, offset=0, adjustment='add', roll_style='volume') for r in roots]"
   ]
  },
  {
   "cell_type": "code",
   "execution_count": 16,
   "metadata": {},
   "outputs": [
    {
     "ename": "NameError",
     "evalue": "name 'history' is not defined",
     "output_type": "error",
     "traceback": [
      "\u001b[1;31m---------------------------------------------------------------------------\u001b[0m",
      "\u001b[1;31mNameError\u001b[0m                                 Traceback (most recent call last)",
      "\u001b[1;32m<ipython-input-16-a8fadfbbd0f1>\u001b[0m in \u001b[0;36m<module>\u001b[1;34m()\u001b[0m\n\u001b[1;32m----> 1\u001b[1;33m h = history(\n\u001b[0m\u001b[0;32m      2\u001b[0m     \u001b[0massets\u001b[0m\u001b[1;33m=\u001b[0m\u001b[0mcontinuous_roots\u001b[0m\u001b[1;33m,\u001b[0m\u001b[1;33m\u001b[0m\u001b[0m\n\u001b[0;32m      3\u001b[0m     \u001b[0mend_dt\u001b[0m\u001b[1;33m=\u001b[0m\u001b[0mpd\u001b[0m\u001b[1;33m.\u001b[0m\u001b[0mTimestamp\u001b[0m\u001b[1;33m(\u001b[0m\u001b[1;34m'2018-10-31'\u001b[0m\u001b[1;33m)\u001b[0m\u001b[1;33m,\u001b[0m\u001b[1;33m\u001b[0m\u001b[0m\n\u001b[0;32m      4\u001b[0m     \u001b[0mbar_count\u001b[0m\u001b[1;33m=\u001b[0m\u001b[1;36m100\u001b[0m\u001b[1;33m,\u001b[0m\u001b[1;33m\u001b[0m\u001b[0m\n\u001b[0;32m      5\u001b[0m     \u001b[0mfrequency\u001b[0m\u001b[1;33m=\u001b[0m\u001b[1;34m'1d'\u001b[0m\u001b[1;33m,\u001b[0m\u001b[1;33m\u001b[0m\u001b[0m\n",
      "\u001b[1;31mNameError\u001b[0m: name 'history' is not defined"
     ]
    }
   ],
   "source": [
    "h = history(\n",
    "    assets=continuous_roots,\n",
    "    end_dt=pd.Timestamp('2018-10-31'),\n",
    "    bar_count=100,\n",
    "    frequency='1d',\n",
    "    field='price',\n",
    "    data_frequency='daily'\n",
    "        )"
   ]
  },
  {
   "cell_type": "code",
   "execution_count": 17,
   "metadata": {},
   "outputs": [
    {
     "ename": "NameError",
     "evalue": "name 'h' is not defined",
     "output_type": "error",
     "traceback": [
      "\u001b[1;31m---------------------------------------------------------------------------\u001b[0m",
      "\u001b[1;31mNameError\u001b[0m                                 Traceback (most recent call last)",
      "\u001b[1;32m<ipython-input-17-da8b60ec2fad>\u001b[0m in \u001b[0;36m<module>\u001b[1;34m()\u001b[0m\n\u001b[1;32m----> 1\u001b[1;33m \u001b[0mh\u001b[0m\u001b[1;33m.\u001b[0m\u001b[0mhead\u001b[0m\u001b[1;33m(\u001b[0m\u001b[1;33m)\u001b[0m\u001b[1;33m\u001b[0m\u001b[0m\n\u001b[0m",
      "\u001b[1;31mNameError\u001b[0m: name 'h' is not defined"
     ]
    }
   ],
   "source": [
    "h.head()"
   ]
  },
  {
   "cell_type": "code",
   "execution_count": 18,
   "metadata": {
    "collapsed": true
   },
   "outputs": [],
   "source": [
    "jy_contracts = []\n",
    "for x in ['{}{}{}'.format('GC', l, y)  for y in range(23) for l in 'FGHJKMNQUVXZ']:\n",
    "    try:\n",
    "        jy_contracts.append(bundle_data.asset_finder.lookup_future_symbol(x))\n",
    "    except:\n",
    "        pass"
   ]
  },
  {
   "cell_type": "code",
   "execution_count": 19,
   "metadata": {
    "scrolled": true
   },
   "outputs": [
    {
     "data": {
      "text/plain": [
       "[]"
      ]
     },
     "execution_count": 19,
     "metadata": {},
     "output_type": "execute_result"
    }
   ],
   "source": [
    "jy_contracts"
   ]
  },
  {
   "cell_type": "code",
   "execution_count": 20,
   "metadata": {
    "collapsed": true
   },
   "outputs": [],
   "source": [
    "jy_dates = [(x.symbol, x.start_date, x.end_date) for x in jy_contracts]"
   ]
  },
  {
   "cell_type": "code",
   "execution_count": 21,
   "metadata": {},
   "outputs": [
    {
     "data": {
      "text/plain": [
       "[]"
      ]
     },
     "execution_count": 21,
     "metadata": {},
     "output_type": "execute_result"
    }
   ],
   "source": [
    "jy_dates"
   ]
  },
  {
   "cell_type": "code",
   "execution_count": 34,
   "metadata": {},
   "outputs": [
    {
     "data": {
      "text/plain": [
       "[Future(5551 [GCZ00]),\n",
       " Future(5580 [GCG01]),\n",
       " Future(5634 [GCJ01]),\n",
       " Future(5687 [GCM01]),\n",
       " Future(5723 [GCQ01]),\n",
       " Future(5781 [GCV01]),\n",
       " Future(5836 [GCZ01]),\n",
       " Future(5864 [GCG02]),\n",
       " Future(5923 [GCJ02]),\n",
       " Future(5975 [GCM02]),\n",
       " Future(6009 [GCQ02]),\n",
       " Future(6069 [GCV02]),\n",
       " Future(6120 [GCZ02]),\n",
       " Future(6258 [GCM03]),\n",
       " Future(6402 [GCZ03]),\n",
       " Future(6538 [GCM04]),\n",
       " Future(6683 [GCZ04]),\n",
       " Future(6820 [GCM05])]"
      ]
     },
     "execution_count": 34,
     "metadata": {},
     "output_type": "execute_result"
    }
   ],
   "source": [
    "sid = bundle_data.asset_finder.lookup_future_symbol('GCZ00').sid\n",
    "start_dt = pd.Timestamp('2000-12-1', tz='UTC', offset='C')\n",
    "oc = bundle_data.asset_finder.get_ordered_contracts('GC')\n",
    "chain = oc.active_chain(sid, start_dt.value)\n",
    "all_chain = bundle_data.asset_finder.retrieve_all(chain)\n",
    "all_chain"
   ]
  },
  {
   "cell_type": "code",
   "execution_count": 17,
   "metadata": {
    "collapsed": true
   },
   "outputs": [],
   "source": [
    "c = continuous_future('I3', offset=0, roll_style='volume', adjustment='mul')"
   ]
  },
  {
   "cell_type": "code",
   "execution_count": 18,
   "metadata": {},
   "outputs": [
    {
     "data": {
      "text/plain": [
       "Timestamp('2012-10-30 00:00:00+0000', tz='UTC')"
      ]
     },
     "execution_count": 18,
     "metadata": {},
     "output_type": "execute_result"
    }
   ],
   "source": [
    "c.start_date"
   ]
  },
  {
   "cell_type": "code",
   "execution_count": 23,
   "metadata": {
    "collapsed": true
   },
   "outputs": [],
   "source": [
    "h = history(\n",
    "    assets=[c],\n",
    "    end_dt=pd.Timestamp('2013-04-30'),\n",
    "    bar_count=100,\n",
    "    frequency='1d',\n",
    "    field='price',\n",
    "    data_frequency='daily'\n",
    "        )"
   ]
  },
  {
   "cell_type": "code",
   "execution_count": 24,
   "metadata": {},
   "outputs": [
    {
     "data": {
      "text/html": [
       "<div>\n",
       "<table border=\"1\" class=\"dataframe\">\n",
       "  <thead>\n",
       "    <tr style=\"text-align: right;\">\n",
       "      <th></th>\n",
       "      <th>ContinuousFuture(92661342447665152 [I3, 0, volume, mul])</th>\n",
       "    </tr>\n",
       "  </thead>\n",
       "  <tbody>\n",
       "    <tr>\n",
       "      <th>2012-12-05 00:00:00+00:00</th>\n",
       "      <td>130.18641</td>\n",
       "    </tr>\n",
       "    <tr>\n",
       "      <th>2012-12-06 00:00:00+00:00</th>\n",
       "      <td>130.29540</td>\n",
       "    </tr>\n",
       "    <tr>\n",
       "      <th>2012-12-07 00:00:00+00:00</th>\n",
       "      <td>130.29540</td>\n",
       "    </tr>\n",
       "    <tr>\n",
       "      <th>2012-12-10 00:00:00+00:00</th>\n",
       "      <td>130.29540</td>\n",
       "    </tr>\n",
       "    <tr>\n",
       "      <th>2012-12-11 00:00:00+00:00</th>\n",
       "      <td>130.29540</td>\n",
       "    </tr>\n",
       "    <tr>\n",
       "      <th>2012-12-12 00:00:00+00:00</th>\n",
       "      <td>130.29540</td>\n",
       "    </tr>\n",
       "    <tr>\n",
       "      <th>2012-12-13 00:00:00+00:00</th>\n",
       "      <td>130.29540</td>\n",
       "    </tr>\n",
       "    <tr>\n",
       "      <th>2012-12-14 00:00:00+00:00</th>\n",
       "      <td>130.29540</td>\n",
       "    </tr>\n",
       "    <tr>\n",
       "      <th>2012-12-17 00:00:00+00:00</th>\n",
       "      <td>127.38977</td>\n",
       "    </tr>\n",
       "    <tr>\n",
       "      <th>2012-12-18 00:00:00+00:00</th>\n",
       "      <td>123.34328</td>\n",
       "    </tr>\n",
       "    <tr>\n",
       "      <th>2012-12-19 00:00:00+00:00</th>\n",
       "      <td>124.03019</td>\n",
       "    </tr>\n",
       "    <tr>\n",
       "      <th>2012-12-20 00:00:00+00:00</th>\n",
       "      <td>123.92121</td>\n",
       "    </tr>\n",
       "    <tr>\n",
       "      <th>2012-12-21 00:00:00+00:00</th>\n",
       "      <td>124.99907</td>\n",
       "    </tr>\n",
       "    <tr>\n",
       "      <th>2012-12-24 00:00:00+00:00</th>\n",
       "      <td>124.68711</td>\n",
       "    </tr>\n",
       "    <tr>\n",
       "      <th>2012-12-26 00:00:00+00:00</th>\n",
       "      <td>124.68711</td>\n",
       "    </tr>\n",
       "    <tr>\n",
       "      <th>2012-12-27 00:00:00+00:00</th>\n",
       "      <td>125.53000</td>\n",
       "    </tr>\n",
       "    <tr>\n",
       "      <th>2012-12-28 00:00:00+00:00</th>\n",
       "      <td>125.53000</td>\n",
       "    </tr>\n",
       "    <tr>\n",
       "      <th>2012-12-31 00:00:00+00:00</th>\n",
       "      <td>124.48414</td>\n",
       "    </tr>\n",
       "    <tr>\n",
       "      <th>2013-01-02 00:00:00+00:00</th>\n",
       "      <td>122.03045</td>\n",
       "    </tr>\n",
       "    <tr>\n",
       "      <th>2013-01-03 00:00:00+00:00</th>\n",
       "      <td>121.35953</td>\n",
       "    </tr>\n",
       "    <tr>\n",
       "      <th>2013-01-04 00:00:00+00:00</th>\n",
       "      <td>121.49952</td>\n",
       "    </tr>\n",
       "    <tr>\n",
       "      <th>2013-01-07 00:00:00+00:00</th>\n",
       "      <td>121.54651</td>\n",
       "    </tr>\n",
       "    <tr>\n",
       "      <th>2013-01-08 00:00:00+00:00</th>\n",
       "      <td>122.14043</td>\n",
       "    </tr>\n",
       "    <tr>\n",
       "      <th>2013-01-09 00:00:00+00:00</th>\n",
       "      <td>122.45239</td>\n",
       "    </tr>\n",
       "    <tr>\n",
       "      <th>2013-01-10 00:00:00+00:00</th>\n",
       "      <td>121.90546</td>\n",
       "    </tr>\n",
       "    <tr>\n",
       "      <th>2013-01-11 00:00:00+00:00</th>\n",
       "      <td>122.18743</td>\n",
       "    </tr>\n",
       "    <tr>\n",
       "      <th>2013-01-14 00:00:00+00:00</th>\n",
       "      <td>122.65537</td>\n",
       "    </tr>\n",
       "    <tr>\n",
       "      <th>2013-01-15 00:00:00+00:00</th>\n",
       "      <td>123.17130</td>\n",
       "    </tr>\n",
       "    <tr>\n",
       "      <th>2013-01-16 00:00:00+00:00</th>\n",
       "      <td>123.28029</td>\n",
       "    </tr>\n",
       "    <tr>\n",
       "      <th>2013-01-17 00:00:00+00:00</th>\n",
       "      <td>121.99945</td>\n",
       "    </tr>\n",
       "    <tr>\n",
       "      <th>...</th>\n",
       "      <td>...</td>\n",
       "    </tr>\n",
       "    <tr>\n",
       "      <th>2013-03-19 00:00:00+00:00</th>\n",
       "      <td>118.79600</td>\n",
       "    </tr>\n",
       "    <tr>\n",
       "      <th>2013-03-20 00:00:00+00:00</th>\n",
       "      <td>118.04600</td>\n",
       "    </tr>\n",
       "    <tr>\n",
       "      <th>2013-03-21 00:00:00+00:00</th>\n",
       "      <td>118.26500</td>\n",
       "    </tr>\n",
       "    <tr>\n",
       "      <th>2013-03-22 00:00:00+00:00</th>\n",
       "      <td>118.26500</td>\n",
       "    </tr>\n",
       "    <tr>\n",
       "      <th>2013-03-25 00:00:00+00:00</th>\n",
       "      <td>118.26500</td>\n",
       "    </tr>\n",
       "    <tr>\n",
       "      <th>2013-03-26 00:00:00+00:00</th>\n",
       "      <td>118.26500</td>\n",
       "    </tr>\n",
       "    <tr>\n",
       "      <th>2013-03-27 00:00:00+00:00</th>\n",
       "      <td>119.32800</td>\n",
       "    </tr>\n",
       "    <tr>\n",
       "      <th>2013-03-28 00:00:00+00:00</th>\n",
       "      <td>119.18700</td>\n",
       "    </tr>\n",
       "    <tr>\n",
       "      <th>2013-04-01 00:00:00+00:00</th>\n",
       "      <td>119.46800</td>\n",
       "    </tr>\n",
       "    <tr>\n",
       "      <th>2013-04-02 00:00:00+00:00</th>\n",
       "      <td>119.31200</td>\n",
       "    </tr>\n",
       "    <tr>\n",
       "      <th>2013-04-03 00:00:00+00:00</th>\n",
       "      <td>120.09300</td>\n",
       "    </tr>\n",
       "    <tr>\n",
       "      <th>2013-04-04 00:00:00+00:00</th>\n",
       "      <td>121.31200</td>\n",
       "    </tr>\n",
       "    <tr>\n",
       "      <th>2013-04-05 00:00:00+00:00</th>\n",
       "      <td>124.34300</td>\n",
       "    </tr>\n",
       "    <tr>\n",
       "      <th>2013-04-08 00:00:00+00:00</th>\n",
       "      <td>122.62500</td>\n",
       "    </tr>\n",
       "    <tr>\n",
       "      <th>2013-04-09 00:00:00+00:00</th>\n",
       "      <td>121.96800</td>\n",
       "    </tr>\n",
       "    <tr>\n",
       "      <th>2013-04-10 00:00:00+00:00</th>\n",
       "      <td>120.48400</td>\n",
       "    </tr>\n",
       "    <tr>\n",
       "      <th>2013-04-11 00:00:00+00:00</th>\n",
       "      <td>120.62500</td>\n",
       "    </tr>\n",
       "    <tr>\n",
       "      <th>2013-04-12 00:00:00+00:00</th>\n",
       "      <td>120.62500</td>\n",
       "    </tr>\n",
       "    <tr>\n",
       "      <th>2013-04-15 00:00:00+00:00</th>\n",
       "      <td>123.28100</td>\n",
       "    </tr>\n",
       "    <tr>\n",
       "      <th>2013-04-16 00:00:00+00:00</th>\n",
       "      <td>122.89000</td>\n",
       "    </tr>\n",
       "    <tr>\n",
       "      <th>2013-04-17 00:00:00+00:00</th>\n",
       "      <td>123.65600</td>\n",
       "    </tr>\n",
       "    <tr>\n",
       "      <th>2013-04-18 00:00:00+00:00</th>\n",
       "      <td>124.03100</td>\n",
       "    </tr>\n",
       "    <tr>\n",
       "      <th>2013-04-19 00:00:00+00:00</th>\n",
       "      <td>123.82800</td>\n",
       "    </tr>\n",
       "    <tr>\n",
       "      <th>2013-04-22 00:00:00+00:00</th>\n",
       "      <td>123.64000</td>\n",
       "    </tr>\n",
       "    <tr>\n",
       "      <th>2013-04-23 00:00:00+00:00</th>\n",
       "      <td>123.20300</td>\n",
       "    </tr>\n",
       "    <tr>\n",
       "      <th>2013-04-24 00:00:00+00:00</th>\n",
       "      <td>123.21800</td>\n",
       "    </tr>\n",
       "    <tr>\n",
       "      <th>2013-04-25 00:00:00+00:00</th>\n",
       "      <td>122.78100</td>\n",
       "    </tr>\n",
       "    <tr>\n",
       "      <th>2013-04-26 00:00:00+00:00</th>\n",
       "      <td>123.81200</td>\n",
       "    </tr>\n",
       "    <tr>\n",
       "      <th>2013-04-29 00:00:00+00:00</th>\n",
       "      <td>124.03100</td>\n",
       "    </tr>\n",
       "    <tr>\n",
       "      <th>2013-04-30 00:00:00+00:00</th>\n",
       "      <td>123.57800</td>\n",
       "    </tr>\n",
       "  </tbody>\n",
       "</table>\n",
       "<p>100 rows × 1 columns</p>\n",
       "</div>"
      ],
      "text/plain": [
       "                           ContinuousFuture(92661342447665152 [I3, 0, volume, mul])\n",
       "2012-12-05 00:00:00+00:00                                          130.18641       \n",
       "2012-12-06 00:00:00+00:00                                          130.29540       \n",
       "2012-12-07 00:00:00+00:00                                          130.29540       \n",
       "2012-12-10 00:00:00+00:00                                          130.29540       \n",
       "2012-12-11 00:00:00+00:00                                          130.29540       \n",
       "2012-12-12 00:00:00+00:00                                          130.29540       \n",
       "2012-12-13 00:00:00+00:00                                          130.29540       \n",
       "2012-12-14 00:00:00+00:00                                          130.29540       \n",
       "2012-12-17 00:00:00+00:00                                          127.38977       \n",
       "2012-12-18 00:00:00+00:00                                          123.34328       \n",
       "2012-12-19 00:00:00+00:00                                          124.03019       \n",
       "2012-12-20 00:00:00+00:00                                          123.92121       \n",
       "2012-12-21 00:00:00+00:00                                          124.99907       \n",
       "2012-12-24 00:00:00+00:00                                          124.68711       \n",
       "2012-12-26 00:00:00+00:00                                          124.68711       \n",
       "2012-12-27 00:00:00+00:00                                          125.53000       \n",
       "2012-12-28 00:00:00+00:00                                          125.53000       \n",
       "2012-12-31 00:00:00+00:00                                          124.48414       \n",
       "2013-01-02 00:00:00+00:00                                          122.03045       \n",
       "2013-01-03 00:00:00+00:00                                          121.35953       \n",
       "2013-01-04 00:00:00+00:00                                          121.49952       \n",
       "2013-01-07 00:00:00+00:00                                          121.54651       \n",
       "2013-01-08 00:00:00+00:00                                          122.14043       \n",
       "2013-01-09 00:00:00+00:00                                          122.45239       \n",
       "2013-01-10 00:00:00+00:00                                          121.90546       \n",
       "2013-01-11 00:00:00+00:00                                          122.18743       \n",
       "2013-01-14 00:00:00+00:00                                          122.65537       \n",
       "2013-01-15 00:00:00+00:00                                          123.17130       \n",
       "2013-01-16 00:00:00+00:00                                          123.28029       \n",
       "2013-01-17 00:00:00+00:00                                          121.99945       \n",
       "...                                                                      ...       \n",
       "2013-03-19 00:00:00+00:00                                          118.79600       \n",
       "2013-03-20 00:00:00+00:00                                          118.04600       \n",
       "2013-03-21 00:00:00+00:00                                          118.26500       \n",
       "2013-03-22 00:00:00+00:00                                          118.26500       \n",
       "2013-03-25 00:00:00+00:00                                          118.26500       \n",
       "2013-03-26 00:00:00+00:00                                          118.26500       \n",
       "2013-03-27 00:00:00+00:00                                          119.32800       \n",
       "2013-03-28 00:00:00+00:00                                          119.18700       \n",
       "2013-04-01 00:00:00+00:00                                          119.46800       \n",
       "2013-04-02 00:00:00+00:00                                          119.31200       \n",
       "2013-04-03 00:00:00+00:00                                          120.09300       \n",
       "2013-04-04 00:00:00+00:00                                          121.31200       \n",
       "2013-04-05 00:00:00+00:00                                          124.34300       \n",
       "2013-04-08 00:00:00+00:00                                          122.62500       \n",
       "2013-04-09 00:00:00+00:00                                          121.96800       \n",
       "2013-04-10 00:00:00+00:00                                          120.48400       \n",
       "2013-04-11 00:00:00+00:00                                          120.62500       \n",
       "2013-04-12 00:00:00+00:00                                          120.62500       \n",
       "2013-04-15 00:00:00+00:00                                          123.28100       \n",
       "2013-04-16 00:00:00+00:00                                          122.89000       \n",
       "2013-04-17 00:00:00+00:00                                          123.65600       \n",
       "2013-04-18 00:00:00+00:00                                          124.03100       \n",
       "2013-04-19 00:00:00+00:00                                          123.82800       \n",
       "2013-04-22 00:00:00+00:00                                          123.64000       \n",
       "2013-04-23 00:00:00+00:00                                          123.20300       \n",
       "2013-04-24 00:00:00+00:00                                          123.21800       \n",
       "2013-04-25 00:00:00+00:00                                          122.78100       \n",
       "2013-04-26 00:00:00+00:00                                          123.81200       \n",
       "2013-04-29 00:00:00+00:00                                          124.03100       \n",
       "2013-04-30 00:00:00+00:00                                          123.57800       \n",
       "\n",
       "[100 rows x 1 columns]"
      ]
     },
     "execution_count": 24,
     "metadata": {},
     "output_type": "execute_result"
    }
   ],
   "source": [
    "h"
   ]
  },
  {
   "cell_type": "code",
   "execution_count": 22,
   "metadata": {},
   "outputs": [
    {
     "ename": "NameError",
     "evalue": "name 'continuous_future' is not defined",
     "output_type": "error",
     "traceback": [
      "\u001b[1;31m---------------------------------------------------------------------------\u001b[0m",
      "\u001b[1;31mNameError\u001b[0m                                 Traceback (most recent call last)",
      "\u001b[1;32m<ipython-input-22-9acd14cccaf9>\u001b[0m in \u001b[0;36m<module>\u001b[1;34m()\u001b[0m\n\u001b[1;32m----> 1\u001b[1;33m \u001b[0mx\u001b[0m \u001b[1;33m=\u001b[0m \u001b[0mcontinuous_future\u001b[0m\u001b[1;33m(\u001b[0m\u001b[1;34m'AD'\u001b[0m\u001b[1;33m,\u001b[0m \u001b[0mroll_style\u001b[0m\u001b[1;33m=\u001b[0m\u001b[1;34m'volume'\u001b[0m\u001b[1;33m,\u001b[0m \u001b[0madjustment\u001b[0m\u001b[1;33m=\u001b[0m\u001b[1;34m'None'\u001b[0m\u001b[1;33m)\u001b[0m\u001b[1;33m\u001b[0m\u001b[0m\n\u001b[0m",
      "\u001b[1;31mNameError\u001b[0m: name 'continuous_future' is not defined"
     ]
    }
   ],
   "source": [
    "x = continuous_future('AD', roll_style='volume', adjustment='None')"
   ]
  },
  {
   "cell_type": "code",
   "execution_count": null,
   "metadata": {
    "collapsed": true
   },
   "outputs": [],
   "source": []
  }
 ],
 "metadata": {
  "kernelspec": {
   "display_name": "zipline",
   "language": "python",
   "name": "zipline"
  },
  "language_info": {
   "codemirror_mode": {
    "name": "ipython",
    "version": 3
   },
   "file_extension": ".py",
   "mimetype": "text/x-python",
   "name": "python",
   "nbconvert_exporter": "python",
   "pygments_lexer": "ipython3",
   "version": "3.5.6"
  }
 },
 "nbformat": 4,
 "nbformat_minor": 2
}
