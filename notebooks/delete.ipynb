{
 "cells": [
  {
   "cell_type": "code",
   "execution_count": 1,
   "metadata": {
    "collapsed": true
   },
   "outputs": [],
   "source": [
    "import pandas as pd\n",
    "import numpy as np"
   ]
  },
  {
   "cell_type": "code",
   "execution_count": 2,
   "metadata": {
    "collapsed": true
   },
   "outputs": [],
   "source": [
    "symbols = ['A', 'B', 'C', 'D', 'E']"
   ]
  },
  {
   "cell_type": "code",
   "execution_count": null,
   "metadata": {
    "collapsed": true
   },
   "outputs": [],
   "source": []
  },
  {
   "cell_type": "code",
   "execution_count": null,
   "metadata": {
    "collapsed": true
   },
   "outputs": [],
   "source": []
  },
  {
   "cell_type": "code",
   "execution_count": null,
   "metadata": {
    "collapsed": true
   },
   "outputs": [],
   "source": []
  },
  {
   "cell_type": "code",
   "execution_count": 3,
   "metadata": {
    "collapsed": true
   },
   "outputs": [],
   "source": [
    "metadata = pd.DataFrame(np.empty(len(symbols), dtype=[\n",
    "            ('start_date', 'datetime64[ns]'),\n",
    "            ('end_date', 'datetime64[ns]'),\n",
    "            ('auto_close_date', 'datetime64[ns]'),\n",
    "            ('symbol', 'object'),\n",
    "        ]))"
   ]
  },
  {
   "cell_type": "code",
   "execution_count": 4,
   "metadata": {},
   "outputs": [
    {
     "data": {
      "text/html": [
       "<div>\n",
       "<table border=\"1\" class=\"dataframe\">\n",
       "  <thead>\n",
       "    <tr style=\"text-align: right;\">\n",
       "      <th></th>\n",
       "      <th>start_date</th>\n",
       "      <th>end_date</th>\n",
       "      <th>auto_close_date</th>\n",
       "      <th>symbol</th>\n",
       "    </tr>\n",
       "  </thead>\n",
       "  <tbody>\n",
       "    <tr>\n",
       "      <th>0</th>\n",
       "      <td>1970-01-01</td>\n",
       "      <td>1970-01-01</td>\n",
       "      <td>1970-01-01</td>\n",
       "      <td>None</td>\n",
       "    </tr>\n",
       "    <tr>\n",
       "      <th>1</th>\n",
       "      <td>1970-01-01</td>\n",
       "      <td>1970-01-01</td>\n",
       "      <td>1970-01-01</td>\n",
       "      <td>None</td>\n",
       "    </tr>\n",
       "    <tr>\n",
       "      <th>2</th>\n",
       "      <td>1970-01-01</td>\n",
       "      <td>1970-01-01</td>\n",
       "      <td>1970-01-01</td>\n",
       "      <td>None</td>\n",
       "    </tr>\n",
       "    <tr>\n",
       "      <th>3</th>\n",
       "      <td>1970-01-01</td>\n",
       "      <td>1970-01-01</td>\n",
       "      <td>1970-01-01</td>\n",
       "      <td>None</td>\n",
       "    </tr>\n",
       "    <tr>\n",
       "      <th>4</th>\n",
       "      <td>1970-01-01</td>\n",
       "      <td>1970-01-01</td>\n",
       "      <td>1970-01-01</td>\n",
       "      <td>None</td>\n",
       "    </tr>\n",
       "  </tbody>\n",
       "</table>\n",
       "</div>"
      ],
      "text/plain": [
       "  start_date   end_date auto_close_date symbol\n",
       "0 1970-01-01 1970-01-01      1970-01-01   None\n",
       "1 1970-01-01 1970-01-01      1970-01-01   None\n",
       "2 1970-01-01 1970-01-01      1970-01-01   None\n",
       "3 1970-01-01 1970-01-01      1970-01-01   None\n",
       "4 1970-01-01 1970-01-01      1970-01-01   None"
      ]
     },
     "execution_count": 4,
     "metadata": {},
     "output_type": "execute_result"
    }
   ],
   "source": [
    "metadata"
   ]
  },
  {
   "cell_type": "code",
   "execution_count": 6,
   "metadata": {},
   "outputs": [],
   "source": [
    "divs_splits = {'divs': pd.DataFrame(columns=['sid', 'amount',\n",
    "                                          'ex_date', 'record_date',\n",
    "                                          'declared_date', 'pay_date']),\n",
    "               'splits': pd.DataFrame(columns=['sid', 'ratio',\n",
    "                                            'effective_date'])}\n"
   ]
  },
  {
   "cell_type": "code",
   "execution_count": 7,
   "metadata": {},
   "outputs": [
    {
     "data": {
      "text/html": [
       "<div>\n",
       "<table border=\"1\" class=\"dataframe\">\n",
       "  <thead>\n",
       "    <tr style=\"text-align: right;\">\n",
       "      <th></th>\n",
       "      <th>sid</th>\n",
       "      <th>amount</th>\n",
       "      <th>ex_date</th>\n",
       "      <th>record_date</th>\n",
       "      <th>declared_date</th>\n",
       "      <th>pay_date</th>\n",
       "    </tr>\n",
       "  </thead>\n",
       "  <tbody>\n",
       "  </tbody>\n",
       "</table>\n",
       "</div>"
      ],
      "text/plain": [
       "Empty DataFrame\n",
       "Columns: [sid, amount, ex_date, record_date, declared_date, pay_date]\n",
       "Index: []"
      ]
     },
     "execution_count": 7,
     "metadata": {},
     "output_type": "execute_result"
    }
   ],
   "source": [
    "divs_splits['divs']"
   ]
  },
  {
   "cell_type": "code",
   "execution_count": 8,
   "metadata": {
    "collapsed": true
   },
   "outputs": [],
   "source": [
    "import pickle"
   ]
  },
  {
   "cell_type": "code",
   "execution_count": 15,
   "metadata": {},
   "outputs": [],
   "source": [
    "with open('C:/Users/tomek/zipline/strategies/output.pickle', 'rb') as f:\n",
    "    a = pickle.load(f)"
   ]
  },
  {
   "cell_type": "code",
   "execution_count": 16,
   "metadata": {},
   "outputs": [
    {
     "data": {
      "text/html": [
       "<div>\n",
       "<table border=\"1\" class=\"dataframe\">\n",
       "  <thead>\n",
       "    <tr style=\"text-align: right;\">\n",
       "      <th></th>\n",
       "      <th>algo_volatility</th>\n",
       "      <th>algorithm_period_return</th>\n",
       "      <th>alpha</th>\n",
       "      <th>amount</th>\n",
       "      <th>benchmark_period_return</th>\n",
       "      <th>benchmark_volatility</th>\n",
       "      <th>beta</th>\n",
       "      <th>capital_used</th>\n",
       "      <th>cost</th>\n",
       "      <th>ending_cash</th>\n",
       "      <th>...</th>\n",
       "      <th>short_exposure</th>\n",
       "      <th>short_value</th>\n",
       "      <th>shorts_count</th>\n",
       "      <th>sortino</th>\n",
       "      <th>starting_cash</th>\n",
       "      <th>starting_exposure</th>\n",
       "      <th>starting_value</th>\n",
       "      <th>trading_days</th>\n",
       "      <th>transactions</th>\n",
       "      <th>treasury_period_return</th>\n",
       "    </tr>\n",
       "  </thead>\n",
       "  <tbody>\n",
       "    <tr>\n",
       "      <th>2018-01-02 21:00:00+00:00</th>\n",
       "      <td>NaN</td>\n",
       "      <td>0.000000</td>\n",
       "      <td>NaN</td>\n",
       "      <td>NaN</td>\n",
       "      <td>0.007157</td>\n",
       "      <td>NaN</td>\n",
       "      <td>NaN</td>\n",
       "      <td>0.00000</td>\n",
       "      <td>NaN</td>\n",
       "      <td>1.000000e+07</td>\n",
       "      <td>...</td>\n",
       "      <td>0.0</td>\n",
       "      <td>0.0</td>\n",
       "      <td>0</td>\n",
       "      <td>NaN</td>\n",
       "      <td>1.000000e+07</td>\n",
       "      <td>0.0</td>\n",
       "      <td>0.0</td>\n",
       "      <td>1</td>\n",
       "      <td>[]</td>\n",
       "      <td>0.0</td>\n",
       "    </tr>\n",
       "    <tr>\n",
       "      <th>2018-01-03 21:00:00+00:00</th>\n",
       "      <td>0.000339</td>\n",
       "      <td>-0.000030</td>\n",
       "      <td>-0.065485</td>\n",
       "      <td>-1.0</td>\n",
       "      <td>0.013528</td>\n",
       "      <td>0.009338</td>\n",
       "      <td>0.036308</td>\n",
       "      <td>-302.03005</td>\n",
       "      <td>2703.209399</td>\n",
       "      <td>9.999698e+06</td>\n",
       "      <td>...</td>\n",
       "      <td>-135462.5</td>\n",
       "      <td>0.0</td>\n",
       "      <td>1</td>\n",
       "      <td>-11.224972</td>\n",
       "      <td>1.000000e+07</td>\n",
       "      <td>0.0</td>\n",
       "      <td>0.0</td>\n",
       "      <td>2</td>\n",
       "      <td>[{'price': 2703.249999, 'commission': None, 's...</td>\n",
       "      <td>0.0</td>\n",
       "    </tr>\n",
       "    <tr>\n",
       "      <th>2018-01-04 21:00:00+00:00</th>\n",
       "      <td>0.000631</td>\n",
       "      <td>-0.000109</td>\n",
       "      <td>-0.047850</td>\n",
       "      <td>-1.0</td>\n",
       "      <td>0.017800</td>\n",
       "      <td>0.024077</td>\n",
       "      <td>0.026031</td>\n",
       "      <td>-787.50000</td>\n",
       "      <td>2703.209399</td>\n",
       "      <td>9.998910e+06</td>\n",
       "      <td>...</td>\n",
       "      <td>-136250.0</td>\n",
       "      <td>0.0</td>\n",
       "      <td>1</td>\n",
       "      <td>-11.839315</td>\n",
       "      <td>9.999698e+06</td>\n",
       "      <td>-135462.5</td>\n",
       "      <td>0.0</td>\n",
       "      <td>3</td>\n",
       "      <td>[]</td>\n",
       "      <td>0.0</td>\n",
       "    </tr>\n",
       "    <tr>\n",
       "      <th>2018-01-05 21:00:00+00:00</th>\n",
       "      <td>0.000656</td>\n",
       "      <td>-0.000196</td>\n",
       "      <td>-0.039910</td>\n",
       "      <td>-1.0</td>\n",
       "      <td>0.024582</td>\n",
       "      <td>0.020574</td>\n",
       "      <td>0.017940</td>\n",
       "      <td>-875.00000</td>\n",
       "      <td>2703.209399</td>\n",
       "      <td>9.998035e+06</td>\n",
       "      <td>...</td>\n",
       "      <td>-137125.0</td>\n",
       "      <td>0.0</td>\n",
       "      <td>1</td>\n",
       "      <td>-12.830232</td>\n",
       "      <td>9.998910e+06</td>\n",
       "      <td>-136250.0</td>\n",
       "      <td>0.0</td>\n",
       "      <td>4</td>\n",
       "      <td>[]</td>\n",
       "      <td>0.0</td>\n",
       "    </tr>\n",
       "    <tr>\n",
       "      <th>2018-01-08 21:00:00+00:00</th>\n",
       "      <td>0.000599</td>\n",
       "      <td>-0.000219</td>\n",
       "      <td>-0.011014</td>\n",
       "      <td>-1.0</td>\n",
       "      <td>0.026456</td>\n",
       "      <td>0.035112</td>\n",
       "      <td>-0.000017</td>\n",
       "      <td>-225.00000</td>\n",
       "      <td>2703.209399</td>\n",
       "      <td>9.997810e+06</td>\n",
       "      <td>...</td>\n",
       "      <td>-137350.0</td>\n",
       "      <td>0.0</td>\n",
       "      <td>1</td>\n",
       "      <td>-12.576443</td>\n",
       "      <td>9.998035e+06</td>\n",
       "      <td>-137125.0</td>\n",
       "      <td>0.0</td>\n",
       "      <td>5</td>\n",
       "      <td>[]</td>\n",
       "      <td>0.0</td>\n",
       "    </tr>\n",
       "  </tbody>\n",
       "</table>\n",
       "<p>5 rows × 39 columns</p>\n",
       "</div>"
      ],
      "text/plain": [
       "                           algo_volatility  algorithm_period_return     alpha  \\\n",
       "2018-01-02 21:00:00+00:00              NaN                 0.000000       NaN   \n",
       "2018-01-03 21:00:00+00:00         0.000339                -0.000030 -0.065485   \n",
       "2018-01-04 21:00:00+00:00         0.000631                -0.000109 -0.047850   \n",
       "2018-01-05 21:00:00+00:00         0.000656                -0.000196 -0.039910   \n",
       "2018-01-08 21:00:00+00:00         0.000599                -0.000219 -0.011014   \n",
       "\n",
       "                           amount  benchmark_period_return  \\\n",
       "2018-01-02 21:00:00+00:00     NaN                 0.007157   \n",
       "2018-01-03 21:00:00+00:00    -1.0                 0.013528   \n",
       "2018-01-04 21:00:00+00:00    -1.0                 0.017800   \n",
       "2018-01-05 21:00:00+00:00    -1.0                 0.024582   \n",
       "2018-01-08 21:00:00+00:00    -1.0                 0.026456   \n",
       "\n",
       "                           benchmark_volatility      beta  capital_used  \\\n",
       "2018-01-02 21:00:00+00:00                   NaN       NaN       0.00000   \n",
       "2018-01-03 21:00:00+00:00              0.009338  0.036308    -302.03005   \n",
       "2018-01-04 21:00:00+00:00              0.024077  0.026031    -787.50000   \n",
       "2018-01-05 21:00:00+00:00              0.020574  0.017940    -875.00000   \n",
       "2018-01-08 21:00:00+00:00              0.035112 -0.000017    -225.00000   \n",
       "\n",
       "                                  cost   ending_cash           ...            \\\n",
       "2018-01-02 21:00:00+00:00          NaN  1.000000e+07           ...             \n",
       "2018-01-03 21:00:00+00:00  2703.209399  9.999698e+06           ...             \n",
       "2018-01-04 21:00:00+00:00  2703.209399  9.998910e+06           ...             \n",
       "2018-01-05 21:00:00+00:00  2703.209399  9.998035e+06           ...             \n",
       "2018-01-08 21:00:00+00:00  2703.209399  9.997810e+06           ...             \n",
       "\n",
       "                           short_exposure  short_value  shorts_count  \\\n",
       "2018-01-02 21:00:00+00:00             0.0          0.0             0   \n",
       "2018-01-03 21:00:00+00:00       -135462.5          0.0             1   \n",
       "2018-01-04 21:00:00+00:00       -136250.0          0.0             1   \n",
       "2018-01-05 21:00:00+00:00       -137125.0          0.0             1   \n",
       "2018-01-08 21:00:00+00:00       -137350.0          0.0             1   \n",
       "\n",
       "                             sortino  starting_cash  starting_exposure  \\\n",
       "2018-01-02 21:00:00+00:00        NaN   1.000000e+07                0.0   \n",
       "2018-01-03 21:00:00+00:00 -11.224972   1.000000e+07                0.0   \n",
       "2018-01-04 21:00:00+00:00 -11.839315   9.999698e+06          -135462.5   \n",
       "2018-01-05 21:00:00+00:00 -12.830232   9.998910e+06          -136250.0   \n",
       "2018-01-08 21:00:00+00:00 -12.576443   9.998035e+06          -137125.0   \n",
       "\n",
       "                           starting_value  trading_days  \\\n",
       "2018-01-02 21:00:00+00:00             0.0             1   \n",
       "2018-01-03 21:00:00+00:00             0.0             2   \n",
       "2018-01-04 21:00:00+00:00             0.0             3   \n",
       "2018-01-05 21:00:00+00:00             0.0             4   \n",
       "2018-01-08 21:00:00+00:00             0.0             5   \n",
       "\n",
       "                                                                transactions  \\\n",
       "2018-01-02 21:00:00+00:00                                                 []   \n",
       "2018-01-03 21:00:00+00:00  [{'price': 2703.249999, 'commission': None, 's...   \n",
       "2018-01-04 21:00:00+00:00                                                 []   \n",
       "2018-01-05 21:00:00+00:00                                                 []   \n",
       "2018-01-08 21:00:00+00:00                                                 []   \n",
       "\n",
       "                           treasury_period_return  \n",
       "2018-01-02 21:00:00+00:00                     0.0  \n",
       "2018-01-03 21:00:00+00:00                     0.0  \n",
       "2018-01-04 21:00:00+00:00                     0.0  \n",
       "2018-01-05 21:00:00+00:00                     0.0  \n",
       "2018-01-08 21:00:00+00:00                     0.0  \n",
       "\n",
       "[5 rows x 39 columns]"
      ]
     },
     "execution_count": 16,
     "metadata": {},
     "output_type": "execute_result"
    }
   ],
   "source": [
    "a.head()"
   ]
  },
  {
   "cell_type": "code",
   "execution_count": null,
   "metadata": {
    "collapsed": true
   },
   "outputs": [],
   "source": []
  }
 ],
 "metadata": {
  "kernelspec": {
   "display_name": "env_zipline",
   "language": "python",
   "name": "env_zipline"
  },
  "language_info": {
   "codemirror_mode": {
    "name": "ipython",
    "version": 3
   },
   "file_extension": ".py",
   "mimetype": "text/x-python",
   "name": "python",
   "nbconvert_exporter": "python",
   "pygments_lexer": "ipython3",
   "version": "3.5.5"
  }
 },
 "nbformat": 4,
 "nbformat_minor": 2
}
