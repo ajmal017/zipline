{
 "cells": [
  {
   "cell_type": "code",
   "execution_count": 6,
   "metadata": {},
   "outputs": [],
   "source": [
    "from io import BytesIO\n",
    "import tarfile\n",
    "from zipfile import ZipFile\n",
    "\n",
    "from click import progressbar\n",
    "from logbook import Logger\n",
    "import pandas as pd\n",
    "import requests\n",
    "from six.moves.urllib.parse import urlencode\n",
    "from six import iteritems\n",
    "import os\n",
    "\n",
    "\n",
    "import numpy as np\n"
   ]
  },
  {
   "cell_type": "code",
   "execution_count": 3,
   "metadata": {
    "collapsed": true
   },
   "outputs": [],
   "source": [
    "ONE_MEGABYTE = 1024 * 1024\n",
    "QUANDL_DATA_URL = (\n",
    "    'https://www.quandl.com/api/v3/datatables/WIKI/PRICES.csv?'\n",
    ")\n",
    "\n",
    "\n",
    "def format_metadata_url(api_key):\n",
    "    \"\"\" Build the query URL for Quandl WIKI Prices metadata.\n",
    "    \"\"\"\n",
    "    query_params = [('api_key', api_key), ('qopts.export', 'true')]\n",
    "\n",
    "    return (\n",
    "        QUANDL_DATA_URL + urlencode(query_params)\n",
    "    )\n"
   ]
  },
  {
   "cell_type": "code",
   "execution_count": null,
   "metadata": {
    "collapsed": true
   },
   "outputs": [],
   "source": [
    "def load_data_table(file,\n",
    "                    index_col,\n",
    "                    show_progress=False):\n",
    "    \"\"\" Load data table from zip file provided by Quandl.\n",
    "    \"\"\"\n",
    "    with ZipFile(file) as zip_file:\n",
    "        file_names = zip_file.namelist()\n",
    "        assert len(file_names) == 1, \"Expected a single file from Quandl.\"\n",
    "        wiki_prices = file_names.pop()\n",
    "        with zip_file.open(wiki_prices) as table_file:\n",
    "            if show_progress:\n",
    "                log.info('Parsing raw data.')\n",
    "            data_table = pd.read_csv(\n",
    "                table_file,\n",
    "                parse_dates=['date'],\n",
    "                index_col=index_col,\n",
    "                usecols=[\n",
    "                    'ticker',\n",
    "                    'date',\n",
    "                    'open',\n",
    "                    'high',\n",
    "                    'low',\n",
    "                    'close',\n",
    "                    'volume',\n",
    "                    'ex-dividend',\n",
    "                    'split_ratio',\n",
    "                ],\n",
    "            )\n",
    "\n",
    "    data_table.rename(\n",
    "        columns={\n",
    "            'ticker': 'symbol',\n",
    "            'ex-dividend': 'ex_dividend',\n",
    "        },\n",
    "        inplace=True,\n",
    "        copy=False,\n",
    "    )\n",
    "    return data_table"
   ]
  },
  {
   "cell_type": "code",
   "execution_count": 11,
   "metadata": {
    "collapsed": true
   },
   "outputs": [],
   "source": [
    "def fetch_data_table(api_key,\n",
    "                     show_progress,\n",
    "                     retries):\n",
    "    \"\"\" Fetch WIKI Prices data table from Quandl\n",
    "    \"\"\"\n",
    "    for _ in range(retries):\n",
    "        try:\n",
    "            if show_progress:\n",
    "                print('Downloading WIKI metadata.')\n",
    "\n",
    "            metadata = pd.read_csv(\n",
    "                format_metadata_url(api_key)\n",
    "            )\n",
    "            # Extract link from metadata and download zip file.\n",
    "            table_url = metadata.loc[0, 'file.link']\n",
    "            if show_progress:\n",
    "                raw_file = download_with_progress(\n",
    "                    table_url,\n",
    "                    chunk_size=ONE_MEGABYTE,\n",
    "                    label=\"Downloading WIKI Prices table from Quandl\"\n",
    "                )\n",
    "            else:\n",
    "                raw_file = download_without_progress(table_url)\n",
    "\n",
    "            return load_data_table(\n",
    "                file=raw_file,\n",
    "                index_col=None,\n",
    "                show_progress=show_progress,\n",
    "            )\n",
    "\n",
    "        except Exception:\n",
    "            print(\"Exception raised reading Quandl data. Retrying.\")\n",
    "\n",
    "    else:\n",
    "        raise ValueError(\n",
    "            \"Failed to download Quandl data after %d attempts.\" % (retries)\n",
    "        )"
   ]
  },
  {
   "cell_type": "code",
   "execution_count": 12,
   "metadata": {},
   "outputs": [
    {
     "name": "stdout",
     "output_type": "stream",
     "text": [
      "Exception raised reading Quandl data. Retrying.\n",
      "Exception raised reading Quandl data. Retrying.\n",
      "Exception raised reading Quandl data. Retrying.\n",
      "Exception raised reading Quandl data. Retrying.\n",
      "Exception raised reading Quandl data. Retrying.\n"
     ]
    },
    {
     "ename": "ValueError",
     "evalue": "Failed to download Quandl data after 5 attempts.",
     "output_type": "error",
     "traceback": [
      "\u001b[1;31m---------------------------------------------------------------------------\u001b[0m",
      "\u001b[1;31mValueError\u001b[0m                                Traceback (most recent call last)",
      "\u001b[1;32m<ipython-input-12-0eb3dc8e974b>\u001b[0m in \u001b[0;36m<module>\u001b[1;34m()\u001b[0m\n\u001b[0;32m      3\u001b[0m         \u001b[0mapi_key\u001b[0m\u001b[1;33m,\u001b[0m\u001b[1;33m\u001b[0m\u001b[0m\n\u001b[0;32m      4\u001b[0m         \u001b[1;32mFalse\u001b[0m\u001b[1;33m,\u001b[0m\u001b[1;33m\u001b[0m\u001b[0m\n\u001b[1;32m----> 5\u001b[1;33m         \u001b[1;36m5\u001b[0m\u001b[1;33m\u001b[0m\u001b[0m\n\u001b[0m\u001b[0;32m      6\u001b[0m     )\n",
      "\u001b[1;32m<ipython-input-11-9a46933d0ea6>\u001b[0m in \u001b[0;36mfetch_data_table\u001b[1;34m(api_key, show_progress, retries)\u001b[0m\n\u001b[0;32m     34\u001b[0m     \u001b[1;32melse\u001b[0m\u001b[1;33m:\u001b[0m\u001b[1;33m\u001b[0m\u001b[0m\n\u001b[0;32m     35\u001b[0m         raise ValueError(\n\u001b[1;32m---> 36\u001b[1;33m             \u001b[1;34m\"Failed to download Quandl data after %d attempts.\"\u001b[0m \u001b[1;33m%\u001b[0m \u001b[1;33m(\u001b[0m\u001b[0mretries\u001b[0m\u001b[1;33m)\u001b[0m\u001b[1;33m\u001b[0m\u001b[0m\n\u001b[0m\u001b[0;32m     37\u001b[0m         )\n",
      "\u001b[1;31mValueError\u001b[0m: Failed to download Quandl data after 5 attempts."
     ]
    }
   ],
   "source": [
    "api_key = os.environ.get('QUANDL_API_KEY')\n",
    "raw_data = fetch_data_table(\n",
    "        api_key,\n",
    "        False,\n",
    "        5\n",
    "    )"
   ]
  },
  {
   "cell_type": "code",
   "execution_count": null,
   "metadata": {
    "collapsed": true
   },
   "outputs": [],
   "source": []
  }
 ],
 "metadata": {
  "kernelspec": {
   "display_name": "env_zipline",
   "language": "python",
   "name": "env_zipline"
  },
  "language_info": {
   "codemirror_mode": {
    "name": "ipython",
    "version": 3
   },
   "file_extension": ".py",
   "mimetype": "text/x-python",
   "name": "python",
   "nbconvert_exporter": "python",
   "pygments_lexer": "ipython3",
   "version": "3.5.5"
  }
 },
 "nbformat": 4,
 "nbformat_minor": 2
}
