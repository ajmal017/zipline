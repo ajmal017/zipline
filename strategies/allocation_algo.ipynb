{
 "cells": [
  {
   "cell_type": "code",
   "execution_count": 1,
   "metadata": {
    "collapsed": true
   },
   "outputs": [],
   "source": [
    "import warnings\n",
    "warnings.filterwarnings('ignore')\n",
    "%matplotlib inline\n",
    "import pandas as pd\n",
    "import numpy as np\n",
    "import matplotlib.pyplot as plt\n",
    "from pyfolio.timeseries import perf_stats\n",
    "import talib"
   ]
  },
  {
   "cell_type": "code",
   "execution_count": 2,
   "metadata": {
    "collapsed": true
   },
   "outputs": [],
   "source": [
    "PERIODS = 200\n",
    "SLOW_MA = 200\n",
    "FAST_MA = 100\n",
    "BREAKOUT = 75"
   ]
  },
  {
   "cell_type": "code",
   "execution_count": 38,
   "metadata": {},
   "outputs": [],
   "source": [
    "results = pd.read_pickle('results/maximize_return_2007-2012.pickle')\n",
    "returns = results.returns"
   ]
  },
  {
   "cell_type": "code",
   "execution_count": 39,
   "metadata": {
    "collapsed": true
   },
   "outputs": [],
   "source": [
    "equity_curve = (returns + 1).cumprod()\n",
    "days = len(returns)"
   ]
  },
  {
   "cell_type": "code",
   "execution_count": 40,
   "metadata": {},
   "outputs": [
    {
     "data": {
      "text/plain": [
       "2012-12-24 18:00:00+00:00    3.178761\n",
       "2012-12-26 21:00:00+00:00    3.202854\n",
       "2012-12-27 21:00:00+00:00    3.247691\n",
       "2012-12-28 21:00:00+00:00    3.226490\n",
       "2012-12-31 21:00:00+00:00    3.282038\n",
       "Name: returns, dtype: float64"
      ]
     },
     "execution_count": 40,
     "metadata": {},
     "output_type": "execute_result"
    }
   ],
   "source": [
    "equity_curve.tail()"
   ]
  },
  {
   "cell_type": "code",
   "execution_count": 41,
   "metadata": {},
   "outputs": [
    {
     "data": {
      "text/html": [
       "<div>\n",
       "<style scoped>\n",
       "    .dataframe tbody tr th:only-of-type {\n",
       "        vertical-align: middle;\n",
       "    }\n",
       "\n",
       "    .dataframe tbody tr th {\n",
       "        vertical-align: top;\n",
       "    }\n",
       "\n",
       "    .dataframe thead th {\n",
       "        text-align: right;\n",
       "    }\n",
       "</style>\n",
       "<table border=\"1\" class=\"dataframe\">\n",
       "  <thead>\n",
       "    <tr style=\"text-align: right;\">\n",
       "      <th></th>\n",
       "      <th>equity</th>\n",
       "      <th>return</th>\n",
       "      <th>std</th>\n",
       "      <th>mean_return</th>\n",
       "      <th>mean_monthly_return</th>\n",
       "      <th>return_21_days</th>\n",
       "      <th>zscore</th>\n",
       "      <th>monthly_std</th>\n",
       "      <th>slow_ma</th>\n",
       "      <th>fast_ma</th>\n",
       "    </tr>\n",
       "  </thead>\n",
       "  <tbody>\n",
       "    <tr>\n",
       "      <th>2012-12-24 18:00:00+00:00</th>\n",
       "      <td>3.178761</td>\n",
       "      <td>0.009366</td>\n",
       "      <td>0.010031</td>\n",
       "      <td>0.000025</td>\n",
       "      <td>0.000527</td>\n",
       "      <td>0.019079</td>\n",
       "      <td>0.619705</td>\n",
       "      <td>0.045969</td>\n",
       "      <td>3.273493</td>\n",
       "      <td>3.244071</td>\n",
       "    </tr>\n",
       "    <tr>\n",
       "      <th>2012-12-26 21:00:00+00:00</th>\n",
       "      <td>3.202854</td>\n",
       "      <td>0.007579</td>\n",
       "      <td>0.010044</td>\n",
       "      <td>0.000051</td>\n",
       "      <td>0.001065</td>\n",
       "      <td>0.017848</td>\n",
       "      <td>0.574362</td>\n",
       "      <td>0.046027</td>\n",
       "      <td>3.272790</td>\n",
       "      <td>3.243254</td>\n",
       "    </tr>\n",
       "    <tr>\n",
       "      <th>2012-12-27 21:00:00+00:00</th>\n",
       "      <td>3.247691</td>\n",
       "      <td>0.013999</td>\n",
       "      <td>0.010092</td>\n",
       "      <td>0.000127</td>\n",
       "      <td>0.002661</td>\n",
       "      <td>0.027317</td>\n",
       "      <td>0.862800</td>\n",
       "      <td>0.046247</td>\n",
       "      <td>3.272541</td>\n",
       "      <td>3.243342</td>\n",
       "    </tr>\n",
       "    <tr>\n",
       "      <th>2012-12-28 21:00:00+00:00</th>\n",
       "      <td>3.226490</td>\n",
       "      <td>-0.006528</td>\n",
       "      <td>0.010076</td>\n",
       "      <td>0.000042</td>\n",
       "      <td>0.000883</td>\n",
       "      <td>0.007802</td>\n",
       "      <td>0.250049</td>\n",
       "      <td>0.046176</td>\n",
       "      <td>3.272082</td>\n",
       "      <td>3.243009</td>\n",
       "    </tr>\n",
       "    <tr>\n",
       "      <th>2012-12-31 21:00:00+00:00</th>\n",
       "      <td>3.282038</td>\n",
       "      <td>0.017216</td>\n",
       "      <td>0.010144</td>\n",
       "      <td>0.000104</td>\n",
       "      <td>0.002189</td>\n",
       "      <td>0.023586</td>\n",
       "      <td>0.738772</td>\n",
       "      <td>0.046485</td>\n",
       "      <td>3.272181</td>\n",
       "      <td>3.243781</td>\n",
       "    </tr>\n",
       "  </tbody>\n",
       "</table>\n",
       "</div>"
      ],
      "text/plain": [
       "                             equity    return       std  mean_return  \\\n",
       "2012-12-24 18:00:00+00:00  3.178761  0.009366  0.010031     0.000025   \n",
       "2012-12-26 21:00:00+00:00  3.202854  0.007579  0.010044     0.000051   \n",
       "2012-12-27 21:00:00+00:00  3.247691  0.013999  0.010092     0.000127   \n",
       "2012-12-28 21:00:00+00:00  3.226490 -0.006528  0.010076     0.000042   \n",
       "2012-12-31 21:00:00+00:00  3.282038  0.017216  0.010144     0.000104   \n",
       "\n",
       "                           mean_monthly_return  return_21_days    zscore  \\\n",
       "2012-12-24 18:00:00+00:00             0.000527        0.019079  0.619705   \n",
       "2012-12-26 21:00:00+00:00             0.001065        0.017848  0.574362   \n",
       "2012-12-27 21:00:00+00:00             0.002661        0.027317  0.862800   \n",
       "2012-12-28 21:00:00+00:00             0.000883        0.007802  0.250049   \n",
       "2012-12-31 21:00:00+00:00             0.002189        0.023586  0.738772   \n",
       "\n",
       "                           monthly_std   slow_ma   fast_ma  \n",
       "2012-12-24 18:00:00+00:00     0.045969  3.273493  3.244071  \n",
       "2012-12-26 21:00:00+00:00     0.046027  3.272790  3.243254  \n",
       "2012-12-27 21:00:00+00:00     0.046247  3.272541  3.243342  \n",
       "2012-12-28 21:00:00+00:00     0.046176  3.272082  3.243009  \n",
       "2012-12-31 21:00:00+00:00     0.046485  3.272181  3.243781  "
      ]
     },
     "execution_count": 41,
     "metadata": {},
     "output_type": "execute_result"
    }
   ],
   "source": [
    "indicators = pd.DataFrame(equity_curve.copy())\n",
    "indicators.rename(columns={'returns': 'equity'}, inplace=True)\n",
    "indicators['return'] = indicators['equity'].pct_change()\n",
    "indicators['std'] = indicators['return'].rolling(PERIODS).std()\n",
    "indicators['mean_return'] = indicators['return'].rolling(PERIODS).mean()\n",
    "indicators['mean_monthly_return'] = (indicators['mean_return'] +1)**21 -1\n",
    "indicators['return_21_days'] = indicators['equity'].pct_change(21)\n",
    "indicators['zscore'] = (indicators['return_21_days'] - indicators['return_21_days'].rolling(PERIODS).mean()) \\\n",
    "                        / indicators['return_21_days'].rolling(PERIODS).std() \n",
    "indicators['monthly_std'] = indicators['std'] * np.sqrt(21)\n",
    "indicators['slow_ma'] = talib.EMA(indicators.equity.values, timeperiod=SLOW_MA)\n",
    "indicators['fast_ma'] = talib.EMA(indicators.equity.values, timeperiod=FAST_MA)\n",
    "indicators.tail()"
   ]
  },
  {
   "cell_type": "code",
   "execution_count": 42,
   "metadata": {
    "collapsed": true
   },
   "outputs": [],
   "source": [
    "in_the_market = True\n",
    "high_water = 0\n",
    "results = pd.Series()\n",
    "for day in range(1, days):\n",
    "    equity = equity_curve[:day]\n",
    "    ind = indicators.iloc[:day]\n",
    "    high_water = max(high_water, equity[-1])\n",
    "    cutoff = high_water - ((abs(indicators['mean_monthly_return'][day]) + 1.25 * indicators['monthly_std'][day]) * equity[-1])\n",
    "    if in_the_market:\n",
    "        # we're in the market, results = strategy results\n",
    "        results[equity_curve.index[day]] = indicators['return'][day]\n",
    "        if equity[-1] < cutoff and indicators['zscore'][day] > 2.5:\n",
    "            in_the_market = False\n",
    "            cutoff_date = equity_curve.index[day]\n",
    "            cutoff_price = equity[-1]\n",
    "    else:\n",
    "        results[equity_curve.index[day]] = 0\n",
    "        if equity_curve.index[day-BREAKOUT] >= cutoff_date:\n",
    "            #if equity[-1] >= equity.rolling(BREAKOUT).max()[-1]:\n",
    "            #if equity[-1] >= cutoff:\n",
    "            #if equity[-1] >= cutoff_price:\n",
    "            #if equity[-1] >= equity[-252]:\n",
    "            #if indicators['fast_ma'][day] > indicators['slow_ma'][day]:\n",
    "            if equity[-1] >= equity.rolling(BREAKOUT).max()[-1] and indicators['fast_ma'][day] > indicators['slow_ma'][day]:\n",
    "                in_the_market = True\n",
    "                high_water = 0"
   ]
  },
  {
   "cell_type": "code",
   "execution_count": 43,
   "metadata": {},
   "outputs": [
    {
     "data": {
      "text/plain": [
       "2007-01-04 21:00:00+00:00   -0.002145\n",
       "2007-01-05 21:00:00+00:00   -0.011553\n",
       "2007-01-08 21:00:00+00:00    0.005316\n",
       "2007-01-09 21:00:00+00:00    0.008945\n",
       "2007-01-10 21:00:00+00:00   -0.002563\n",
       "dtype: float64"
      ]
     },
     "execution_count": 43,
     "metadata": {},
     "output_type": "execute_result"
    }
   ],
   "source": [
    "results.head()"
   ]
  },
  {
   "cell_type": "code",
   "execution_count": 44,
   "metadata": {},
   "outputs": [
    {
     "data": {
      "image/png": "[encoded data removed]",
      "text/plain": [
       "<Figure size 1296x648 with 1 Axes>"
      ]
     },
     "metadata": {
      "needs_background": "light"
     },
     "output_type": "display_data"
    }
   ],
   "source": [
    "new_returns = pd.DataFrame({'original': indicators['return'], \n",
    "                           'new': results,\n",
    "                           })\n",
    "new_equity_path = (new_returns + 1).cumprod()\n",
    "new_equity_path.plot(figsize=(18,9), grid=True, xlim=(new_equity_path.index[0], new_equity_path.index[-1]));"
   ]
  },
  {
   "cell_type": "markdown",
   "metadata": {},
   "source": [
    "No optimization"
   ]
  },
  {
   "cell_type": "code",
   "execution_count": 45,
   "metadata": {},
   "outputs": [
    {
     "data": {
      "text/plain": [
       "Annual return          0.219377\n",
       "Cumulative returns     2.282038\n",
       "Annual volatility      0.208470\n",
       "Sharpe ratio           1.056089\n",
       "Calmar ratio           1.014580\n",
       "Stability              0.872539\n",
       "Max drawdown          -0.216224\n",
       "Omega ratio            1.210520\n",
       "Sortino ratio          1.533667\n",
       "Skew                  -0.158909\n",
       "Kurtosis               7.375355\n",
       "Tail ratio             1.036062\n",
       "Daily value at risk   -0.025391\n",
       "dtype: float64"
      ]
     },
     "execution_count": 45,
     "metadata": {},
     "output_type": "execute_result"
    }
   ],
   "source": [
    "perf_stats(returns)"
   ]
  },
  {
   "cell_type": "markdown",
   "metadata": {},
   "source": [
    "With optimization"
   ]
  },
  {
   "cell_type": "code",
   "execution_count": 46,
   "metadata": {},
   "outputs": [
    {
     "data": {
      "text/plain": [
       "Annual return          0.237516\n",
       "Cumulative returns     2.582646\n",
       "Annual volatility      0.205311\n",
       "Sharpe ratio           1.141142\n",
       "Calmar ratio           1.102395\n",
       "Stability              0.890914\n",
       "Max drawdown          -0.215455\n",
       "Omega ratio            1.239317\n",
       "Sortino ratio          1.660638\n",
       "Skew                  -0.171480\n",
       "Kurtosis               8.000678\n",
       "Tail ratio             1.036646\n",
       "Daily value at risk   -0.024937\n",
       "dtype: float64"
      ]
     },
     "execution_count": 46,
     "metadata": {},
     "output_type": "execute_result"
    }
   ],
   "source": [
    "perf_stats(results)"
   ]
  },
  {
   "cell_type": "code",
   "execution_count": null,
   "metadata": {
    "collapsed": true
   },
   "outputs": [],
   "source": []
  },
  {
   "cell_type": "code",
   "execution_count": null,
   "metadata": {
    "collapsed": true
   },
   "outputs": [],
   "source": []
  }
 ],
 "metadata": {
  "kernelspec": {
   "display_name": "zipline",
   "language": "python",
   "name": "zipline"
  },
  "language_info": {
   "codemirror_mode": {
    "name": "ipython",
    "version": 3
   },
   "file_extension": ".py",
   "mimetype": "text/x-python",
   "name": "python",
   "nbconvert_exporter": "python",
   "pygments_lexer": "ipython3",
   "version": "3.5.6"
  }
 },
 "nbformat": 4,
 "nbformat_minor": 2
}
