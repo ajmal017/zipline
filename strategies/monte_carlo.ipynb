{
 "cells": [
  {
   "cell_type": "code",
   "execution_count": 1,
   "metadata": {
    "collapsed": true
   },
   "outputs": [],
   "source": [
    "import warnings\n",
    "warnings.filterwarnings('ignore')\n",
    "%matplotlib inline\n",
    "import pandas as pd\n",
    "import numpy as np\n",
    "from pyfolio.timeseries import perf_stats"
   ]
  },
  {
   "cell_type": "markdown",
   "metadata": {},
   "source": [
    "read backtest results and generate daily returns dataframe"
   ]
  },
  {
   "cell_type": "code",
   "execution_count": 2,
   "metadata": {
    "collapsed": true
   },
   "outputs": [],
   "source": [
    "results = pd.read_pickle('results_strategy_2a_2008-2018.pickle')"
   ]
  },
  {
   "cell_type": "code",
   "execution_count": 3,
   "metadata": {},
   "outputs": [
    {
     "data": {
      "text/plain": [
       "2018-10-25 20:00:00+00:00   -0.001402\n",
       "2018-10-26 20:00:00+00:00   -0.035565\n",
       "2018-10-29 20:00:00+00:00    0.005456\n",
       "2018-10-30 20:00:00+00:00    0.009715\n",
       "2018-10-31 20:00:00+00:00    0.019382\n",
       "Name: returns, dtype: float64"
      ]
     },
     "execution_count": 3,
     "metadata": {},
     "output_type": "execute_result"
    }
   ],
   "source": [
    "returns = results.returns\n",
    "returns.tail()"
   ]
  },
  {
   "cell_type": "markdown",
   "metadata": {},
   "source": [
    "number of daily return data points:"
   ]
  },
  {
   "cell_type": "code",
   "execution_count": 4,
   "metadata": {},
   "outputs": [
    {
     "data": {
      "text/plain": [
       "2729"
      ]
     },
     "execution_count": 4,
     "metadata": {},
     "output_type": "execute_result"
    }
   ],
   "source": [
    "len(results)"
   ]
  },
  {
   "cell_type": "code",
   "execution_count": 5,
   "metadata": {
    "collapsed": true
   },
   "outputs": [],
   "source": [
    "returns.reset_index(drop=True, inplace=True)"
   ]
  },
  {
   "cell_type": "markdown",
   "metadata": {},
   "source": [
    "# Generate random paths by resampling from returns (with replacements)"
   ]
  },
  {
   "cell_type": "markdown",
   "metadata": {},
   "source": [
    "change this parameter to get different number of paths"
   ]
  },
  {
   "cell_type": "code",
   "execution_count": 6,
   "metadata": {
    "collapsed": true
   },
   "outputs": [],
   "source": [
    "number_of_paths = 250000"
   ]
  },
  {
   "cell_type": "code",
   "execution_count": 7,
   "metadata": {
    "collapsed": true
   },
   "outputs": [],
   "source": [
    "simulated_returns = pd.DataFrame(np.random.choice(returns, size=(len(returns), number_of_paths)))"
   ]
  },
  {
   "cell_type": "code",
   "execution_count": 8,
   "metadata": {},
   "outputs": [
    {
     "data": {
      "text/html": [
       "<div>\n",
       "<style scoped>\n",
       "    .dataframe tbody tr th:only-of-type {\n",
       "        vertical-align: middle;\n",
       "    }\n",
       "\n",
       "    .dataframe tbody tr th {\n",
       "        vertical-align: top;\n",
       "    }\n",
       "\n",
       "    .dataframe thead th {\n",
       "        text-align: right;\n",
       "    }\n",
       "</style>\n",
       "<table border=\"1\" class=\"dataframe\">\n",
       "  <thead>\n",
       "    <tr style=\"text-align: right;\">\n",
       "      <th></th>\n",
       "      <th>0</th>\n",
       "      <th>1</th>\n",
       "      <th>2</th>\n",
       "      <th>3</th>\n",
       "      <th>4</th>\n",
       "      <th>5</th>\n",
       "      <th>6</th>\n",
       "      <th>7</th>\n",
       "      <th>8</th>\n",
       "      <th>9</th>\n",
       "      <th>...</th>\n",
       "      <th>249990</th>\n",
       "      <th>249991</th>\n",
       "      <th>249992</th>\n",
       "      <th>249993</th>\n",
       "      <th>249994</th>\n",
       "      <th>249995</th>\n",
       "      <th>249996</th>\n",
       "      <th>249997</th>\n",
       "      <th>249998</th>\n",
       "      <th>249999</th>\n",
       "    </tr>\n",
       "  </thead>\n",
       "  <tbody>\n",
       "    <tr>\n",
       "      <th>0</th>\n",
       "      <td>-0.021174</td>\n",
       "      <td>-0.003840</td>\n",
       "      <td>-0.004094</td>\n",
       "      <td>-0.035828</td>\n",
       "      <td>-0.018282</td>\n",
       "      <td>0.000191</td>\n",
       "      <td>0.005265</td>\n",
       "      <td>-0.008937</td>\n",
       "      <td>0.002728</td>\n",
       "      <td>-0.005506</td>\n",
       "      <td>...</td>\n",
       "      <td>0.001213</td>\n",
       "      <td>0.019294</td>\n",
       "      <td>0.014150</td>\n",
       "      <td>-0.011076</td>\n",
       "      <td>0.006399</td>\n",
       "      <td>-0.006257</td>\n",
       "      <td>0.017729</td>\n",
       "      <td>-0.005353</td>\n",
       "      <td>0.011359</td>\n",
       "      <td>0.001288</td>\n",
       "    </tr>\n",
       "    <tr>\n",
       "      <th>1</th>\n",
       "      <td>0.013391</td>\n",
       "      <td>-0.003810</td>\n",
       "      <td>-0.014075</td>\n",
       "      <td>-0.014632</td>\n",
       "      <td>0.002684</td>\n",
       "      <td>0.016676</td>\n",
       "      <td>-0.001139</td>\n",
       "      <td>0.007931</td>\n",
       "      <td>0.011513</td>\n",
       "      <td>0.000720</td>\n",
       "      <td>...</td>\n",
       "      <td>0.006636</td>\n",
       "      <td>0.011465</td>\n",
       "      <td>0.023130</td>\n",
       "      <td>0.007638</td>\n",
       "      <td>0.025396</td>\n",
       "      <td>0.002332</td>\n",
       "      <td>0.019755</td>\n",
       "      <td>0.006517</td>\n",
       "      <td>0.016858</td>\n",
       "      <td>-0.006842</td>\n",
       "    </tr>\n",
       "    <tr>\n",
       "      <th>2</th>\n",
       "      <td>0.011221</td>\n",
       "      <td>0.007712</td>\n",
       "      <td>-0.013352</td>\n",
       "      <td>-0.014825</td>\n",
       "      <td>-0.001563</td>\n",
       "      <td>-0.017956</td>\n",
       "      <td>0.001822</td>\n",
       "      <td>0.003954</td>\n",
       "      <td>0.004968</td>\n",
       "      <td>-0.014223</td>\n",
       "      <td>...</td>\n",
       "      <td>0.012564</td>\n",
       "      <td>0.001380</td>\n",
       "      <td>0.034606</td>\n",
       "      <td>0.051810</td>\n",
       "      <td>-0.006599</td>\n",
       "      <td>-0.007623</td>\n",
       "      <td>-0.006806</td>\n",
       "      <td>0.001389</td>\n",
       "      <td>0.009959</td>\n",
       "      <td>-0.001130</td>\n",
       "    </tr>\n",
       "    <tr>\n",
       "      <th>3</th>\n",
       "      <td>0.012719</td>\n",
       "      <td>-0.011916</td>\n",
       "      <td>0.011153</td>\n",
       "      <td>-0.011421</td>\n",
       "      <td>-0.018787</td>\n",
       "      <td>0.022207</td>\n",
       "      <td>0.001318</td>\n",
       "      <td>0.004363</td>\n",
       "      <td>0.015684</td>\n",
       "      <td>0.003557</td>\n",
       "      <td>...</td>\n",
       "      <td>0.032692</td>\n",
       "      <td>0.007094</td>\n",
       "      <td>-0.011596</td>\n",
       "      <td>-0.002497</td>\n",
       "      <td>-0.006460</td>\n",
       "      <td>-0.012975</td>\n",
       "      <td>0.001702</td>\n",
       "      <td>-0.006712</td>\n",
       "      <td>-0.024593</td>\n",
       "      <td>-0.010679</td>\n",
       "    </tr>\n",
       "    <tr>\n",
       "      <th>4</th>\n",
       "      <td>-0.003684</td>\n",
       "      <td>0.006517</td>\n",
       "      <td>-0.008934</td>\n",
       "      <td>-0.013161</td>\n",
       "      <td>-0.020101</td>\n",
       "      <td>0.010118</td>\n",
       "      <td>0.029540</td>\n",
       "      <td>-0.000159</td>\n",
       "      <td>0.010018</td>\n",
       "      <td>-0.003895</td>\n",
       "      <td>...</td>\n",
       "      <td>-0.005075</td>\n",
       "      <td>-0.012167</td>\n",
       "      <td>0.019755</td>\n",
       "      <td>-0.004533</td>\n",
       "      <td>-0.004733</td>\n",
       "      <td>0.028424</td>\n",
       "      <td>-0.017279</td>\n",
       "      <td>0.003558</td>\n",
       "      <td>0.001962</td>\n",
       "      <td>0.017738</td>\n",
       "    </tr>\n",
       "  </tbody>\n",
       "</table>\n",
       "<p>5 rows × 250000 columns</p>\n",
       "</div>"
      ],
      "text/plain": [
       "     0         1         2         3         4         5         6       \\\n",
       "0 -0.021174 -0.003840 -0.004094 -0.035828 -0.018282  0.000191  0.005265   \n",
       "1  0.013391 -0.003810 -0.014075 -0.014632  0.002684  0.016676 -0.001139   \n",
       "2  0.011221  0.007712 -0.013352 -0.014825 -0.001563 -0.017956  0.001822   \n",
       "3  0.012719 -0.011916  0.011153 -0.011421 -0.018787  0.022207  0.001318   \n",
       "4 -0.003684  0.006517 -0.008934 -0.013161 -0.020101  0.010118  0.029540   \n",
       "\n",
       "     7         8         9         ...       249990    249991    249992  \\\n",
       "0 -0.008937  0.002728 -0.005506    ...     0.001213  0.019294  0.014150   \n",
       "1  0.007931  0.011513  0.000720    ...     0.006636  0.011465  0.023130   \n",
       "2  0.003954  0.004968 -0.014223    ...     0.012564  0.001380  0.034606   \n",
       "3  0.004363  0.015684  0.003557    ...     0.032692  0.007094 -0.011596   \n",
       "4 -0.000159  0.010018 -0.003895    ...    -0.005075 -0.012167  0.019755   \n",
       "\n",
       "     249993    249994    249995    249996    249997    249998    249999  \n",
       "0 -0.011076  0.006399 -0.006257  0.017729 -0.005353  0.011359  0.001288  \n",
       "1  0.007638  0.025396  0.002332  0.019755  0.006517  0.016858 -0.006842  \n",
       "2  0.051810 -0.006599 -0.007623 -0.006806  0.001389  0.009959 -0.001130  \n",
       "3 -0.002497 -0.006460 -0.012975  0.001702 -0.006712 -0.024593 -0.010679  \n",
       "4 -0.004533 -0.004733  0.028424 -0.017279  0.003558  0.001962  0.017738  \n",
       "\n",
       "[5 rows x 250000 columns]"
      ]
     },
     "execution_count": 8,
     "metadata": {},
     "output_type": "execute_result"
    }
   ],
   "source": [
    "simulated_returns.head()"
   ]
  },
  {
   "cell_type": "markdown",
   "metadata": {},
   "source": [
    "# Quick visual on original vs. simulated distribution\n"
   ]
  },
  {
   "cell_type": "markdown",
   "metadata": {},
   "source": [
    "\n",
    "actual distribution"
   ]
  },
  {
   "cell_type": "code",
   "execution_count": 9,
   "metadata": {},
   "outputs": [
    {
     "data": {
      "image/png": "[encoded data removed]",
      "text/plain": [
       "<Figure size 1008x216 with 1 Axes>"
      ]
     },
     "metadata": {
      "needs_background": "light"
     },
     "output_type": "display_data"
    }
   ],
   "source": [
    "returns.hist(bins=50, figsize=(14,3));"
   ]
  },
  {
   "cell_type": "markdown",
   "metadata": {},
   "source": [
    "simulated distribution"
   ]
  },
  {
   "cell_type": "code",
   "execution_count": 19,
   "metadata": {},
   "outputs": [
    {
     "data": {
      "image/png": "[encoded data removed]",
      "text/plain": [
       "<Figure size 1008x216 with 1 Axes>"
      ]
     },
     "metadata": {
      "needs_background": "light"
     },
     "output_type": "display_data"
    }
   ],
   "source": [
    "pd.Series(simulated_returns.values.flatten()).hist(bins=50, figsize=(14,3));"
   ]
  },
  {
   "cell_type": "markdown",
   "metadata": {},
   "source": [
    "# Stats for actual returns"
   ]
  },
  {
   "cell_type": "code",
   "execution_count": 20,
   "metadata": {},
   "outputs": [
    {
     "data": {
      "text/plain": [
       "Annual return          0.186506\n",
       "Cumulative returns     5.372309\n",
       "Annual volatility      0.249071\n",
       "Sharpe ratio           0.811335\n",
       "Calmar ratio           0.464817\n",
       "Stability              0.859923\n",
       "Max drawdown          -0.401247\n",
       "Omega ratio            1.162186\n",
       "Sortino ratio          1.192251\n",
       "Skew                   0.044925\n",
       "Kurtosis               8.306355\n",
       "Tail ratio             1.046774\n",
       "Daily value at risk   -0.030578\n",
       "dtype: float64"
      ]
     },
     "execution_count": 20,
     "metadata": {},
     "output_type": "execute_result"
    }
   ],
   "source": [
    "a=perf_stats(returns)\n",
    "a"
   ]
  },
  {
   "cell_type": "markdown",
   "metadata": {},
   "source": [
    "# Stats for simulated returns (median, max, min)"
   ]
  },
  {
   "cell_type": "code",
   "execution_count": 21,
   "metadata": {
    "collapsed": true
   },
   "outputs": [],
   "source": [
    "ratios_for_paths = pd.DataFrame([perf_stats(x[1]) for x in simulated_returns.T.iterrows()])"
   ]
  },
  {
   "cell_type": "markdown",
   "metadata": {},
   "source": [
    "median"
   ]
  },
  {
   "cell_type": "code",
   "execution_count": 22,
   "metadata": {},
   "outputs": [
    {
     "data": {
      "text/plain": [
       "Annual return          0.186516\n",
       "Cumulative returns     5.372884\n",
       "Annual volatility      0.248745\n",
       "Sharpe ratio           0.812387\n",
       "Calmar ratio           0.469454\n",
       "Stability              0.878631\n",
       "Max drawdown          -0.396087\n",
       "Omega ratio            1.162245\n",
       "Sortino ratio          1.194399\n",
       "Skew                   0.051489\n",
       "Kurtosis               8.128662\n",
       "Tail ratio             1.045732\n",
       "Daily value at risk   -0.030537\n",
       "dtype: float64"
      ]
     },
     "execution_count": 22,
     "metadata": {},
     "output_type": "execute_result"
    }
   ],
   "source": [
    "ratios_for_paths.median().T"
   ]
  },
  {
   "cell_type": "markdown",
   "metadata": {},
   "source": [
    "max"
   ]
  },
  {
   "cell_type": "code",
   "execution_count": 23,
   "metadata": {},
   "outputs": [
    {
     "data": {
      "text/plain": [
       "Annual return            0.695029\n",
       "Cumulative returns     302.279912\n",
       "Annual volatility        0.284963\n",
       "Sharpe ratio             2.246184\n",
       "Calmar ratio             3.814264\n",
       "Stability                0.994660\n",
       "Max drawdown            -0.159260\n",
       "Omega ratio              1.509266\n",
       "Sortino ratio            3.710838\n",
       "Skew                     1.473334\n",
       "Kurtosis                16.199432\n",
       "Tail ratio               1.342799\n",
       "Daily value at risk     -0.026418\n",
       "dtype: float64"
      ]
     },
     "execution_count": 23,
     "metadata": {},
     "output_type": "execute_result"
    }
   ],
   "source": [
    "ratios_for_paths.max().T"
   ]
  },
  {
   "cell_type": "markdown",
   "metadata": {},
   "source": [
    "min"
   ]
  },
  {
   "cell_type": "code",
   "execution_count": 24,
   "metadata": {},
   "outputs": [
    {
     "data": {
      "text/plain": [
       "Annual return         -1.351623e-01\n",
       "Cumulative returns    -7.924887e-01\n",
       "Annual volatility      2.168542e-01\n",
       "Sharpe ratio          -4.453680e-01\n",
       "Calmar ratio          -1.644516e-01\n",
       "Stability              6.414362e-09\n",
       "Max drawdown          -8.949605e-01\n",
       "Omega ratio            9.205690e-01\n",
       "Sortino ratio         -5.786823e-01\n",
       "Skew                  -1.493246e+00\n",
       "Kurtosis               2.276295e+00\n",
       "Tail ratio             7.966363e-01\n",
       "Daily value at risk   -3.542608e-02\n",
       "dtype: float64"
      ]
     },
     "execution_count": 24,
     "metadata": {},
     "output_type": "execute_result"
    }
   ],
   "source": [
    "ratios_for_paths.min().T"
   ]
  },
  {
   "cell_type": "markdown",
   "metadata": {},
   "source": [
    "# Probability that max drawdown less than x"
   ]
  },
  {
   "cell_type": "code",
   "execution_count": 25,
   "metadata": {},
   "outputs": [
    {
     "data": {
      "text/plain": [
       "0.484532"
      ]
     },
     "execution_count": 25,
     "metadata": {},
     "output_type": "execute_result"
    }
   ],
   "source": [
    "x = -.4\n",
    "len(ratios_for_paths[ratios_for_paths['Max drawdown'] < x]) / number_of_paths"
   ]
  },
  {
   "cell_type": "markdown",
   "metadata": {},
   "source": [
    "# Probability that Sharpe lower than y"
   ]
  },
  {
   "cell_type": "code",
   "execution_count": 26,
   "metadata": {},
   "outputs": [
    {
     "data": {
      "text/plain": [
       "0.242748"
      ]
     },
     "execution_count": 26,
     "metadata": {},
     "output_type": "execute_result"
    }
   ],
   "source": [
    "y = .6\n",
    "len(ratios_for_paths[ratios_for_paths['Sharpe ratio'] < .6]) / number_of_paths"
   ]
  },
  {
   "cell_type": "markdown",
   "metadata": {},
   "source": [
    "# Probability that annual return less than z"
   ]
  },
  {
   "cell_type": "code",
   "execution_count": 27,
   "metadata": {},
   "outputs": [
    {
     "data": {
      "text/plain": [
       "0.053924"
      ]
     },
     "execution_count": 27,
     "metadata": {},
     "output_type": "execute_result"
    }
   ],
   "source": [
    "z = .05\n",
    "len(ratios_for_paths[ratios_for_paths['Annual return'] < z]) / number_of_paths"
   ]
  },
  {
   "cell_type": "markdown",
   "metadata": {},
   "source": [
    "# Some distributions"
   ]
  },
  {
   "cell_type": "markdown",
   "metadata": {},
   "source": [
    "Max drawdown"
   ]
  },
  {
   "cell_type": "code",
   "execution_count": 28,
   "metadata": {},
   "outputs": [
    {
     "data": {
      "image/png": "[encoded data removed]",
      "text/plain": [
       "<Figure size 1008x216 with 1 Axes>"
      ]
     },
     "metadata": {
      "needs_background": "light"
     },
     "output_type": "display_data"
    }
   ],
   "source": [
    "ratios_for_paths['Max drawdown'].hist(bins=50, figsize=(14,3));"
   ]
  },
  {
   "cell_type": "markdown",
   "metadata": {},
   "source": [
    "Sharpe"
   ]
  },
  {
   "cell_type": "code",
   "execution_count": 29,
   "metadata": {},
   "outputs": [
    {
     "data": {
      "image/png": "[encoded data removed]",
      "text/plain": [
       "<Figure size 1008x216 with 1 Axes>"
      ]
     },
     "metadata": {
      "needs_background": "light"
     },
     "output_type": "display_data"
    }
   ],
   "source": [
    "ratios_for_paths['Sharpe ratio'].hist(bins=50, figsize=(14,3));"
   ]
  },
  {
   "cell_type": "markdown",
   "metadata": {},
   "source": [
    "Annual return"
   ]
  },
  {
   "cell_type": "code",
   "execution_count": 30,
   "metadata": {},
   "outputs": [
    {
     "data": {
      "image/png": "[encoded data removed]",
      "text/plain": [
       "<Figure size 1008x216 with 1 Axes>"
      ]
     },
     "metadata": {
      "needs_background": "light"
     },
     "output_type": "display_data"
    }
   ],
   "source": [
    "ratios_for_paths['Annual return'].hist(bins=50, figsize=(14,3));"
   ]
  },
  {
   "cell_type": "code",
   "execution_count": null,
   "metadata": {
    "collapsed": true
   },
   "outputs": [],
   "source": []
  }
 ],
 "metadata": {
  "kernelspec": {
   "display_name": "zipline",
   "language": "python",
   "name": "zipline"
  },
  "language_info": {
   "codemirror_mode": {
    "name": "ipython",
    "version": 3
   },
   "file_extension": ".py",
   "mimetype": "text/x-python",
   "name": "python",
   "nbconvert_exporter": "python",
   "pygments_lexer": "ipython3",
   "version": "3.5.6"
  }
 },
 "nbformat": 4,
 "nbformat_minor": 2
}
