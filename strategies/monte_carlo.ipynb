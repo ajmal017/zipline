{
 "cells": [
  {
   "cell_type": "code",
   "execution_count": 1,
   "metadata": {
    "collapsed": true
   },
   "outputs": [],
   "source": [
    "import warnings\n",
    "warnings.filterwarnings('ignore')\n",
    "%matplotlib inline\n",
    "import pandas as pd\n",
    "import numpy as np\n",
    "import matplotlib.pyplot as plt\n",
    "from pyfolio.timeseries import perf_stats"
   ]
  },
  {
   "cell_type": "markdown",
   "metadata": {},
   "source": [
    "read backtest results and generate daily returns dataframe"
   ]
  },
  {
   "cell_type": "code",
   "execution_count": 2,
   "metadata": {
    "collapsed": true
   },
   "outputs": [],
   "source": [
    "results = pd.read_pickle('results/maximize_return_2007-2012.pickle')"
   ]
  },
  {
   "cell_type": "code",
   "execution_count": 3,
   "metadata": {},
   "outputs": [
    {
     "data": {
      "text/plain": [
       "2012-12-24 18:00:00+00:00    0.009366\n",
       "2012-12-26 21:00:00+00:00    0.007579\n",
       "2012-12-27 21:00:00+00:00    0.013999\n",
       "2012-12-28 21:00:00+00:00   -0.006528\n",
       "2012-12-31 21:00:00+00:00    0.017216\n",
       "Name: returns, dtype: float64"
      ]
     },
     "execution_count": 3,
     "metadata": {},
     "output_type": "execute_result"
    }
   ],
   "source": [
    "returns = results.returns\n",
    "returns.tail()"
   ]
  },
  {
   "cell_type": "markdown",
   "metadata": {},
   "source": [
    "number of daily return data points:"
   ]
  },
  {
   "cell_type": "code",
   "execution_count": 4,
   "metadata": {},
   "outputs": [
    {
     "data": {
      "text/plain": [
       "1510"
      ]
     },
     "execution_count": 4,
     "metadata": {},
     "output_type": "execute_result"
    }
   ],
   "source": [
    "len(results)"
   ]
  },
  {
   "cell_type": "code",
   "execution_count": 5,
   "metadata": {
    "collapsed": true
   },
   "outputs": [],
   "source": [
    "returns.reset_index(drop=True, inplace=True)"
   ]
  },
  {
   "cell_type": "markdown",
   "metadata": {},
   "source": [
    "# Generate random paths by resampling from returns (with replacements)"
   ]
  },
  {
   "cell_type": "markdown",
   "metadata": {},
   "source": [
    "change this parameter to get different number of paths"
   ]
  },
  {
   "cell_type": "code",
   "execution_count": 6,
   "metadata": {
    "collapsed": true
   },
   "outputs": [],
   "source": [
    "number_of_paths = 250000"
   ]
  },
  {
   "cell_type": "code",
   "execution_count": 7,
   "metadata": {
    "collapsed": true
   },
   "outputs": [],
   "source": [
    "simulated_returns = pd.DataFrame(np.random.choice(returns, size=(len(returns), number_of_paths)))"
   ]
  },
  {
   "cell_type": "code",
   "execution_count": 8,
   "metadata": {},
   "outputs": [
    {
     "data": {
      "text/html": [
       "<div>\n",
       "<style scoped>\n",
       "    .dataframe tbody tr th:only-of-type {\n",
       "        vertical-align: middle;\n",
       "    }\n",
       "\n",
       "    .dataframe tbody tr th {\n",
       "        vertical-align: top;\n",
       "    }\n",
       "\n",
       "    .dataframe thead th {\n",
       "        text-align: right;\n",
       "    }\n",
       "</style>\n",
       "<table border=\"1\" class=\"dataframe\">\n",
       "  <thead>\n",
       "    <tr style=\"text-align: right;\">\n",
       "      <th></th>\n",
       "      <th>0</th>\n",
       "      <th>1</th>\n",
       "      <th>2</th>\n",
       "      <th>3</th>\n",
       "      <th>4</th>\n",
       "      <th>5</th>\n",
       "      <th>6</th>\n",
       "      <th>7</th>\n",
       "      <th>8</th>\n",
       "      <th>9</th>\n",
       "      <th>...</th>\n",
       "      <th>249990</th>\n",
       "      <th>249991</th>\n",
       "      <th>249992</th>\n",
       "      <th>249993</th>\n",
       "      <th>249994</th>\n",
       "      <th>249995</th>\n",
       "      <th>249996</th>\n",
       "      <th>249997</th>\n",
       "      <th>249998</th>\n",
       "      <th>249999</th>\n",
       "    </tr>\n",
       "  </thead>\n",
       "  <tbody>\n",
       "    <tr>\n",
       "      <th>0</th>\n",
       "      <td>-0.005215</td>\n",
       "      <td>0.007440</td>\n",
       "      <td>0.003215</td>\n",
       "      <td>-0.003561</td>\n",
       "      <td>-0.001166</td>\n",
       "      <td>0.000452</td>\n",
       "      <td>0.019012</td>\n",
       "      <td>-0.004917</td>\n",
       "      <td>-0.003763</td>\n",
       "      <td>0.000433</td>\n",
       "      <td>...</td>\n",
       "      <td>-0.002166</td>\n",
       "      <td>0.004638</td>\n",
       "      <td>-0.023072</td>\n",
       "      <td>0.008597</td>\n",
       "      <td>-0.004490</td>\n",
       "      <td>0.006431</td>\n",
       "      <td>0.002721</td>\n",
       "      <td>-0.024335</td>\n",
       "      <td>0.015621</td>\n",
       "      <td>0.001244</td>\n",
       "    </tr>\n",
       "    <tr>\n",
       "      <th>1</th>\n",
       "      <td>-0.007951</td>\n",
       "      <td>0.031780</td>\n",
       "      <td>-0.005106</td>\n",
       "      <td>0.003253</td>\n",
       "      <td>0.000002</td>\n",
       "      <td>-0.007931</td>\n",
       "      <td>0.001815</td>\n",
       "      <td>-0.015408</td>\n",
       "      <td>-0.004850</td>\n",
       "      <td>-0.020234</td>\n",
       "      <td>...</td>\n",
       "      <td>0.018662</td>\n",
       "      <td>0.009116</td>\n",
       "      <td>0.003571</td>\n",
       "      <td>-0.001040</td>\n",
       "      <td>-0.005082</td>\n",
       "      <td>0.016350</td>\n",
       "      <td>-0.007832</td>\n",
       "      <td>0.006435</td>\n",
       "      <td>0.000324</td>\n",
       "      <td>0.003694</td>\n",
       "    </tr>\n",
       "    <tr>\n",
       "      <th>2</th>\n",
       "      <td>0.006928</td>\n",
       "      <td>0.027278</td>\n",
       "      <td>-0.015321</td>\n",
       "      <td>-0.011618</td>\n",
       "      <td>-0.001192</td>\n",
       "      <td>0.006421</td>\n",
       "      <td>-0.002094</td>\n",
       "      <td>0.013945</td>\n",
       "      <td>-0.010070</td>\n",
       "      <td>-0.008983</td>\n",
       "      <td>...</td>\n",
       "      <td>-0.003954</td>\n",
       "      <td>-0.007620</td>\n",
       "      <td>0.000452</td>\n",
       "      <td>-0.006348</td>\n",
       "      <td>0.028486</td>\n",
       "      <td>-0.003663</td>\n",
       "      <td>-0.011741</td>\n",
       "      <td>-0.012812</td>\n",
       "      <td>0.008597</td>\n",
       "      <td>0.018795</td>\n",
       "    </tr>\n",
       "    <tr>\n",
       "      <th>3</th>\n",
       "      <td>-0.011559</td>\n",
       "      <td>-0.003763</td>\n",
       "      <td>-0.002413</td>\n",
       "      <td>0.006782</td>\n",
       "      <td>0.000384</td>\n",
       "      <td>-0.005575</td>\n",
       "      <td>-0.002390</td>\n",
       "      <td>0.008935</td>\n",
       "      <td>0.001230</td>\n",
       "      <td>-0.003939</td>\n",
       "      <td>...</td>\n",
       "      <td>-0.001192</td>\n",
       "      <td>0.005557</td>\n",
       "      <td>0.014860</td>\n",
       "      <td>0.006350</td>\n",
       "      <td>-0.007167</td>\n",
       "      <td>-0.004712</td>\n",
       "      <td>0.023000</td>\n",
       "      <td>0.001410</td>\n",
       "      <td>-0.000435</td>\n",
       "      <td>-0.007160</td>\n",
       "    </tr>\n",
       "    <tr>\n",
       "      <th>4</th>\n",
       "      <td>0.003775</td>\n",
       "      <td>-0.009930</td>\n",
       "      <td>-0.001419</td>\n",
       "      <td>0.006265</td>\n",
       "      <td>0.002887</td>\n",
       "      <td>-0.001654</td>\n",
       "      <td>-0.005793</td>\n",
       "      <td>-0.004036</td>\n",
       "      <td>0.021076</td>\n",
       "      <td>0.010924</td>\n",
       "      <td>...</td>\n",
       "      <td>-0.015195</td>\n",
       "      <td>0.004970</td>\n",
       "      <td>-0.005106</td>\n",
       "      <td>-0.010139</td>\n",
       "      <td>0.008597</td>\n",
       "      <td>0.024029</td>\n",
       "      <td>-0.003486</td>\n",
       "      <td>0.006218</td>\n",
       "      <td>-0.013321</td>\n",
       "      <td>-0.005897</td>\n",
       "    </tr>\n",
       "  </tbody>\n",
       "</table>\n",
       "<p>5 rows × 250000 columns</p>\n",
       "</div>"
      ],
      "text/plain": [
       "     0         1         2         3         4         5         6       \\\n",
       "0 -0.005215  0.007440  0.003215 -0.003561 -0.001166  0.000452  0.019012   \n",
       "1 -0.007951  0.031780 -0.005106  0.003253  0.000002 -0.007931  0.001815   \n",
       "2  0.006928  0.027278 -0.015321 -0.011618 -0.001192  0.006421 -0.002094   \n",
       "3 -0.011559 -0.003763 -0.002413  0.006782  0.000384 -0.005575 -0.002390   \n",
       "4  0.003775 -0.009930 -0.001419  0.006265  0.002887 -0.001654 -0.005793   \n",
       "\n",
       "     7         8         9         ...       249990    249991    249992  \\\n",
       "0 -0.004917 -0.003763  0.000433    ...    -0.002166  0.004638 -0.023072   \n",
       "1 -0.015408 -0.004850 -0.020234    ...     0.018662  0.009116  0.003571   \n",
       "2  0.013945 -0.010070 -0.008983    ...    -0.003954 -0.007620  0.000452   \n",
       "3  0.008935  0.001230 -0.003939    ...    -0.001192  0.005557  0.014860   \n",
       "4 -0.004036  0.021076  0.010924    ...    -0.015195  0.004970 -0.005106   \n",
       "\n",
       "     249993    249994    249995    249996    249997    249998    249999  \n",
       "0  0.008597 -0.004490  0.006431  0.002721 -0.024335  0.015621  0.001244  \n",
       "1 -0.001040 -0.005082  0.016350 -0.007832  0.006435  0.000324  0.003694  \n",
       "2 -0.006348  0.028486 -0.003663 -0.011741 -0.012812  0.008597  0.018795  \n",
       "3  0.006350 -0.007167 -0.004712  0.023000  0.001410 -0.000435 -0.007160  \n",
       "4 -0.010139  0.008597  0.024029 -0.003486  0.006218 -0.013321 -0.005897  \n",
       "\n",
       "[5 rows x 250000 columns]"
      ]
     },
     "execution_count": 8,
     "metadata": {},
     "output_type": "execute_result"
    }
   ],
   "source": [
    "simulated_returns.head()"
   ]
  },
  {
   "cell_type": "markdown",
   "metadata": {},
   "source": [
    "# Quick visual on actual vs. simulated distribution"
   ]
  },
  {
   "cell_type": "code",
   "execution_count": 9,
   "metadata": {},
   "outputs": [
    {
     "data": {
      "image/png": "[encoded data removed]",
      "text/plain": [
       "<Figure size 1296x216 with 2 Axes>"
      ]
     },
     "metadata": {
      "needs_background": "light"
     },
     "output_type": "display_data"
    }
   ],
   "source": [
    "fig = plt.figure(figsize=(18,3))\n",
    "ax1 = fig.add_subplot(121)\n",
    "ax2 = fig.add_subplot(122)\n",
    "ax1.hist(returns, bins=50, density=True)\n",
    "ax2.hist(simulated_returns.values.flatten(), bins=50, density=True)\n",
    "ax1.set_title('Actual')\n",
    "ax2.set_title('Simulated')\n",
    "plt.show();"
   ]
  },
  {
   "cell_type": "markdown",
   "metadata": {},
   "source": [
    "# Stats for actual returns"
   ]
  },
  {
   "cell_type": "code",
   "execution_count": 10,
   "metadata": {},
   "outputs": [
    {
     "data": {
      "text/plain": [
       "Annual return          0.219377\n",
       "Cumulative returns     2.282038\n",
       "Annual volatility      0.208470\n",
       "Sharpe ratio           1.056089\n",
       "Calmar ratio           1.014580\n",
       "Stability              0.872539\n",
       "Max drawdown          -0.216224\n",
       "Omega ratio            1.210520\n",
       "Sortino ratio          1.533667\n",
       "Skew                  -0.158909\n",
       "Kurtosis               7.375355\n",
       "Tail ratio             1.036062\n",
       "Daily value at risk   -0.025391\n",
       "dtype: float64"
      ]
     },
     "execution_count": 10,
     "metadata": {},
     "output_type": "execute_result"
    }
   ],
   "source": [
    "a=perf_stats(returns)\n",
    "a"
   ]
  },
  {
   "cell_type": "markdown",
   "metadata": {},
   "source": [
    "# Stats for simulated returns (median, max, min)"
   ]
  },
  {
   "cell_type": "code",
   "execution_count": 11,
   "metadata": {
    "collapsed": true
   },
   "outputs": [],
   "source": [
    "ratios_for_paths = pd.DataFrame([perf_stats(x[1]) for x in simulated_returns.T.iterrows()])"
   ]
  },
  {
   "cell_type": "markdown",
   "metadata": {},
   "source": [
    "median"
   ]
  },
  {
   "cell_type": "code",
   "execution_count": 12,
   "metadata": {},
   "outputs": [
    {
     "data": {
      "text/plain": [
       "Annual return          0.219966\n",
       "Cumulative returns     2.291562\n",
       "Annual volatility      0.207966\n",
       "Sharpe ratio           1.060387\n",
       "Calmar ratio           0.824654\n",
       "Stability              0.885127\n",
       "Max drawdown          -0.265334\n",
       "Omega ratio            1.211112\n",
       "Sortino ratio          1.540124\n",
       "Skew                  -0.179508\n",
       "Kurtosis               7.057032\n",
       "Tail ratio             1.051870\n",
       "Daily value at risk   -0.025330\n",
       "dtype: float64"
      ]
     },
     "execution_count": 12,
     "metadata": {},
     "output_type": "execute_result"
    }
   ],
   "source": [
    "ratios_for_paths.median().T"
   ]
  },
  {
   "cell_type": "markdown",
   "metadata": {},
   "source": [
    "max"
   ]
  },
  {
   "cell_type": "code",
   "execution_count": 13,
   "metadata": {},
   "outputs": [
    {
     "data": {
      "text/plain": [
       "Annual return           0.753661\n",
       "Cumulative returns     27.955944\n",
       "Annual volatility       0.246625\n",
       "Sharpe ratio            2.828095\n",
       "Calmar ratio            6.660052\n",
       "Stability               0.994400\n",
       "Max drawdown           -0.096741\n",
       "Omega ratio             1.674596\n",
       "Sortino ratio           4.724264\n",
       "Skew                    1.796320\n",
       "Kurtosis               16.500395\n",
       "Tail ratio              1.461571\n",
       "Daily value at risk    -0.021130\n",
       "dtype: float64"
      ]
     },
     "execution_count": 13,
     "metadata": {},
     "output_type": "execute_result"
    }
   ],
   "source": [
    "ratios_for_paths.max().T"
   ]
  },
  {
   "cell_type": "markdown",
   "metadata": {},
   "source": [
    "min"
   ]
  },
  {
   "cell_type": "code",
   "execution_count": 14,
   "metadata": {},
   "outputs": [
    {
     "data": {
      "text/plain": [
       "Annual return         -1.830129e-01\n",
       "Cumulative returns    -7.021568e-01\n",
       "Annual volatility      1.786342e-01\n",
       "Sharpe ratio          -8.419713e-01\n",
       "Calmar ratio          -2.576715e-01\n",
       "Stability              1.819809e-08\n",
       "Max drawdown          -7.842854e-01\n",
       "Omega ratio            8.597276e-01\n",
       "Sortino ratio         -1.062492e+00\n",
       "Skew                  -1.763491e+00\n",
       "Kurtosis               1.363358e+00\n",
       "Tail ratio             7.976939e-01\n",
       "Daily value at risk   -3.056104e-02\n",
       "dtype: float64"
      ]
     },
     "execution_count": 14,
     "metadata": {},
     "output_type": "execute_result"
    }
   ],
   "source": [
    "ratios_for_paths.min().T"
   ]
  },
  {
   "cell_type": "markdown",
   "metadata": {},
   "source": [
    "# Probability that max drawdown less than x"
   ]
  },
  {
   "cell_type": "code",
   "execution_count": 35,
   "metadata": {},
   "outputs": [
    {
     "data": {
      "text/plain": [
       "0.076788"
      ]
     },
     "execution_count": 35,
     "metadata": {},
     "output_type": "execute_result"
    }
   ],
   "source": [
    "x = -.4\n",
    "len(ratios_for_paths[ratios_for_paths['Max drawdown'] < x]) / number_of_paths"
   ]
  },
  {
   "cell_type": "markdown",
   "metadata": {},
   "source": [
    "# Probability that Sharpe lower than y"
   ]
  },
  {
   "cell_type": "code",
   "execution_count": 37,
   "metadata": {},
   "outputs": [
    {
     "data": {
      "text/plain": [
       "0.087228"
      ]
     },
     "execution_count": 37,
     "metadata": {},
     "output_type": "execute_result"
    }
   ],
   "source": [
    "y = .5\n",
    "len(ratios_for_paths[ratios_for_paths['Sharpe ratio'] < y]) / number_of_paths"
   ]
  },
  {
   "cell_type": "markdown",
   "metadata": {},
   "source": [
    "# Probability that annual return less than z"
   ]
  },
  {
   "cell_type": "code",
   "execution_count": 39,
   "metadata": {},
   "outputs": [
    {
     "data": {
      "text/plain": [
       "0.077276"
      ]
     },
     "execution_count": 39,
     "metadata": {},
     "output_type": "execute_result"
    }
   ],
   "source": [
    "z = .08\n",
    "len(ratios_for_paths[ratios_for_paths['Annual return'] < z]) / number_of_paths"
   ]
  },
  {
   "cell_type": "markdown",
   "metadata": {},
   "source": [
    "# Some distributions"
   ]
  },
  {
   "cell_type": "markdown",
   "metadata": {},
   "source": [
    "Max drawdown"
   ]
  },
  {
   "cell_type": "code",
   "execution_count": 18,
   "metadata": {},
   "outputs": [
    {
     "data": {
      "image/png": "[encoded data removed]",
      "text/plain": [
       "<Figure size 1008x216 with 1 Axes>"
      ]
     },
     "metadata": {
      "needs_background": "light"
     },
     "output_type": "display_data"
    }
   ],
   "source": [
    "ratios_for_paths['Max drawdown'].hist(bins=50, figsize=(14,3), density=True);"
   ]
  },
  {
   "cell_type": "markdown",
   "metadata": {},
   "source": [
    "Sharpe"
   ]
  },
  {
   "cell_type": "code",
   "execution_count": 19,
   "metadata": {},
   "outputs": [
    {
     "data": {
      "image/png": "[encoded data removed]",
      "text/plain": [
       "<Figure size 1008x216 with 1 Axes>"
      ]
     },
     "metadata": {
      "needs_background": "light"
     },
     "output_type": "display_data"
    }
   ],
   "source": [
    "ratios_for_paths['Sharpe ratio'].hist(bins=50, figsize=(14,3), density=True);"
   ]
  },
  {
   "cell_type": "markdown",
   "metadata": {},
   "source": [
    "Annual return"
   ]
  },
  {
   "cell_type": "code",
   "execution_count": 20,
   "metadata": {},
   "outputs": [
    {
     "data": {
      "image/png": "[encoded data removed]",
      "text/plain": [
       "<Figure size 1008x216 with 1 Axes>"
      ]
     },
     "metadata": {
      "needs_background": "light"
     },
     "output_type": "display_data"
    }
   ],
   "source": [
    "ratios_for_paths['Annual return'].hist(bins=50, figsize=(14,3), density=True);"
   ]
  },
  {
   "cell_type": "code",
   "execution_count": null,
   "metadata": {
    "collapsed": true
   },
   "outputs": [],
   "source": []
  }
 ],
 "metadata": {
  "kernelspec": {
   "display_name": "zipline",
   "language": "python",
   "name": "zipline"
  },
  "language_info": {
   "codemirror_mode": {
    "name": "ipython",
    "version": 3
   },
   "file_extension": ".py",
   "mimetype": "text/x-python",
   "name": "python",
   "nbconvert_exporter": "python",
   "pygments_lexer": "ipython3",
   "version": "3.5.6"
  }
 },
 "nbformat": 4,
 "nbformat_minor": 2
}
