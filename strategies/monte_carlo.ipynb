{
 "cells": [
  {
   "cell_type": "code",
   "execution_count": 1,
   "metadata": {},
   "outputs": [],
   "source": [
    "import warnings\n",
    "warnings.filterwarnings('ignore')\n",
    "%matplotlib inline\n",
    "import pandas as pd\n",
    "import numpy as np\n",
    "from pyfolio.timeseries import perf_stats"
   ]
  },
  {
   "cell_type": "markdown",
   "metadata": {},
   "source": [
    "read backtest results and generate daily returns dataframe"
   ]
  },
  {
   "cell_type": "code",
   "execution_count": 2,
   "metadata": {
    "collapsed": true
   },
   "outputs": [],
   "source": [
    "results = pd.read_pickle('results_strategy_2a_2008-2018.pickle')"
   ]
  },
  {
   "cell_type": "code",
   "execution_count": 3,
   "metadata": {},
   "outputs": [
    {
     "data": {
      "text/plain": [
       "2018-10-25 20:00:00+00:00   -0.001402\n",
       "2018-10-26 20:00:00+00:00   -0.035565\n",
       "2018-10-29 20:00:00+00:00    0.005456\n",
       "2018-10-30 20:00:00+00:00    0.009715\n",
       "2018-10-31 20:00:00+00:00    0.019382\n",
       "Name: returns, dtype: float64"
      ]
     },
     "execution_count": 3,
     "metadata": {},
     "output_type": "execute_result"
    }
   ],
   "source": [
    "returns = results.returns\n",
    "returns.tail()"
   ]
  },
  {
   "cell_type": "markdown",
   "metadata": {},
   "source": [
    "number of daily return data points:"
   ]
  },
  {
   "cell_type": "code",
   "execution_count": 4,
   "metadata": {},
   "outputs": [
    {
     "data": {
      "text/plain": [
       "2729"
      ]
     },
     "execution_count": 4,
     "metadata": {},
     "output_type": "execute_result"
    }
   ],
   "source": [
    "len(results)"
   ]
  },
  {
   "cell_type": "code",
   "execution_count": 5,
   "metadata": {},
   "outputs": [],
   "source": [
    "returns.reset_index(drop=True, inplace=True)"
   ]
  },
  {
   "cell_type": "markdown",
   "metadata": {},
   "source": [
    "# Generate random paths by resampling from returns (with replacements)"
   ]
  },
  {
   "cell_type": "markdown",
   "metadata": {},
   "source": [
    "change this parameter to get different number of paths"
   ]
  },
  {
   "cell_type": "code",
   "execution_count": 6,
   "metadata": {
    "collapsed": true
   },
   "outputs": [],
   "source": [
    "number_of_paths = 1000000"
   ]
  },
  {
   "cell_type": "code",
   "execution_count": 7,
   "metadata": {},
   "outputs": [],
   "source": [
    "simulated_returns = pd.DataFrame(np.random.choice(returns, size=(len(returns), number_of_paths)))"
   ]
  },
  {
   "cell_type": "code",
   "execution_count": 8,
   "metadata": {},
   "outputs": [
    {
     "data": {
      "text/html": [
       "<div>\n",
       "<style scoped>\n",
       "    .dataframe tbody tr th:only-of-type {\n",
       "        vertical-align: middle;\n",
       "    }\n",
       "\n",
       "    .dataframe tbody tr th {\n",
       "        vertical-align: top;\n",
       "    }\n",
       "\n",
       "    .dataframe thead th {\n",
       "        text-align: right;\n",
       "    }\n",
       "</style>\n",
       "<table border=\"1\" class=\"dataframe\">\n",
       "  <thead>\n",
       "    <tr style=\"text-align: right;\">\n",
       "      <th></th>\n",
       "      <th>0</th>\n",
       "      <th>1</th>\n",
       "      <th>2</th>\n",
       "      <th>3</th>\n",
       "      <th>4</th>\n",
       "      <th>5</th>\n",
       "      <th>6</th>\n",
       "      <th>7</th>\n",
       "      <th>8</th>\n",
       "      <th>9</th>\n",
       "      <th>...</th>\n",
       "      <th>999990</th>\n",
       "      <th>999991</th>\n",
       "      <th>999992</th>\n",
       "      <th>999993</th>\n",
       "      <th>999994</th>\n",
       "      <th>999995</th>\n",
       "      <th>999996</th>\n",
       "      <th>999997</th>\n",
       "      <th>999998</th>\n",
       "      <th>999999</th>\n",
       "    </tr>\n",
       "  </thead>\n",
       "  <tbody>\n",
       "    <tr>\n",
       "      <th>0</th>\n",
       "      <td>0.002459</td>\n",
       "      <td>0.017794</td>\n",
       "      <td>0.005265</td>\n",
       "      <td>0.008659</td>\n",
       "      <td>0.000049</td>\n",
       "      <td>0.003125</td>\n",
       "      <td>0.004895</td>\n",
       "      <td>0.006644</td>\n",
       "      <td>0.006294</td>\n",
       "      <td>-0.008170</td>\n",
       "      <td>...</td>\n",
       "      <td>-0.003065</td>\n",
       "      <td>0.004687</td>\n",
       "      <td>-0.008674</td>\n",
       "      <td>0.006881</td>\n",
       "      <td>-0.004311</td>\n",
       "      <td>0.006606</td>\n",
       "      <td>-0.009724</td>\n",
       "      <td>0.013808</td>\n",
       "      <td>0.001320</td>\n",
       "      <td>0.004550</td>\n",
       "    </tr>\n",
       "    <tr>\n",
       "      <th>1</th>\n",
       "      <td>0.026592</td>\n",
       "      <td>0.005806</td>\n",
       "      <td>0.020487</td>\n",
       "      <td>0.010131</td>\n",
       "      <td>-0.000991</td>\n",
       "      <td>0.029174</td>\n",
       "      <td>0.004012</td>\n",
       "      <td>0.010567</td>\n",
       "      <td>-0.015689</td>\n",
       "      <td>-0.010679</td>\n",
       "      <td>...</td>\n",
       "      <td>0.005053</td>\n",
       "      <td>-0.001947</td>\n",
       "      <td>-0.022032</td>\n",
       "      <td>0.001240</td>\n",
       "      <td>-0.002685</td>\n",
       "      <td>-0.012804</td>\n",
       "      <td>-0.008619</td>\n",
       "      <td>0.000535</td>\n",
       "      <td>-0.005603</td>\n",
       "      <td>0.013388</td>\n",
       "    </tr>\n",
       "    <tr>\n",
       "      <th>2</th>\n",
       "      <td>-0.006160</td>\n",
       "      <td>0.008569</td>\n",
       "      <td>-0.008520</td>\n",
       "      <td>0.006834</td>\n",
       "      <td>-0.016365</td>\n",
       "      <td>-0.005474</td>\n",
       "      <td>-0.003264</td>\n",
       "      <td>0.029017</td>\n",
       "      <td>0.062244</td>\n",
       "      <td>-0.007623</td>\n",
       "      <td>...</td>\n",
       "      <td>-0.018597</td>\n",
       "      <td>-0.006717</td>\n",
       "      <td>0.004703</td>\n",
       "      <td>-0.010916</td>\n",
       "      <td>0.013906</td>\n",
       "      <td>0.009745</td>\n",
       "      <td>0.005055</td>\n",
       "      <td>0.001082</td>\n",
       "      <td>0.028424</td>\n",
       "      <td>0.009462</td>\n",
       "    </tr>\n",
       "    <tr>\n",
       "      <th>3</th>\n",
       "      <td>0.032404</td>\n",
       "      <td>-0.011594</td>\n",
       "      <td>-0.002069</td>\n",
       "      <td>-0.022255</td>\n",
       "      <td>0.000310</td>\n",
       "      <td>0.018461</td>\n",
       "      <td>0.003287</td>\n",
       "      <td>-0.000873</td>\n",
       "      <td>0.009961</td>\n",
       "      <td>0.011477</td>\n",
       "      <td>...</td>\n",
       "      <td>-0.018074</td>\n",
       "      <td>-0.007997</td>\n",
       "      <td>-0.000124</td>\n",
       "      <td>0.002332</td>\n",
       "      <td>-0.018432</td>\n",
       "      <td>-0.031455</td>\n",
       "      <td>0.005291</td>\n",
       "      <td>0.005243</td>\n",
       "      <td>0.018051</td>\n",
       "      <td>0.028561</td>\n",
       "    </tr>\n",
       "    <tr>\n",
       "      <th>4</th>\n",
       "      <td>-0.010104</td>\n",
       "      <td>-0.021625</td>\n",
       "      <td>0.014688</td>\n",
       "      <td>0.000821</td>\n",
       "      <td>-0.028054</td>\n",
       "      <td>0.002908</td>\n",
       "      <td>0.003088</td>\n",
       "      <td>0.005378</td>\n",
       "      <td>0.005955</td>\n",
       "      <td>-0.012208</td>\n",
       "      <td>...</td>\n",
       "      <td>0.002531</td>\n",
       "      <td>0.023335</td>\n",
       "      <td>-0.009073</td>\n",
       "      <td>0.006823</td>\n",
       "      <td>-0.002276</td>\n",
       "      <td>0.016671</td>\n",
       "      <td>-0.029113</td>\n",
       "      <td>0.019479</td>\n",
       "      <td>-0.007136</td>\n",
       "      <td>-0.004337</td>\n",
       "    </tr>\n",
       "  </tbody>\n",
       "</table>\n",
       "<p>5 rows × 1000000 columns</p>\n",
       "</div>"
      ],
      "text/plain": [
       "     0         1         2         3         4         5         6       \\\n",
       "0  0.002459  0.017794  0.005265  0.008659  0.000049  0.003125  0.004895   \n",
       "1  0.026592  0.005806  0.020487  0.010131 -0.000991  0.029174  0.004012   \n",
       "2 -0.006160  0.008569 -0.008520  0.006834 -0.016365 -0.005474 -0.003264   \n",
       "3  0.032404 -0.011594 -0.002069 -0.022255  0.000310  0.018461  0.003287   \n",
       "4 -0.010104 -0.021625  0.014688  0.000821 -0.028054  0.002908  0.003088   \n",
       "\n",
       "     7         8         9         ...       999990    999991    999992  \\\n",
       "0  0.006644  0.006294 -0.008170    ...    -0.003065  0.004687 -0.008674   \n",
       "1  0.010567 -0.015689 -0.010679    ...     0.005053 -0.001947 -0.022032   \n",
       "2  0.029017  0.062244 -0.007623    ...    -0.018597 -0.006717  0.004703   \n",
       "3 -0.000873  0.009961  0.011477    ...    -0.018074 -0.007997 -0.000124   \n",
       "4  0.005378  0.005955 -0.012208    ...     0.002531  0.023335 -0.009073   \n",
       "\n",
       "     999993    999994    999995    999996    999997    999998    999999  \n",
       "0  0.006881 -0.004311  0.006606 -0.009724  0.013808  0.001320  0.004550  \n",
       "1  0.001240 -0.002685 -0.012804 -0.008619  0.000535 -0.005603  0.013388  \n",
       "2 -0.010916  0.013906  0.009745  0.005055  0.001082  0.028424  0.009462  \n",
       "3  0.002332 -0.018432 -0.031455  0.005291  0.005243  0.018051  0.028561  \n",
       "4  0.006823 -0.002276  0.016671 -0.029113  0.019479 -0.007136 -0.004337  \n",
       "\n",
       "[5 rows x 1000000 columns]"
      ]
     },
     "execution_count": 8,
     "metadata": {},
     "output_type": "execute_result"
    }
   ],
   "source": [
    "simulated_returns.head()"
   ]
  },
  {
   "cell_type": "markdown",
   "metadata": {},
   "source": [
    "# Quick visual on original vs. simulated distribution"
   ]
  },
  {
   "cell_type": "markdown",
   "metadata": {},
   "source": [
    "actual distribution"
   ]
  },
  {
   "cell_type": "code",
   "execution_count": 9,
   "metadata": {},
   "outputs": [
    {
     "data": {
      "image/png": "[encoded data removed]",
      "text/plain": [
       "<Figure size 1008x216 with 1 Axes>"
      ]
     },
     "metadata": {
      "needs_background": "light"
     },
     "output_type": "display_data"
    }
   ],
   "source": [
    "returns.hist(bins=50, figsize=(14,3));"
   ]
  },
  {
   "cell_type": "markdown",
   "metadata": {},
   "source": [
    "simulated distribution"
   ]
  },
  {
   "cell_type": "code",
   "execution_count": null,
   "metadata": {},
   "outputs": [],
   "source": [
    "pd.Series(simulated_returns.values.flatten()).hist(bins=50, figsize=(14,3));"
   ]
  },
  {
   "cell_type": "markdown",
   "metadata": {},
   "source": [
    "# Stats for actual returns"
   ]
  },
  {
   "cell_type": "code",
   "execution_count": null,
   "metadata": {},
   "outputs": [],
   "source": [
    "a=perf_stats(returns)\n",
    "a"
   ]
  },
  {
   "cell_type": "markdown",
   "metadata": {},
   "source": [
    "# Stats for simulated returns (median, max, min)"
   ]
  },
  {
   "cell_type": "code",
   "execution_count": null,
   "metadata": {},
   "outputs": [],
   "source": [
    "ratios_for_paths = pd.DataFrame([perf_stats(x[1]) for x in simulated_returns.T.iterrows()])"
   ]
  },
  {
   "cell_type": "markdown",
   "metadata": {},
   "source": [
    "median"
   ]
  },
  {
   "cell_type": "code",
   "execution_count": null,
   "metadata": {},
   "outputs": [],
   "source": [
    "ratios_for_paths.median().T"
   ]
  },
  {
   "cell_type": "markdown",
   "metadata": {},
   "source": [
    "max"
   ]
  },
  {
   "cell_type": "code",
   "execution_count": null,
   "metadata": {},
   "outputs": [],
   "source": [
    "ratios_for_paths.max().T"
   ]
  },
  {
   "cell_type": "markdown",
   "metadata": {},
   "source": [
    "min"
   ]
  },
  {
   "cell_type": "code",
   "execution_count": null,
   "metadata": {},
   "outputs": [],
   "source": [
    "ratios_for_paths.min().T"
   ]
  },
  {
   "cell_type": "markdown",
   "metadata": {},
   "source": [
    "# Probability that max drawdown less than x"
   ]
  },
  {
   "cell_type": "code",
   "execution_count": null,
   "metadata": {},
   "outputs": [],
   "source": [
    "x = -.4\n",
    "len(ratios_for_paths[ratios_for_paths['Max drawdown'] < x]) / number_of_paths"
   ]
  },
  {
   "cell_type": "markdown",
   "metadata": {},
   "source": [
    "# Probability that Sharpe lower than y"
   ]
  },
  {
   "cell_type": "code",
   "execution_count": null,
   "metadata": {},
   "outputs": [],
   "source": [
    "y = .6\n",
    "len(ratios_for_paths[ratios_for_paths['Sharpe ratio'] < .6]) / number_of_paths"
   ]
  },
  {
   "cell_type": "markdown",
   "metadata": {},
   "source": [
    "# Probability that annual return less than z"
   ]
  },
  {
   "cell_type": "code",
   "execution_count": null,
   "metadata": {},
   "outputs": [],
   "source": [
    "z = .05\n",
    "len(ratios_for_paths[ratios_for_paths['Annual return'] < z]) / number_of_paths"
   ]
  },
  {
   "cell_type": "markdown",
   "metadata": {},
   "source": [
    "# Some distributions"
   ]
  },
  {
   "cell_type": "markdown",
   "metadata": {},
   "source": [
    "Max drawdown"
   ]
  },
  {
   "cell_type": "code",
   "execution_count": null,
   "metadata": {},
   "outputs": [],
   "source": [
    "ratios_for_paths['Max drawdown'].hist(bins=50, figsize=(14,3));"
   ]
  },
  {
   "cell_type": "markdown",
   "metadata": {},
   "source": [
    "Sharpe"
   ]
  },
  {
   "cell_type": "code",
   "execution_count": null,
   "metadata": {},
   "outputs": [],
   "source": [
    "ratios_for_paths['Sharpe ratio'].hist(bins=50, figsize=(14,3));"
   ]
  },
  {
   "cell_type": "markdown",
   "metadata": {},
   "source": [
    "Annual return"
   ]
  },
  {
   "cell_type": "code",
   "execution_count": null,
   "metadata": {},
   "outputs": [],
   "source": [
    "ratios_for_paths['Annual return'].hist(bins=50, figsize=(14,3));"
   ]
  },
  {
   "cell_type": "code",
   "execution_count": null,
   "metadata": {
    "collapsed": true
   },
   "outputs": [],
   "source": []
  }
 ],
 "metadata": {
  "kernelspec": {
   "display_name": "zipline",
   "language": "python",
   "name": "zipline"
  },
  "language_info": {
   "codemirror_mode": {
    "name": "ipython",
    "version": 3
   },
   "file_extension": ".py",
   "mimetype": "text/x-python",
   "name": "python",
   "nbconvert_exporter": "python",
   "pygments_lexer": "ipython3",
   "version": "3.5.6"
  }
 },
 "nbformat": 4,
 "nbformat_minor": 2
}
